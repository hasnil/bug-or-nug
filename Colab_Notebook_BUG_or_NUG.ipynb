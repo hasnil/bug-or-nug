{
  "nbformat": 4,
  "nbformat_minor": 0,
  "metadata": {
    "colab": {
      "provenance": [],
      "collapsed_sections": [],
      "authorship_tag": "ABX9TyPrptsfqweDO/DgVhCaA/C9",
      "include_colab_link": true
    },
    "kernelspec": {
      "name": "python3",
      "display_name": "Python 3"
    },
    "language_info": {
      "name": "python"
    },
    "accelerator": "GPU"
  },
  "cells": [
    {
      "cell_type": "markdown",
      "metadata": {
        "id": "view-in-github",
        "colab_type": "text"
      },
      "source": [
        "<a href=\"https://colab.research.google.com/github/hasnil/bug-or-nug/blob/main/Colab_Notebook_BUG_or_NUG.ipynb\" target=\"_parent\"><img src=\"https://colab.research.google.com/assets/colab-badge.svg\" alt=\"Open In Colab\"/></a>"
      ]
    },
    {
      "cell_type": "code",
      "source": [
        "from google.colab import drive\n",
        "drive.mount('/content/drive')"
      ],
      "metadata": {
        "colab": {
          "base_uri": "https://localhost:8080/"
        },
        "id": "yQH1aM1WAge8",
        "outputId": "bf4bc42c-cbeb-42b2-8e7e-db270be63f65"
      },
      "execution_count": 1,
      "outputs": [
        {
          "output_type": "stream",
          "name": "stdout",
          "text": [
            "Mounted at /content/drive\n"
          ]
        }
      ]
    },
    {
      "cell_type": "markdown",
      "source": [
        "# 0. Importing Modules and Installations"
      ],
      "metadata": {
        "id": "2s50mTUlOnJ6"
      }
    },
    {
      "cell_type": "code",
      "source": [
        "!apt-get install openjdk-8-jdk-headless -qq > /dev/null\n",
        "import os\n",
        "os.environ[\"JAVA_HOME\"] = \"/usr/lib/jvm/java-8-openjdk-amd64\"\n",
        "!update-alternatives --set java /usr/lib/jvm/java-8-openjdk-amd64/jre/bin/java\n",
        "\n",
        "!wget -q https://dlcdn.apache.org/spark/spark-3.3.0/spark-3.3.0-bin-hadoop3.tgz\n",
        "!tar xf spark-3.3.0-bin-hadoop3.tgz\n",
        "!pip install -q findspark\n",
        "os.environ[\"SPARK_HOME\"] = \"/content/spark-3.3.0-bin-hadoop3\""
      ],
      "metadata": {
        "colab": {
          "base_uri": "https://localhost:8080/"
        },
        "id": "dP9dg-mk3pD2",
        "outputId": "4387fe39-a85f-4793-d68a-51d49b86490f"
      },
      "execution_count": 2,
      "outputs": [
        {
          "output_type": "stream",
          "name": "stdout",
          "text": [
            "update-alternatives: using /usr/lib/jvm/java-8-openjdk-amd64/jre/bin/java to provide /usr/bin/java (java) in manual mode\n"
          ]
        }
      ]
    },
    {
      "cell_type": "code",
      "execution_count": null,
      "metadata": {
        "id": "5vGzWU8jAWuB"
      },
      "outputs": [],
      "source": [
        "%%shell \n",
        "pip install nltk\n",
        "pip install --upgrade pip\n",
        "python -m nltk.downloader all\n",
        "pip install bs4\n",
        "pip install mlflow\n",
        "pip install contractions\n",
        "pip install spark-stratifier\n",
        "pip install pyspark==3.3.0"
      ]
    },
    {
      "cell_type": "code",
      "source": [
        "from nltk.stem.porter import *\n",
        "from pyspark.sql.functions import col, lower, trim, regexp_replace, concat_ws, udf, lit, array, row_number\n",
        "from pyspark.ml.feature import RegexTokenizer, StopWordsRemover, CountVectorizer\n",
        "from bs4 import BeautifulSoup\n",
        "import contractions\n",
        "from pyspark.sql import Row\n",
        "from collections import Counter\n",
        "from pyspark.sql.types import StringType, ArrayType, FloatType, IntegerType, StructType, StructField\n",
        "import pandas\n",
        "import numpy\n",
        "from pyspark.ml.classification import NaiveBayes\n",
        "from pyspark.ml.classification import LinearSVC\n",
        "from pyspark.ml.classification import RandomForestClassifier\n",
        "from pyspark.ml.evaluation import MulticlassClassificationEvaluator\n",
        "from pyspark.sql.functions import udf\n",
        "from pyspark.ml.feature import StringIndexer\n",
        "from pyspark.ml.feature import IndexToString\n",
        "from pyspark.ml.tuning import CrossValidator, ParamGridBuilder\n",
        "from pyspark.ml import Pipeline\n",
        "from pyspark.ml.evaluation import BinaryClassificationEvaluator\n",
        "from pyspark.ml.feature import CountVectorizer\n",
        "from pyspark.ml.feature import Word2Vec\n",
        "from pyspark.ml.feature import VectorAssembler\n",
        "from pyspark.ml.feature import Normalizer\n",
        "from spark_stratifier import StratifiedCrossValidator\n",
        "from pyspark.ml.feature import HashingTF, IDF\n",
        "from pyspark.sql import SparkSession\n",
        "import findspark"
      ],
      "metadata": {
        "id": "AHbzsRwtCIMB"
      },
      "execution_count": 4,
      "outputs": []
    },
    {
      "cell_type": "code",
      "source": [
        "findspark.init()\n",
        "\n",
        "spark = SparkSession.builder\\\n",
        "        .master(\"local\")\\\n",
        "        .appName(\"Colab\")\\\n",
        "        .config('spark.ui.port', '4050')\\\n",
        "        .getOrCreate()\n",
        "\n",
        "spark"
      ],
      "metadata": {
        "colab": {
          "base_uri": "https://localhost:8080/",
          "height": 219
        },
        "id": "meBGbDVY1oZI",
        "outputId": "16fc2ad4-7237-4b0d-96a2-adb97f62568e"
      },
      "execution_count": 5,
      "outputs": [
        {
          "output_type": "execute_result",
          "data": {
            "text/plain": [
              "<pyspark.sql.session.SparkSession at 0x7fe0c67fdc10>"
            ],
            "text/html": [
              "\n",
              "            <div>\n",
              "                <p><b>SparkSession - in-memory</b></p>\n",
              "                \n",
              "        <div>\n",
              "            <p><b>SparkContext</b></p>\n",
              "\n",
              "            <p><a href=\"http://62fe4606d39e:4050\">Spark UI</a></p>\n",
              "\n",
              "            <dl>\n",
              "              <dt>Version</dt>\n",
              "                <dd><code>v3.3.0</code></dd>\n",
              "              <dt>Master</dt>\n",
              "                <dd><code>local</code></dd>\n",
              "              <dt>AppName</dt>\n",
              "                <dd><code>Colab</code></dd>\n",
              "            </dl>\n",
              "        </div>\n",
              "        \n",
              "            </div>\n",
              "        "
            ]
          },
          "metadata": {},
          "execution_count": 5
        }
      ]
    },
    {
      "cell_type": "markdown",
      "source": [
        "# 1. Examining Data"
      ],
      "metadata": {
        "id": "_JIjBZxfCROM"
      }
    },
    {
      "cell_type": "markdown",
      "source": [
        "## 1.1 Examining Original Dataset"
      ],
      "metadata": {
        "id": "9dar3kpBCWZI"
      }
    },
    {
      "cell_type": "code",
      "source": [
        "file_location = 'https://raw.githubusercontent.com/hasnil/bug-or-nug/1b30a4efae301aa6c13eebbad339f14e11a1dc74/Data%20As%20CSVs/OriginalPaperDataTypeColumnFixed.csv'\n",
        "df_csv = pandas.read_csv(file_location)\n",
        "temp_file_location = '/content/drive/My Drive/Colab Notebooks/OriginalPaperDataTypeColumnFixed.csv'\n",
        "df_csv.to_csv(temp_file_location)\n",
        "\n",
        "\n",
        "df_issues_original = spark.read.option(\"header\", True).csv(temp_file_location).cache()\n",
        "\n",
        "#Trim CLASSIFIED column\n",
        "df_issues_original = df_issues_original.withColumn('CLASSIFIED', trim(df_issues_original.CLASSIFIED))"
      ],
      "metadata": {
        "id": "qeCZ1nL5COWZ"
      },
      "execution_count": 6,
      "outputs": []
    },
    {
      "cell_type": "code",
      "source": [
        "num_bug = df_issues_original.filter(col('CLASSIFIED') == 'BUG').count()\n",
        "num_nug = df_issues_original.filter(col('CLASSIFIED') == 'NUG').count()\n",
        " \n",
        "print('Total number of records:', df_issues_original.count())\n",
        "print('Total number of bugs:', num_bug)\n",
        "print('Total number of nugs:', num_nug)"
      ],
      "metadata": {
        "colab": {
          "base_uri": "https://localhost:8080/"
        },
        "id": "M6mgg50b6VUj",
        "outputId": "354d1cd2-4e62-45c1-c8c5-7e6558ffd518"
      },
      "execution_count": 7,
      "outputs": [
        {
          "output_type": "stream",
          "name": "stdout",
          "text": [
            "Total number of records: 5589\n",
            "Total number of bugs: 1940\n",
            "Total number of nugs: 3649\n"
          ]
        }
      ]
    },
    {
      "cell_type": "code",
      "source": [
        "def print_project_data_info(df, id_string, project_name):\n",
        "  df_specific_project = df.filter(col(\"ID\").contains(id_string))\n",
        "  num_bugs = df_specific_project.filter(col('CLASSIFIED') == 'BUG').count()\n",
        "  num_nugs = df_specific_project.filter(col('CLASSIFIED') == 'NUG').count()\n",
        "  num_missing_labels = df_specific_project.filter(col(\"Type\").isNull()).count()\n",
        "  num_misclassified_as_nug = df_specific_project.filter(col(\"Type\")==\"NUG\").filter(col(\"CLASSIFIED\")==\"BUG\").count()\n",
        "  num_misclassified_as_bug = df_specific_project.filter(col(\"Type\")==\"BUG\").filter(col(\"CLASSIFIED\")==\"NUG\").count()\n",
        "  total_error_percent = (num_missing_labels + num_misclassified_as_nug + num_misclassified_as_bug)/df_specific_project.count()\n",
        "  \n",
        "  print('Number of', project_name, 'reports:', df_specific_project.count())\n",
        "  print(project_name, 'number of bugs:', num_bugs)\n",
        "  print(project_name,'number of nugs:', num_nugs)\n",
        "  print('Number of', project_name, 'missing labels:', num_missing_labels)\n",
        "  print('Number of', project_name, 'misclassified as NUG', num_misclassified_as_nug)\n",
        "  print('Number of', project_name, 'misclassified as BUG', num_misclassified_as_bug)\n",
        "  print(project_name, \"total error percent:\", total_error_percent)\n",
        "  print()\n",
        " \n",
        "  \n",
        "print_project_data_info(df_issues_original, \"HTTPCLIENT\", \"HTTPCLIENT\")\n",
        "print_project_data_info(df_issues_original, \"JCR\", \"JACKRABBIT\")\n",
        "print_project_data_info(df_issues_original, \"LUCENE\", \"LUCENE\")"
      ],
      "metadata": {
        "colab": {
          "base_uri": "https://localhost:8080/"
        },
        "id": "6bjGDUuK9Q15",
        "outputId": "33db5c17-aa4d-4ad9-fd5b-30f0a8c15cc5"
      },
      "execution_count": 8,
      "outputs": [
        {
          "output_type": "stream",
          "name": "stdout",
          "text": [
            "Number of HTTPCLIENT reports: 745\n",
            "HTTPCLIENT number of bugs: 305\n",
            "HTTPCLIENT number of nugs: 440\n",
            "Number of HTTPCLIENT missing labels: 14\n",
            "Number of HTTPCLIENT misclassified as NUG 6\n",
            "Number of HTTPCLIENT misclassified as BUG 171\n",
            "HTTPCLIENT total error percent: 0.2563758389261745\n",
            "\n",
            "Number of JACKRABBIT reports: 2402\n",
            "JACKRABBIT number of bugs: 938\n",
            "JACKRABBIT number of nugs: 1464\n",
            "Number of JACKRABBIT missing labels: 74\n",
            "Number of JACKRABBIT misclassified as NUG 26\n",
            "Number of JACKRABBIT misclassified as BUG 302\n",
            "JACKRABBIT total error percent: 0.16736053288925895\n",
            "\n",
            "Number of LUCENE reports: 2442\n",
            "LUCENE number of bugs: 697\n",
            "LUCENE number of nugs: 1745\n",
            "Number of LUCENE missing labels: 61\n",
            "Number of LUCENE misclassified as NUG 19\n",
            "Number of LUCENE misclassified as BUG 358\n",
            "LUCENE total error percent: 0.17936117936117937\n",
            "\n"
          ]
        }
      ]
    },
    {
      "cell_type": "code",
      "source": [
        "def get_top_10_words_preliminary(df, label):\n",
        "  all_words_for_reports_string = df.filter(col('CLASSIFIED') == label).select('SUMMARY').rdd.flatMap(lambda x: x).collect()\n",
        "  temp = dict(Counter(\" \".join(all_words_for_reports_string).split()))\n",
        "  word_count = sorted(temp, key = temp.get, reverse = True)\n",
        "  return word_count[0:10]\n",
        "  \n",
        "print(\"Top 10 Terms for BUGs\", get_top_10_words_preliminary(df_issues_original, \"BUG\"))\n",
        "print(\"Top 10 Terms for NUGs\", get_top_10_words_preliminary(df_issues_original, \"NUG\"))"
      ],
      "metadata": {
        "colab": {
          "base_uri": "https://localhost:8080/"
        },
        "id": "dlJyFHrS-OdP",
        "outputId": "5e9931b4-15f1-4a8a-e7f7-478436e53133"
      },
      "execution_count": 9,
      "outputs": [
        {
          "output_type": "stream",
          "name": "stdout",
          "text": [
            "Top 10 Terms for BUGs ['in', 'not', 'with', 'the', 'to', 'when', 'a', 'of', 'is', 'does']\n",
            "Top 10 Terms for NUGs ['to', 'in', 'for', 'of', 'and', 'the', 'should', 'a', 'Add', 'not']\n"
          ]
        }
      ]
    },
    {
      "cell_type": "markdown",
      "source": [
        "## 1.2 Examining Newly Added Data"
      ],
      "metadata": {
        "id": "I-QYPQoj-UEY"
      }
    },
    {
      "cell_type": "code",
      "source": [
        "file_location = 'https://raw.githubusercontent.com/hasnil/bug-or-nug/main/Data%20As%20CSVs/AllNewDataCollected.csv'\n",
        "df_csv = pandas.read_csv(file_location)\n",
        "temp_file_location = '/content/drive/My Drive/Colab Notebooks/AllNewDataCollected.csv'\n",
        "df_csv.to_csv(temp_file_location)\n",
        "\n",
        "\n",
        "df_new_issues = spark.read.option(\"header\", True).csv(temp_file_location).cache()\n",
        " \n",
        "#Trim CLASSIFIED column\n",
        "df_new_issues = df_new_issues.withColumn('CLASSIFIED', trim(df_new_issues.CLASSIFIED))"
      ],
      "metadata": {
        "id": "WJULUxx--Ykj"
      },
      "execution_count": 10,
      "outputs": []
    },
    {
      "cell_type": "code",
      "source": [
        "# Check for any null summary\n",
        "df_null = df_new_issues.filter(col(\"SUMMARY\").isNull())\n",
        "print(df_null.count())"
      ],
      "metadata": {
        "colab": {
          "base_uri": "https://localhost:8080/"
        },
        "id": "00zYm9Nm_NJx",
        "outputId": "66faed55-bcb9-4804-d7eb-95af0bb5dba7"
      },
      "execution_count": 11,
      "outputs": [
        {
          "output_type": "stream",
          "name": "stdout",
          "text": [
            "0\n"
          ]
        }
      ]
    },
    {
      "cell_type": "code",
      "source": [
        "num_bug = df_new_issues.filter(col('CLASSIFIED') == 'BUG').count()\n",
        "num_nug = df_new_issues.filter(col('CLASSIFIED') == 'NUG').count()\n",
        " \n",
        "print('Total number of new records:', df_new_issues.count())\n",
        "print('Number of bugs in new data:', num_bug)\n",
        "print('Number of nugs in new data:', num_nug)\n",
        "print()\n",
        " \n",
        "print(\"Top 10 Terms for BUGs\", get_top_10_words_preliminary(df_new_issues, \"BUG\"))\n",
        "print(\"Top 10 Terms for NUGs\", get_top_10_words_preliminary(df_new_issues, \"NUG\"))"
      ],
      "metadata": {
        "colab": {
          "base_uri": "https://localhost:8080/"
        },
        "id": "Z513zWIN_PaE",
        "outputId": "3814abca-1018-496e-c15e-acb1c020dbd9"
      },
      "execution_count": 12,
      "outputs": [
        {
          "output_type": "stream",
          "name": "stdout",
          "text": [
            "Total number of new records: 800\n",
            "Number of bugs in new data: 404\n",
            "Number of nugs in new data: 396\n",
            "\n",
            "Top 10 Terms for BUGs ['in', 'to', 'with', 'on', 'the', 'when', 'not', 'is', 'for', 'a']\n",
            "Top 10 Terms for NUGs ['for', 'to', 'in', 'and', 'the', 'of', 'Add', 'a', 'on', 'support']\n"
          ]
        }
      ]
    },
    {
      "cell_type": "code",
      "source": [
        "df_mongodb = df_new_issues.filter(col('ID').contains('SERVER'))\n",
        "df_spark = df_new_issues.filter(col('ID').contains('SPARK'))\n",
        "df_wildfly = df_new_issues.filter(col('ID').contains('WFLY'))\n",
        " \n",
        "print_project_data_info(df_new_issues, \"SERVER\", \"MongoDB\")\n",
        "print_project_data_info(df_new_issues, \"SPARK\", \"Apache Spark\")\n",
        "print_project_data_info(df_new_issues, \"WFLY\", \"WildFly\")"
      ],
      "metadata": {
        "colab": {
          "base_uri": "https://localhost:8080/"
        },
        "id": "i-bhBoyz_Uur",
        "outputId": "d0f3dfa3-d30f-4d4a-d94b-c46275fda7e3"
      },
      "execution_count": 13,
      "outputs": [
        {
          "output_type": "stream",
          "name": "stdout",
          "text": [
            "Number of MongoDB reports: 342\n",
            "MongoDB number of bugs: 157\n",
            "MongoDB number of nugs: 185\n",
            "Number of MongoDB missing labels: 0\n",
            "Number of MongoDB misclassified as NUG 6\n",
            "Number of MongoDB misclassified as BUG 24\n",
            "MongoDB total error percent: 0.08771929824561403\n",
            "\n",
            "Number of Apache Spark reports: 307\n",
            "Apache Spark number of bugs: 144\n",
            "Apache Spark number of nugs: 163\n",
            "Number of Apache Spark missing labels: 0\n",
            "Number of Apache Spark misclassified as NUG 4\n",
            "Number of Apache Spark misclassified as BUG 11\n",
            "Apache Spark total error percent: 0.048859934853420196\n",
            "\n",
            "Number of WildFly reports: 151\n",
            "WildFly number of bugs: 103\n",
            "WildFly number of nugs: 48\n",
            "Number of WildFly missing labels: 0\n",
            "Number of WildFly misclassified as NUG 0\n",
            "Number of WildFly misclassified as BUG 11\n",
            "WildFly total error percent: 0.0728476821192053\n",
            "\n"
          ]
        }
      ]
    },
    {
      "cell_type": "markdown",
      "source": [
        "## 1.3 Combined Data"
      ],
      "metadata": {
        "id": "zgCX6ZMA_W7f"
      }
    },
    {
      "cell_type": "code",
      "source": [
        "df_issues_original = df_issues_original.select('ID','CLASSIFIED','TYPE','SUMMARY')\n",
        "df_original_with_spark = df_issues_original.union(df_spark.select('ID','CLASSIFIED','TYPE','SUMMARY'))\n",
        "df_original_with_mongodb = df_issues_original.union(df_mongodb.select('ID','CLASSIFIED','TYPE','SUMMARY'))\n",
        "df_original_with_wildfly = df_issues_original.union(df_wildfly.select('ID','CLASSIFIED','TYPE','SUMMARY'))\n",
        " \n",
        "df_all_combined = df_issues_original.union(df_spark.select('ID','CLASSIFIED','TYPE','SUMMARY')).union(df_mongodb.select('ID','CLASSIFIED','TYPE','SUMMARY')).union(df_wildfly.select('ID','CLASSIFIED','TYPE','SUMMARY'))"
      ],
      "metadata": {
        "id": "jc51505x_aTN"
      },
      "execution_count": 14,
      "outputs": []
    },
    {
      "cell_type": "markdown",
      "source": [
        "# 2. Data Labeling Quality Measurement"
      ],
      "metadata": {
        "id": "ese-FCl-_6lt"
      }
    },
    {
      "cell_type": "markdown",
      "source": [
        "## 2.1 Fleiss Kappa"
      ],
      "metadata": {
        "id": "gzdSYKaGAAt2"
      }
    },
    {
      "cell_type": "code",
      "source": [
        "file_location = \"https://raw.githubusercontent.com/hasnil/bug-or-nug/main/Data%20As%20CSVs/MemberRatings.csv\"\n",
        "df_csv = pandas.read_csv(file_location)\n",
        "temp_file_location = '/content/drive/My Drive/Colab Notebooks/MemberRatings.csv'\n",
        "df_csv.to_csv(temp_file_location)\n",
        "\n",
        "df_ratings = spark.read.option(\"header\", True).csv(temp_file_location).cache()\n",
        "df_ratings = df_ratings.drop(\"_c0\")"
      ],
      "metadata": {
        "id": "ueWvOStA__Q5"
      },
      "execution_count": 15,
      "outputs": []
    },
    {
      "cell_type": "code",
      "source": [
        "# Fleiss kappa, an adaptation of cohen kappa is used \n",
        "pandas_df = df_ratings.toPandas()\n",
        "pandas_df = pandas_df.replace('BUG',1, regex=True)\n",
        "pandas_df = pandas_df.replace('NUG',0, regex=True)\n",
        " \n",
        "temp = pandas.DataFrame(0, index=numpy.arange(len(pandas_df)), columns=[0,1])\n",
        " \n",
        "for i in range(len(pandas_df)):\n",
        "  for j in range(3):\n",
        "    if(pandas_df.iloc[i][j] == 0):\n",
        "      temp.iloc[i][0] += 1\n",
        "    if(pandas_df.iloc[i][j] == 1):\n",
        "      temp.iloc[i][1] += 1\n",
        " \n",
        "kappa_df = temp\n",
        " \n",
        "number_of_raters = 3\n",
        "number_of_categories = 2\n",
        "number_of_subjects = len(kappa_df)\n",
        "sum_of_all_cells = kappa_df.to_numpy().sum()\n",
        "small_p = kappa_df.sum(axis=0)/sum_of_all_cells\n",
        "big_p = 1/(number_of_raters*(number_of_raters - 1))*((kappa_df**2).sum(axis=1) - number_of_raters)\n",
        "big_p_sum = big_p.sum()\n",
        "term_1 = big_p_sum/number_of_subjects\n",
        "term_2 = (small_p**2).sum()\n",
        "fleiss_kappa = (term_1 - term_2)/(1 - term_2)\n",
        "print('The value for Fleiss Kappa is', fleiss_kappa)\n"
      ],
      "metadata": {
        "colab": {
          "base_uri": "https://localhost:8080/"
        },
        "id": "LfD5bb4_AZpL",
        "outputId": "63215cf4-65e4-480f-b9f0-458225effaf3"
      },
      "execution_count": 16,
      "outputs": [
        {
          "output_type": "stream",
          "name": "stdout",
          "text": [
            "The value for Fleiss Kappa is 0.9549954995499551\n"
          ]
        }
      ]
    },
    {
      "cell_type": "markdown",
      "source": [
        "## 2.2 Percentage Agreement"
      ],
      "metadata": {
        "id": "Dk2OTJwdCv2d"
      }
    },
    {
      "cell_type": "code",
      "source": [
        "# File already modified to have 1 for bug and 0 for nug\n",
        "file_location = \"https://raw.githubusercontent.com/hasnil/bug-or-nug/main/Data%20As%20CSVs/BinaryMemberRatings.csv\"\n",
        "df_csv = pandas.read_csv(file_location)\n",
        "temp_file_location = '/content/drive/My Drive/Colab Notebooks/BinaryMemberRatings.csv'\n",
        "df_csv.to_csv(temp_file_location)\n",
        "\n",
        "df_ratings_bin = spark.read.option(\"header\", True).csv(temp_file_location)\n",
        "df_ratings_bin = df_ratings_bin.drop(\"_c0\")"
      ],
      "metadata": {
        "id": "QX-nTL_aCyNb"
      },
      "execution_count": 17,
      "outputs": []
    },
    {
      "cell_type": "code",
      "source": [
        "# Percentage agreement# is calculated in this way\n",
        "pandas_df = df_ratings_bin.toPandas().astype(int)\n",
        "pandas_df['Diff b/w Alan and Aaron'] = pandas_df['Alan Ratings'] - pandas_df['Aaron Ratings']\n",
        "pandas_df['Diff b/w Alan and Lotfi'] = pandas_df['Lotfi Ratings'] - pandas_df['Alan Ratings']\n",
        "pandas_df['Diff b/w Aaron and Lotfi'] = pandas_df['Lotfi Ratings'] - pandas_df['Aaron Ratings']\n",
        "count_first = len(pandas_df['Diff b/w Alan and Aaron'][pandas_df['Diff b/w Alan and Aaron'] == 0])\n",
        "count_second = len(pandas_df['Diff b/w Alan and Lotfi'][pandas_df['Diff b/w Alan and Lotfi'] == 0])\n",
        "count_third = len(pandas_df['Diff b/w Aaron and Lotfi'][pandas_df['Diff b/w Alan and Lotfi'] == 0])\n",
        "total_ratings = len(pandas_df)\n",
        "percentage_agreement = 100*(count_first/total_ratings + count_second/total_ratings + count_third/total_ratings)/3\n",
        "print('The overall percentage agreement is', percentage_agreement)"
      ],
      "metadata": {
        "colab": {
          "base_uri": "https://localhost:8080/"
        },
        "id": "xUyrC3EYC3dq",
        "outputId": "ece7477f-2905-4b3c-abec-628803a3968b"
      },
      "execution_count": 18,
      "outputs": [
        {
          "output_type": "stream",
          "name": "stdout",
          "text": [
            "The overall percentage agreement is 97.875\n"
          ]
        }
      ]
    },
    {
      "cell_type": "code",
      "source": [
        "alan_aaron_agreement = df_ratings_bin.filter(col('Alan Ratings') == col('Aaron Ratings')).count()/df_ratings.count()\n",
        "alan_lotfi_agreement = df_ratings_bin.filter(col('Alan Ratings') == col('Lotfi Ratings')).count()/df_ratings.count()\n",
        "aaron_lotfi_agreement = df_ratings_bin.filter(col('Aaron Ratings') == col('Lotfi Ratings')).count()/df_ratings.count()\n",
        " \n",
        "print('The percentage agreement between Alan and Aaron is', alan_aaron_agreement*100, \"%\")\n",
        "print('The percentage agreement between Alan and Lotfi is', alan_lotfi_agreement*100, \"%\")\n",
        "print('The percentage agreement between Aaron and Lotfi is', aaron_lotfi_agreement*100, \"%\")"
      ],
      "metadata": {
        "colab": {
          "base_uri": "https://localhost:8080/"
        },
        "id": "0mJHJoSdGM5o",
        "outputId": "49b45844-f41c-496b-cdc3-c18466505031"
      },
      "execution_count": 19,
      "outputs": [
        {
          "output_type": "stream",
          "name": "stdout",
          "text": [
            "The percentage agreement between Alan and Aaron is 97.375 %\n",
            "The percentage agreement between Alan and Lotfi is 98.125 %\n",
            "The percentage agreement between Aaron and Lotfi is 97.75 %\n"
          ]
        }
      ]
    },
    {
      "cell_type": "markdown",
      "source": [
        "# 3. Data Preprocessing"
      ],
      "metadata": {
        "id": "duQupGOwGSHE"
      }
    },
    {
      "cell_type": "markdown",
      "source": [
        "## 3.1 Text Preprocessing Functions"
      ],
      "metadata": {
        "id": "iRst0rXSGdZB"
      }
    },
    {
      "cell_type": "code",
      "source": [
        "def extractHTML(i, columnName, columnsList): \n",
        "    \"\"\" \n",
        "    Used to extract words from textual contents with html tags\n",
        "    \"\"\"\n",
        "    placement = columnsList.index(columnName)\n",
        "    \n",
        "    row = i.asDict()\n",
        "    soup = BeautifulSoup(row[columnName])\n",
        "    \n",
        "    for tag in soup.find_all('code'):\n",
        "      tag.decompose()\n",
        " \n",
        "    for tag in soup.find_all('pre'):\n",
        "      tag.decompose()\n",
        " \n",
        "    for tag in soup.find_all('a'):\n",
        "      tag.decompose()\n",
        " \n",
        "    t = soup.get_text().split()\n",
        " \n",
        "    for i in range(len(t)):\n",
        "      t[i] = contractions.fix(t[i])\n",
        " \n",
        "    t = \" \".join(t)\n",
        "    \n",
        "    return_list = []\n",
        "    \n",
        "    for cn in columnsList:\n",
        "      if cn == columnName:\n",
        "        return_list.append(t)\n",
        "      else:\n",
        "        return_list.append(row[cn])\n",
        "    return return_list\n",
        "   \n",
        "def remove_noise(df_column):\n",
        "    \"\"\"\n",
        "    This function may be used to clean more noise from textual contents\n",
        "    \"\"\"\n",
        "    df_column = lower(df_column) # Makes text lowercase\n",
        "    df_column = regexp_replace(df_column, \"(https?\\://)\\S+\", \" \") # Removes remaining links\n",
        "    df_column = regexp_replace(df_column, \"[^a-zA-Z0-9\\\\s]\", \" \") # Keeps only alphanumerics\n",
        "    df_column = regexp_replace(df_column, \"[\\d-]\", \" \") # Removes digits\n",
        "    df_column = regexp_replace(df_column,'\\\\p{Punct}',\" \") # Removes punctuation\n",
        "    \n",
        "    return trim(df_column)\n",
        "  \n",
        "#Modified list of stop words used for removal\n",
        "list_of_stop_words = [\"i\", \"me\", \"my\", \"myself\", \"we\", \"our\", \"ours\", \"ourselves\", \"you\", \"your\", \n",
        " \"yours\", \"yourself\", \"yourselves\", \"he\", \"him\", \"his\", \"himself\", \"she\", \"her\", \"hers\", \"herself\", \"it\", \"its\", \"itself\", \"they\", \n",
        " \"them\", \"their\", \"theirs\", \"themselves\", \"who\", \"whom\", \"this\", \"that\", \"these\", \"those\", \"am\", \"is\", \"are\", \"was\", \"were\", \n",
        " \"be\", \"been\", \"being\", \"have\", \"has\", \"had\", \"having\", \"do\", \"does\", \"did\", \"doing\", \"i'm\", \"you're\", \"he's\", \"she's\", \n",
        " \"it's\", \"we're\", \"they're\", \"i've\", \"you've\", \"we've\", \"they've\", \"i'd\", \"you'd\", \"he'd\", \"she'd\", \"we'd\", \"they'd\", \"i'll\", \"you'll\", \n",
        " \"he'll\", \"she'll\", \"we'll\", \"they'll\", \"let's\", \"that's\", \"who's\", \"what's\", \"here's\", \"there's\", \"when's\", \"where's\", \"why's\", \"how's\", \"a\", \n",
        " \"an\", \"the\", \"and\", \"or\", \"because\", \"as\", \"of\", \"at\", \"by\", \"for\", \"with\", \"about\", \"against\", \"between\", \"into\", \n",
        " \"through\", \"above\", \"below\", \"to\", \"from\", \"up\", \"down\", \"in\", \"out\", \"on\", \"off\", \"over\", \"under\", \"further\", \"once\", \n",
        " \"here\", \"there\", \"all\", \"both\", \"each\", \"few\", \"more\", \"other\", \"such\", \"only\", \"own\", \"so\", \"than\", \"too\", \"very\"]\n",
        "  \n",
        "def tokenize_and_remove_stopwords(df, *cols):\n",
        "  \"\"\"\n",
        "  This function may be used to tokenize and remove stopwords from textual contents\n",
        "  \"\"\"\n",
        "  for i in cols:\n",
        "    output_col_name = \"Tokenized \" + i\n",
        "    regex_tokenizer = RegexTokenizer(inputCol = i, outputCol = output_col_name, pattern=\"\\\\W+\")\n",
        "    df = regex_tokenizer.transform(df)\n",
        "    remover = StopWordsRemover().setStopWords(list_of_stop_words).setInputCol(output_col_name)\n",
        "    remover.setOutputCol(output_col_name + \" with Stop Words Removed\")\n",
        "    df = remover.transform(df)\n",
        "  return df\n",
        " \n",
        " \n",
        "def get_top_terms(df_issues_stem_string, MAX_TERMS = 100):\n",
        "  \"\"\"\n",
        "  Used to limit the number of terms for models to MAX_TERMS. If value entered\n",
        "  as second argument is greater than number of terms, all will be included.\n",
        "  \"\"\"\n",
        "  #Default max number of terms used in DTM is 100\n",
        "  \n",
        "  all_words_string = df_issues_stem_string.select('Stemmed String').rdd.flatMap(lambda x: x).collect()\n",
        " \n",
        "  all_words_string = \" \".join(all_words_string).split()\n",
        " \n",
        "  d = dict(Counter(all_words_string))\n",
        " \n",
        "  #Remove terms of length = 1 for more meaningful results\n",
        "  for key in list(d.keys()):\n",
        "    if len(key) <= 1:\n",
        "      del d[key]\n",
        " \n",
        "  word_count = sorted(d, key = d.get, reverse = True)\n",
        "  if(MAX_TERMS == 'all'):\n",
        "    return word_count\n",
        "  if(len(word_count) < MAX_TERMS):\n",
        "    return word_count\n",
        "  top_terms = word_count[0:MAX_TERMS]\n",
        "  return top_terms\n",
        " \n",
        " \n",
        "def prune_text(row, top_terms):\n",
        "  \"\"\"\n",
        "  This function is used to remove all words that are\n",
        "  not a part of the list of most frequent words\n",
        "  \"\"\"\n",
        "  row_dictionary = row.asDict()\n",
        "  new_list = []\n",
        "  for word in row_dictionary.get('Stemmed Textual Contents'):\n",
        "    if word in top_terms:\n",
        "      new_list.append(word)\n",
        "  row_dictionary['Pruned Textual Contents'] = new_list\n",
        "  return row_dictionary\n",
        " \n",
        " \n",
        "def apply_pruning(df_issues_stem_string, top_terms):\n",
        "  \"\"\"\n",
        "  This function applies the pruning procedure\n",
        "  \"\"\"\n",
        "  headers = df_issues_stem_string.schema\n",
        "  if('Pruned Textual Contents' in headers.names):\n",
        "    pass\n",
        "  else:\n",
        "    headers = headers.add('Pruned Textual Contents', ArrayType(StringType()))\n",
        " \n",
        "  pruned_rdd = df_issues_stem_string.rdd.map(lambda row: prune_text(row, top_terms))\n",
        "  df_issues_stem_string = spark.createDataFrame(pruned_rdd, headers)\n",
        "  return df_issues_stem_string\n",
        " \n",
        " \n",
        "def apply_normalizer(df, p_norm):\n",
        "  \"\"\"\n",
        "  Normalizes each vector to have unit norm, with specified p-norm. 2.0 is Euclidean norm\n",
        "  \"\"\"\n",
        "  if(p_norm == 'none'):\n",
        "    return df\n",
        "  \n",
        "  normalizer = Normalizer(inputCol='features', outputCol='Normalized Features', p=p_norm)\n",
        "  df_normalized = normalizer.transform(df)\n",
        "  return df_normalized"
      ],
      "metadata": {
        "id": "QmxPTislGhpm"
      },
      "execution_count": 20,
      "outputs": []
    },
    {
      "cell_type": "markdown",
      "source": [
        "## 3.2 Combined Preprocessing Steps"
      ],
      "metadata": {
        "id": "FzeaA-r6GpjH"
      }
    },
    {
      "cell_type": "code",
      "source": [
        "def preprocess_text(df_issues, p_norm, MAX_TERMS = 100):\n",
        "  \"\"\"\n",
        "  This function will perform the text preprocessing\n",
        "  procedure on a dataframe for the bug issue reports\n",
        "  \"\"\"\n",
        "  # The preprocessing procedure follows these steps: \n",
        "  # Step 1: Remove extraneous html contents\n",
        "  headers = df_issues.schema\n",
        "  issues_rdd = df_issues.rdd\n",
        "  issues_rdd = issues_rdd.map(lambda x: extractHTML(x, 'SUMMARY', headers.names))\n",
        "  df_issues_modified = spark.createDataFrame(issues_rdd, headers)\n",
        " \n",
        "  # Step 2: Noise removal  \n",
        "  df_issues_cleaned = df_issues_modified.withColumn(\"Cleaned Summary\", remove_noise(col(\"SUMMARY\")))\n",
        " \n",
        "  # Step 3: Tokenizing and removing stopwords\n",
        "  df_issues_tokenized_and_cleaned = tokenize_and_remove_stopwords(df_issues_cleaned, \"Cleaned Summary\")\n",
        " \n",
        "  # Step 4: Stemming\n",
        "  stemmer = PorterStemmer()\n",
        "  stem_udf = udf(lambda tokenized: [stemmer.stem(tokenized) for tokenized in tokenized], ArrayType(StringType()))\n",
        " \n",
        "  df_issues_stemmed = df_issues_tokenized_and_cleaned.withColumn('Stemmed Textual Contents', stem_udf('Tokenized Cleaned Summary with Stop Words Removed'))\n",
        " \n",
        "  # Step 5: Creating string column from stemmed textual contents\n",
        "  df_issues_stem_string = df_issues_stemmed.withColumn('Stemmed String', concat_ws(\" \",col(\"Stemmed Textual Contents\")))\n",
        "  \n",
        "  # Step 6: Apply pruning\n",
        "  df_prune = apply_pruning(df_issues_stem_string, get_top_terms(df_issues_stem_string, MAX_TERMS))\n",
        "  \n",
        "  # Step 7: Add CountVectorizer DTM column\n",
        "  countVectors = CountVectorizer(inputCol=\"Pruned Textual Contents\", outputCol=\"DTM\")  \n",
        "  cvmodel = countVectors.fit(df_prune)  \n",
        "  dtm_df = cvmodel.transform(df_prune)\n",
        "  \n",
        "  dtm_df = dtm_df.withColumnRenamed('DTM', 'features')\n",
        "  \n",
        "  # Step 8: Normalize DTM\n",
        "  df_normalized = apply_normalizer(dtm_df, p_norm)\n",
        "  \n",
        "  # Step 9: Encode label\n",
        "  indexer = StringIndexer(inputCol = 'CLASSIFIED', outputCol = 'label')\n",
        "  df_result = indexer.fit(df_normalized).transform(df_normalized)\n",
        "  \n",
        "  if(p_norm == 'none'):\n",
        "    return df_result.select('ID','CLASSIFIED','TYPE','SUMMARY', 'Pruned Textual Contents', 'features', 'label')\n",
        "  else:\n",
        "    return df_result.select('ID','CLASSIFIED','TYPE','SUMMARY', 'Pruned Textual Contents', 'features', 'Normalized Features', 'label')"
      ],
      "metadata": {
        "id": "9zKbHUKqGsQd"
      },
      "execution_count": 21,
      "outputs": []
    },
    {
      "cell_type": "code",
      "source": [
        "#@title Previously used for normalizing raw term frequencies in DTM\n",
        "\"\"\"\n",
        "#Previously used for normalizing raw term frequencies in DTM\n",
        "\n",
        "def apply_transform_2(row):\n",
        "  row_dictionary = row.asDict()\n",
        "  original_dtm = row_dictionary.get(\"DTM\")\n",
        "  total = 0\n",
        "  for val in original_dtm:\n",
        "    total += val*val\n",
        "  if(total != 0):\n",
        "    denominator = math.sqrt(total)\n",
        "    for i in range(len(original_dtm)):\n",
        "      original_dtm[i] = original_dtm[i]/denominator\n",
        "  row_dictionary['DTM'] = original_dtm\n",
        "  return row_dictionary\n",
        "  \n",
        "def apply_transform_3(row):\n",
        "  row_dictionary = row.asDict()\n",
        "  original_dtm = row_dictionary.get(\"DTM\")\n",
        "  for i in range(len(original_dtm)):\n",
        "    if(original_dtm[i] != 0):\n",
        "      original_dtm[i] = 1 + math.log(original_dtm[i])      \n",
        "  row_dictionary['DTM'] = original_dtm\n",
        "  return row_dictionary\n",
        "  \n",
        "def apply_transform_4(row):\n",
        "  row_dictionary = row.asDict()\n",
        "  original_dtm = row_dictionary.get(\"DTM\")\n",
        "  # W2\n",
        "  for i in range(len(original_dtm)):\n",
        "    if(original_dtm[i] != 0):\n",
        "      original_dtm[i] = 1 + math.log(original_dtm[i])\n",
        "  # L2\n",
        "  total = 0\n",
        "  for val in original_dtm:\n",
        "    total += val*val\n",
        "  if(total != 0):\n",
        "    denominator = math.sqrt(total)\n",
        "    for i in range(len(original_dtm)):\n",
        "      original_dtm[i] = original_dtm[i]/denominator\n",
        "  row_dictionary['DTM'] = original_dtm\n",
        "  return row_dictionary\n",
        "  \n",
        "def apply_transform_5(row):\n",
        "  # alpha assumed 0\n",
        "  row_dictionary = row.asDict()\n",
        "  original_dtm = row_dictionary.get(\"DTM\")\n",
        "  max_val = max(original_dtm)\n",
        "  if(max_val != 0):\n",
        "    for i in range(len(original_dtm)):\n",
        "      original_dtm[i] = original_dtm[i]/max_val\n",
        "  row_dictionary['DTM'] = original_dtm\n",
        "  return row_dictionary\n",
        "\n",
        "def apply_transform_6(row):\n",
        "  # alpha assumed 0\n",
        "  # W3\n",
        "  row_dictionary = row.asDict()\n",
        "  original_dtm = row_dictionary.get(\"DTM\")\n",
        "  max_val = max(original_dtm)\n",
        "  if(max_val != 0):\n",
        "    for i in range(len(original_dtm)):\n",
        "      original_dtm[i] = original_dtm[i]/max_val\n",
        "  # L2\n",
        "  total = 0\n",
        "  for val in original_dtm:\n",
        "    total += val*val\n",
        "  if(total != 0):\n",
        "    denominator = math.sqrt(total)\n",
        "    for i in range(len(original_dtm)):\n",
        "      original_dtm[i] = original_dtm[i]/denominator\n",
        "  row_dictionary['DTM'] = original_dtm\n",
        "  return row_dictionary\n",
        "  \n",
        "def apply_transform_7(row):\n",
        "  row_dictionary = row.asDict()\n",
        "  original_dtm = row_dictionary.get(\"DTM\")\n",
        "  total = sum(original_dtm)\n",
        "  if(total != 0):\n",
        "    denominator = total\n",
        "    for i in range(len(original_dtm)):\n",
        "      original_dtm[i] = original_dtm[i]/denominator\n",
        "  row_dictionary['DTM'] = original_dtm\n",
        "  return row_dictionary\n",
        "\n",
        "\n",
        "def apply_normalization(rdd, number):\n",
        "  #This function will apply the chosen number's\n",
        "  #normalization to the document term matrix\n",
        "  \n",
        "  if(number == 1):\n",
        "    pass #Uses raw term frequency\n",
        "  elif(number == 2):\n",
        "    rdd = rdd.map(apply_transform_2)\n",
        "  elif(number == 3):\n",
        "    rdd = rdd.map(apply_transform_3)\n",
        "  elif(number == 4):\n",
        "    rdd = rdd.map(apply_transform_4)\n",
        "  elif(number == 5):\n",
        "    rdd = rdd.map(apply_transform_5)\n",
        "  elif(number == 6):\n",
        "    rdd = rdd.map(apply_transform_6)\n",
        "  elif(number == 7):\n",
        "    rdd = rdd.map(apply_transform_7)\n",
        "  return rdd\n",
        "  \n",
        "\"\"\""
      ],
      "metadata": {
        "colab": {
          "base_uri": "https://localhost:8080/",
          "height": 105
        },
        "cellView": "form",
        "id": "ZhwkDmlCHChN",
        "outputId": "85cbef4a-ee23-4bc3-d6f4-e656b1cbd7c7"
      },
      "execution_count": 22,
      "outputs": [
        {
          "output_type": "execute_result",
          "data": {
            "text/plain": [
              "'\\n#Previously used for normalizing raw term frequencies in DTM\\n\\ndef apply_transform_2(row):\\n  row_dictionary = row.asDict()\\n  original_dtm = row_dictionary.get(\"DTM\")\\n  total = 0\\n  for val in original_dtm:\\n    total += val*val\\n  if(total != 0):\\n    denominator = math.sqrt(total)\\n    for i in range(len(original_dtm)):\\n      original_dtm[i] = original_dtm[i]/denominator\\n  row_dictionary[\\'DTM\\'] = original_dtm\\n  return row_dictionary\\n  \\ndef apply_transform_3(row):\\n  row_dictionary = row.asDict()\\n  original_dtm = row_dictionary.get(\"DTM\")\\n  for i in range(len(original_dtm)):\\n    if(original_dtm[i] != 0):\\n      original_dtm[i] = 1 + math.log(original_dtm[i])      \\n  row_dictionary[\\'DTM\\'] = original_dtm\\n  return row_dictionary\\n  \\ndef apply_transform_4(row):\\n  row_dictionary = row.asDict()\\n  original_dtm = row_dictionary.get(\"DTM\")\\n  # W2\\n  for i in range(len(original_dtm)):\\n    if(original_dtm[i] != 0):\\n      original_dtm[i] = 1 + math.log(original_dtm[i])\\n  # L2\\n  total = 0\\n  for val in original_dtm:\\n    total += val*val\\n  if(total != 0):\\n    denominator = math.sqrt(total)\\n    for i in range(len(original_dtm)):\\n      original_dtm[i] = original_dtm[i]/denominator\\n  row_dictionary[\\'DTM\\'] = original_dtm\\n  return row_dictionary\\n  \\ndef apply_transform_5(row):\\n  # alpha assumed 0\\n  row_dictionary = row.asDict()\\n  original_dtm = row_dictionary.get(\"DTM\")\\n  max_val = max(original_dtm)\\n  if(max_val != 0):\\n    for i in range(len(original_dtm)):\\n      original_dtm[i] = original_dtm[i]/max_val\\n  row_dictionary[\\'DTM\\'] = original_dtm\\n  return row_dictionary\\n\\ndef apply_transform_6(row):\\n  # alpha assumed 0\\n  # W3\\n  row_dictionary = row.asDict()\\n  original_dtm = row_dictionary.get(\"DTM\")\\n  max_val = max(original_dtm)\\n  if(max_val != 0):\\n    for i in range(len(original_dtm)):\\n      original_dtm[i] = original_dtm[i]/max_val\\n  # L2\\n  total = 0\\n  for val in original_dtm:\\n    total += val*val\\n  if(total != 0):\\n    denominator = math.sqrt(total)\\n    for i in range(len(original_dtm)):\\n      original_dtm[i] = original_dtm[i]/denominator\\n  row_dictionary[\\'DTM\\'] = original_dtm\\n  return row_dictionary\\n  \\ndef apply_transform_7(row):\\n  row_dictionary = row.asDict()\\n  original_dtm = row_dictionary.get(\"DTM\")\\n  total = sum(original_dtm)\\n  if(total != 0):\\n    denominator = total\\n    for i in range(len(original_dtm)):\\n      original_dtm[i] = original_dtm[i]/denominator\\n  row_dictionary[\\'DTM\\'] = original_dtm\\n  return row_dictionary\\n\\n\\ndef apply_normalization(rdd, number):\\n  #This function will apply the chosen number\\'s\\n  #normalization to the document term matrix\\n  \\n  if(number == 1):\\n    pass #Uses raw term frequency\\n  elif(number == 2):\\n    rdd = rdd.map(apply_transform_2)\\n  elif(number == 3):\\n    rdd = rdd.map(apply_transform_3)\\n  elif(number == 4):\\n    rdd = rdd.map(apply_transform_4)\\n  elif(number == 5):\\n    rdd = rdd.map(apply_transform_5)\\n  elif(number == 6):\\n    rdd = rdd.map(apply_transform_6)\\n  elif(number == 7):\\n    rdd = rdd.map(apply_transform_7)\\n  return rdd\\n  \\n'"
            ],
            "application/vnd.google.colaboratory.intrinsic+json": {
              "type": "string"
            }
          },
          "metadata": {},
          "execution_count": 22
        }
      ]
    },
    {
      "cell_type": "markdown",
      "source": [
        "## 3.3 Splitting Data into Training and Test Sets"
      ],
      "metadata": {
        "id": "u8A_DQxeGzhR"
      }
    },
    {
      "cell_type": "code",
      "source": [
        "# All new plus old - without normalization\n",
        "df_combined_processed = preprocess_text(df_all_combined, 'none', 100)\n",
        "df_train, df_test = df_combined_processed.randomSplit([0.8, 0.2], seed = 50)\n",
        " \n",
        "# Original data only - without normalization\n",
        "df_original_processed = preprocess_text(df_issues_original, 'none', 100)\n",
        "df_train_original_data, df_test_original_data = df_original_processed.randomSplit([0.8, 0.2], seed = 51)\n",
        " \n",
        "# New data only (all 3 sources) - without normalization\n",
        "df_new_processed = preprocess_text(df_new_issues, 'none', 100)\n",
        "df_train_all_new, df_test_all_new = df_new_processed.randomSplit([0.8, 0.2], seed = 52)\n",
        " \n",
        "# Original data with new Spark records - without normalization\n",
        "df_original_with_spark_processed = preprocess_text(df_original_with_spark, 'none', 100)\n",
        "df_train_original_with_spark, df_test_with_spark = df_original_with_spark_processed.randomSplit([0.8, 0.2], seed = 53)\n",
        " \n",
        "# Original data with new MongoDB records - without normalization\n",
        "df_original_with_mongodb_processed = preprocess_text(df_original_with_mongodb, 'none', 100)\n",
        "df_train_original_with_mongodb, df_test_with_mongodb = df_original_with_mongodb_processed.randomSplit([0.8, 0.2], seed = 54)\n",
        " \n",
        "# Original data with new WildFly recprds  - without normalization\n",
        "df_original_with_wildfly_processed = preprocess_text(df_original_with_wildfly, 'none', 100)\n",
        "df_train_original_with_wildfly, df_test_with_wildfly = df_original_with_wildfly_processed.randomSplit([0.8, 0.2], seed = 55)\n",
        " \n",
        "# With normalization ------------------------------------------------------------------------------------------------------------\n",
        " \n",
        "# All new plus old - with normalization\n",
        "df_combined_processed = preprocess_text(df_all_combined, 2.0, 100)\n",
        "normalized_df_train, normalized_df_test = df_combined_processed.randomSplit([0.8, 0.2], seed = 56)\n",
        " \n",
        "# Original data only - with normalization\n",
        "df_original_processed = preprocess_text(df_issues_original, 2.0, 100)\n",
        "normalized_df_train_original_data, normalized_df_test_original_data = df_original_processed.randomSplit([0.8, 0.2], seed = 56)\n",
        " \n",
        "# New data only (all 3 sources) - with normalization\n",
        "df_new_processed = preprocess_text(df_new_issues, 2.0, 100)\n",
        "normalized_df_train_all_new, normalized_df_test_all_new = df_new_processed.randomSplit([0.8, 0.2], seed = 57)\n",
        " \n",
        "# Original data with new Spark records - with normalization\n",
        "df_original_with_spark_processed = preprocess_text(df_original_with_spark, 2.0, 100)\n",
        "normalized_df_train_original_with_spark, normalized_df_test_with_spark = df_original_with_spark_processed.randomSplit([0.8, 0.2], seed = 58)\n",
        " \n",
        "# Original data with new MongoDB records - with normalization\n",
        "df_original_with_mongodb_processed = preprocess_text(df_original_with_mongodb, 2.0, 100)\n",
        "normalized_df_train_original_with_mongodb, normalized_df_test_with_mongodb = df_original_with_mongodb_processed.randomSplit([0.8, 0.2], seed = 59)\n",
        " \n",
        "# Original data with new WildFly recprds  - with normalization\n",
        "df_original_with_wildfly_processed = preprocess_text(df_original_with_wildfly, 2.0, 100)\n",
        "normalized_df_train_original_with_wildfly, normalized_df_test_with_wildfly = df_original_with_wildfly_processed.randomSplit([0.8, 0.2], seed = 60)"
      ],
      "metadata": {
        "id": "OW5KdIOVG3ET"
      },
      "execution_count": 23,
      "outputs": []
    },
    {
      "cell_type": "markdown",
      "source": [
        "# 4. Model Performance on Data (0 is NUG, 1 is BUG)"
      ],
      "metadata": {
        "id": "VEfCPwAyINwx"
      }
    },
    {
      "cell_type": "markdown",
      "source": [
        "Models are run with default parameters to compare performance before tuning hyperparameters."
      ],
      "metadata": {
        "id": "LXm_OZqSIQqe"
      }
    },
    {
      "cell_type": "code",
      "source": [
        "def print_metrics(predictions):\n",
        "  evaluator = BinaryClassificationEvaluator(labelCol = 'label', rawPredictionCol=\"rawPrediction\")\n",
        "  area_under_curve = evaluator.evaluate(predictions, {evaluator.metricName: 'areaUnderROC'})\n",
        "  predictions.groupBy('label', 'prediction').count().show()\n",
        "  TP = predictions.filter('prediction = 1 AND label = prediction').count()\n",
        "  TN = predictions.filter('prediction = 0 AND label = prediction').count()\n",
        "  FP = predictions.filter('prediction = 1 AND label != prediction').count()\n",
        "  FN = predictions.filter('prediction = 0 AND label != prediction').count()\n",
        "  accuracy = (TN + TP)/(TN + TP + FN + FP)\n",
        "  precision = TP/(TP + FP)\n",
        "  recall = TP/(TP + FN)\n",
        "  nug_precision = TN/(TN + FN)\n",
        "  nug_recall = TN/(TN + FP)\n",
        "  f_nug = 2 * (nug_precision*nug_recall) / (nug_precision + nug_recall)\n",
        "  f =  2 * (precision * recall) / (precision + recall)\n",
        "  weighted_f_measure = (f*(TP + FN) + f_nug*(TN + FP))/(TP + TN + FN + FP)\n",
        "  print('AUC: %0.3f' % area_under_curve)\n",
        "  print('Accuracy: %0.3f' % accuracy)\n",
        "  print('Precision: %0.3f' % precision)\n",
        "  print('Recall: %0.3f' % recall)\n",
        "  print('F1 score: %0.3f' % f)\n",
        "  print(\"Weighted F-Measure: %0.3f\" % weighted_f_measure)\n",
        "  print()"
      ],
      "metadata": {
        "id": "z6e3krGYIVa2"
      },
      "execution_count": 24,
      "outputs": []
    },
    {
      "cell_type": "markdown",
      "source": [
        "## 4.1 Without Normalization"
      ],
      "metadata": {
        "id": "PJbFBz0YJSto"
      }
    },
    {
      "cell_type": "markdown",
      "source": [
        "### 4.1.1 Naive Bayes Classifier Original Data"
      ],
      "metadata": {
        "id": "QchNs1fCJSpK"
      }
    },
    {
      "cell_type": "code",
      "source": [
        "nb = NaiveBayes(labelCol = 'label', featuresCol = 'features')\n",
        "evaluator = MulticlassClassificationEvaluator(labelCol=\"label\", predictionCol=\"prediction\", metricName=\"f1\")\n",
        "# Default of 10 folds for cross-validation from paper, 3 used for time saving purposes\n",
        "NUM_CV_FOLDS = 3\n",
        "paramGrid = ParamGridBuilder().build()\n",
        "cv = StratifiedCrossValidator(estimator = nb, estimatorParamMaps = paramGrid, evaluator = evaluator, numFolds = NUM_CV_FOLDS)\n",
        "cross_val_model= cv.fit(df_train_original_data)\n",
        "predictions = cross_val_model.transform(df_test_original_data)\n",
        "print_metrics(predictions)\n",
        "#print(cross_val_model.avgMetrics)"
      ],
      "metadata": {
        "colab": {
          "base_uri": "https://localhost:8080/"
        },
        "id": "usCkoEIrJ58y",
        "outputId": "81ba420f-cf8e-4186-9d9b-092317dd7164"
      },
      "execution_count": 25,
      "outputs": [
        {
          "output_type": "stream",
          "name": "stdout",
          "text": [
            "+-----+----------+-----+\n",
            "|label|prediction|count|\n",
            "+-----+----------+-----+\n",
            "|  1.0|       1.0|  230|\n",
            "|  0.0|       1.0|  111|\n",
            "|  1.0|       0.0|  167|\n",
            "|  0.0|       0.0|  636|\n",
            "+-----+----------+-----+\n",
            "\n",
            "AUC: 0.525\n",
            "Accuracy: 0.757\n",
            "Precision: 0.674\n",
            "Recall: 0.579\n",
            "F1 score: 0.623\n",
            "Weighted F-Measure: 0.752\n",
            "\n"
          ]
        }
      ]
    },
    {
      "cell_type": "markdown",
      "source": [
        "### 4.1.2 Naive Bayes Classifier Original Plus Spark Data"
      ],
      "metadata": {
        "id": "aBU1w_jfLC3X"
      }
    },
    {
      "cell_type": "code",
      "source": [
        "cross_val_model= cv.fit(df_train_original_with_spark)\n",
        "predictions = cross_val_model.transform(df_test_with_spark)\n",
        "print_metrics(predictions)"
      ],
      "metadata": {
        "colab": {
          "base_uri": "https://localhost:8080/"
        },
        "id": "kJ_LSy7_LLgk",
        "outputId": "1c5d4dc2-3569-4ffe-a05c-41cd67566dad"
      },
      "execution_count": 26,
      "outputs": [
        {
          "output_type": "stream",
          "name": "stdout",
          "text": [
            "+-----+----------+-----+\n",
            "|label|prediction|count|\n",
            "+-----+----------+-----+\n",
            "|  1.0|       1.0|  239|\n",
            "|  0.0|       1.0|  106|\n",
            "|  1.0|       0.0|  160|\n",
            "|  0.0|       0.0|  611|\n",
            "+-----+----------+-----+\n",
            "\n",
            "AUC: 0.541\n",
            "Accuracy: 0.762\n",
            "Precision: 0.693\n",
            "Recall: 0.599\n",
            "F1 score: 0.642\n",
            "Weighted F-Measure: 0.757\n",
            "\n"
          ]
        }
      ]
    },
    {
      "cell_type": "markdown",
      "source": [
        "### 4.1.3 Naive Bayes Classifier Original Plus MongoDB Data"
      ],
      "metadata": {
        "id": "ZwTydpcMLTA3"
      }
    },
    {
      "cell_type": "code",
      "source": [
        "cross_val_model= cv.fit(df_train_original_with_mongodb)\n",
        "predictions = cross_val_model.transform(df_test_with_mongodb)\n",
        "print_metrics(predictions)"
      ],
      "metadata": {
        "colab": {
          "base_uri": "https://localhost:8080/"
        },
        "id": "sO62DiM7LWAM",
        "outputId": "819a9f09-c551-4600-fda7-02567a6da430"
      },
      "execution_count": 27,
      "outputs": [
        {
          "output_type": "stream",
          "name": "stdout",
          "text": [
            "+-----+----------+-----+\n",
            "|label|prediction|count|\n",
            "+-----+----------+-----+\n",
            "|  1.0|       1.0|  240|\n",
            "|  0.0|       1.0|  113|\n",
            "|  1.0|       0.0|  209|\n",
            "|  0.0|       0.0|  674|\n",
            "+-----+----------+-----+\n",
            "\n",
            "AUC: 0.527\n",
            "Accuracy: 0.739\n",
            "Precision: 0.680\n",
            "Recall: 0.535\n",
            "F1 score: 0.599\n",
            "Weighted F-Measure: 0.731\n",
            "\n"
          ]
        }
      ]
    },
    {
      "cell_type": "markdown",
      "source": [
        "### 4.1.4 Naive Bayes Classifier Original Plus WildFly Data"
      ],
      "metadata": {
        "id": "o12PRfxsLZKy"
      }
    },
    {
      "cell_type": "code",
      "source": [
        "cross_val_model= cv.fit(df_train_original_with_wildfly)\n",
        "predictions = cross_val_model.transform(df_test_with_wildfly)\n",
        "print_metrics(predictions)"
      ],
      "metadata": {
        "colab": {
          "base_uri": "https://localhost:8080/"
        },
        "id": "xzltluPwLcQL",
        "outputId": "875e6044-ffe9-4273-daa7-c3404d49afee"
      },
      "execution_count": 28,
      "outputs": [
        {
          "output_type": "stream",
          "name": "stdout",
          "text": [
            "+-----+----------+-----+\n",
            "|label|prediction|count|\n",
            "+-----+----------+-----+\n",
            "|  1.0|       1.0|  232|\n",
            "|  0.0|       1.0|   96|\n",
            "|  1.0|       0.0|  199|\n",
            "|  0.0|       0.0|  669|\n",
            "+-----+----------+-----+\n",
            "\n",
            "AUC: 0.559\n",
            "Accuracy: 0.753\n",
            "Precision: 0.707\n",
            "Recall: 0.538\n",
            "F1 score: 0.611\n",
            "Weighted F-Measure: 0.744\n",
            "\n"
          ]
        }
      ]
    },
    {
      "cell_type": "markdown",
      "source": [
        "### 4.1.5 Naive Bayes Classifier New Data Only"
      ],
      "metadata": {
        "id": "tA9873DELfvZ"
      }
    },
    {
      "cell_type": "code",
      "source": [
        "cross_val_model= cv.fit(df_train_all_new)\n",
        "predictions = cross_val_model.transform(df_test_all_new)\n",
        "print_metrics(predictions)"
      ],
      "metadata": {
        "colab": {
          "base_uri": "https://localhost:8080/"
        },
        "id": "TQY4_SeoLiiz",
        "outputId": "3d17d227-7ccd-40fd-e145-6d9982c6f9cb"
      },
      "execution_count": 29,
      "outputs": [
        {
          "output_type": "stream",
          "name": "stdout",
          "text": [
            "+-----+----------+-----+\n",
            "|label|prediction|count|\n",
            "+-----+----------+-----+\n",
            "|  1.0|       1.0|   60|\n",
            "|  0.0|       1.0|   18|\n",
            "|  1.0|       0.0|   36|\n",
            "|  0.0|       0.0|   66|\n",
            "+-----+----------+-----+\n",
            "\n",
            "AUC: 0.569\n",
            "Accuracy: 0.700\n",
            "Precision: 0.769\n",
            "Recall: 0.625\n",
            "F1 score: 0.690\n",
            "Weighted F-Measure: 0.699\n",
            "\n"
          ]
        }
      ]
    },
    {
      "cell_type": "markdown",
      "source": [
        "### 4.1.6 Naive Bayes Classifier Original Plus All New Data"
      ],
      "metadata": {
        "id": "eGCglvgjLmsB"
      }
    },
    {
      "cell_type": "code",
      "source": [
        "cross_val_model= cv.fit(df_train)\n",
        "predictions = cross_val_model.transform(df_test)\n",
        "print_metrics(predictions)"
      ],
      "metadata": {
        "colab": {
          "base_uri": "https://localhost:8080/"
        },
        "id": "hucXL7dFLpRn",
        "outputId": "26e9541b-f99d-4d6c-f126-6896dfb34616"
      },
      "execution_count": 30,
      "outputs": [
        {
          "output_type": "stream",
          "name": "stdout",
          "text": [
            "+-----+----------+-----+\n",
            "|label|prediction|count|\n",
            "+-----+----------+-----+\n",
            "|  1.0|       1.0|  249|\n",
            "|  0.0|       1.0|  119|\n",
            "|  1.0|       0.0|  211|\n",
            "|  0.0|       0.0|  678|\n",
            "+-----+----------+-----+\n",
            "\n",
            "AUC: 0.550\n",
            "Accuracy: 0.737\n",
            "Precision: 0.677\n",
            "Recall: 0.541\n",
            "F1 score: 0.601\n",
            "Weighted F-Measure: 0.730\n",
            "\n"
          ]
        }
      ]
    },
    {
      "cell_type": "markdown",
      "source": [
        "### 4.1.7 Linear SVC Classifier Original Data"
      ],
      "metadata": {
        "id": "-kN3UZzQLvml"
      }
    },
    {
      "cell_type": "code",
      "source": [
        "lsvc = LinearSVC(labelCol = 'label', featuresCol = 'features')\n",
        "evaluator = MulticlassClassificationEvaluator(labelCol=\"label\", predictionCol=\"prediction\", metricName=\"f1\")\n",
        "# Default of 10 folds for cross-validation from paper, 3 used for time saving purposes\n",
        "NUM_CV_FOLDS = 3\n",
        "paramGrid = ParamGridBuilder().build()\n",
        "cv = StratifiedCrossValidator(estimator = lsvc, estimatorParamMaps = paramGrid, evaluator = evaluator, numFolds = NUM_CV_FOLDS)\n",
        "cross_val_model= cv.fit(df_train_original_data)\n",
        "predictions = cross_val_model.transform(df_test_original_data)\n",
        "print_metrics(predictions)"
      ],
      "metadata": {
        "id": "flPUbirOLyMt",
        "colab": {
          "base_uri": "https://localhost:8080/"
        },
        "outputId": "182176c1-df92-4081-d09c-ba37990256a5"
      },
      "execution_count": 31,
      "outputs": [
        {
          "output_type": "stream",
          "name": "stdout",
          "text": [
            "+-----+----------+-----+\n",
            "|label|prediction|count|\n",
            "+-----+----------+-----+\n",
            "|  1.0|       1.0|  216|\n",
            "|  0.0|       1.0|   84|\n",
            "|  1.0|       0.0|  181|\n",
            "|  0.0|       0.0|  663|\n",
            "+-----+----------+-----+\n",
            "\n",
            "AUC: 0.809\n",
            "Accuracy: 0.768\n",
            "Precision: 0.720\n",
            "Recall: 0.544\n",
            "F1 score: 0.620\n",
            "Weighted F-Measure: 0.759\n",
            "\n"
          ]
        }
      ]
    },
    {
      "cell_type": "markdown",
      "source": [
        "### 4.1.8 Linear SVC Classifier Original Plus Spark Data"
      ],
      "metadata": {
        "id": "F7ksMkCLL4D4"
      }
    },
    {
      "cell_type": "code",
      "source": [
        "cross_val_model= cv.fit(df_train_original_with_spark)\n",
        "predictions = cross_val_model.transform(df_test_with_spark)\n",
        "print_metrics(predictions)"
      ],
      "metadata": {
        "id": "nADeqbQDL5Vl",
        "colab": {
          "base_uri": "https://localhost:8080/"
        },
        "outputId": "f47501ad-2186-45b6-c07e-9bbabbf35660"
      },
      "execution_count": 32,
      "outputs": [
        {
          "output_type": "stream",
          "name": "stdout",
          "text": [
            "+-----+----------+-----+\n",
            "|label|prediction|count|\n",
            "+-----+----------+-----+\n",
            "|  1.0|       1.0|  216|\n",
            "|  0.0|       1.0|   74|\n",
            "|  1.0|       0.0|  183|\n",
            "|  0.0|       0.0|  643|\n",
            "+-----+----------+-----+\n",
            "\n",
            "AUC: 0.827\n",
            "Accuracy: 0.770\n",
            "Precision: 0.745\n",
            "Recall: 0.541\n",
            "F1 score: 0.627\n",
            "Weighted F-Measure: 0.760\n",
            "\n"
          ]
        }
      ]
    },
    {
      "cell_type": "markdown",
      "source": [
        "### 4.1.9 Linear SVC Classifier Original Plus MongoDB Data"
      ],
      "metadata": {
        "id": "s6tjSp2NL-cj"
      }
    },
    {
      "cell_type": "code",
      "source": [
        "cross_val_model= cv.fit(df_train_original_with_mongodb)\n",
        "predictions = cross_val_model.transform(df_test_with_mongodb)\n",
        "print_metrics(predictions)"
      ],
      "metadata": {
        "id": "Y1DDx6_eL_oT",
        "colab": {
          "base_uri": "https://localhost:8080/"
        },
        "outputId": "38e61879-ba79-43a6-fed8-a2e3c9c5a52b"
      },
      "execution_count": 33,
      "outputs": [
        {
          "output_type": "stream",
          "name": "stdout",
          "text": [
            "+-----+----------+-----+\n",
            "|label|prediction|count|\n",
            "+-----+----------+-----+\n",
            "|  1.0|       1.0|  239|\n",
            "|  0.0|       1.0|  102|\n",
            "|  1.0|       0.0|  210|\n",
            "|  0.0|       0.0|  685|\n",
            "+-----+----------+-----+\n",
            "\n",
            "AUC: 0.801\n",
            "Accuracy: 0.748\n",
            "Precision: 0.701\n",
            "Recall: 0.532\n",
            "F1 score: 0.605\n",
            "Weighted F-Measure: 0.738\n",
            "\n"
          ]
        }
      ]
    },
    {
      "cell_type": "markdown",
      "source": [
        "### 4.1.10 Linear SVC Classifier Original Plus WildFly Data"
      ],
      "metadata": {
        "id": "w1dXwbAMMDTQ"
      }
    },
    {
      "cell_type": "code",
      "source": [
        "cross_val_model= cv.fit(df_train_original_with_wildfly)\n",
        "predictions = cross_val_model.transform(df_test_with_wildfly)\n",
        "print_metrics(predictions)"
      ],
      "metadata": {
        "id": "leIqfZ-1MH4k",
        "colab": {
          "base_uri": "https://localhost:8080/"
        },
        "outputId": "3caed1b1-bfaf-4cbb-c162-b4efb4184718"
      },
      "execution_count": 34,
      "outputs": [
        {
          "output_type": "stream",
          "name": "stdout",
          "text": [
            "+-----+----------+-----+\n",
            "|label|prediction|count|\n",
            "+-----+----------+-----+\n",
            "|  1.0|       1.0|  221|\n",
            "|  0.0|       1.0|   75|\n",
            "|  1.0|       0.0|  210|\n",
            "|  0.0|       0.0|  690|\n",
            "+-----+----------+-----+\n",
            "\n",
            "AUC: 0.826\n",
            "Accuracy: 0.762\n",
            "Precision: 0.747\n",
            "Recall: 0.513\n",
            "F1 score: 0.608\n",
            "Weighted F-Measure: 0.749\n",
            "\n"
          ]
        }
      ]
    },
    {
      "cell_type": "markdown",
      "source": [
        "### 4.1.11 Linear SVC Classifier New Data Only"
      ],
      "metadata": {
        "id": "h2CkaWeoMLf7"
      }
    },
    {
      "cell_type": "code",
      "source": [
        "cross_val_model= cv.fit(df_train_all_new)\n",
        "predictions = cross_val_model.transform(df_test_all_new)\n",
        "print_metrics(predictions)"
      ],
      "metadata": {
        "id": "iuokjbiyMOl8",
        "colab": {
          "base_uri": "https://localhost:8080/"
        },
        "outputId": "456d96da-70e4-4399-a779-950401a09c30"
      },
      "execution_count": 35,
      "outputs": [
        {
          "output_type": "stream",
          "name": "stdout",
          "text": [
            "+-----+----------+-----+\n",
            "|label|prediction|count|\n",
            "+-----+----------+-----+\n",
            "|  1.0|       1.0|   75|\n",
            "|  0.0|       1.0|   30|\n",
            "|  1.0|       0.0|   21|\n",
            "|  0.0|       0.0|   54|\n",
            "+-----+----------+-----+\n",
            "\n",
            "AUC: 0.764\n",
            "Accuracy: 0.717\n",
            "Precision: 0.714\n",
            "Recall: 0.781\n",
            "F1 score: 0.746\n",
            "Weighted F-Measure: 0.715\n",
            "\n"
          ]
        }
      ]
    },
    {
      "cell_type": "markdown",
      "source": [
        "### 4.1.12 Linear SVC Classifier Original Plus All New Data"
      ],
      "metadata": {
        "id": "57CfrxesMUr6"
      }
    },
    {
      "cell_type": "code",
      "source": [
        "cross_val_model= cv.fit(df_train)\n",
        "predictions = cross_val_model.transform(df_test)\n",
        "print_metrics(predictions)"
      ],
      "metadata": {
        "id": "k-TjIJm2MW4Z",
        "colab": {
          "base_uri": "https://localhost:8080/"
        },
        "outputId": "38bbe7ed-b75f-40b0-f7c7-a787f958a2ca"
      },
      "execution_count": 36,
      "outputs": [
        {
          "output_type": "stream",
          "name": "stdout",
          "text": [
            "+-----+----------+-----+\n",
            "|label|prediction|count|\n",
            "+-----+----------+-----+\n",
            "|  1.0|       1.0|  232|\n",
            "|  0.0|       1.0|   90|\n",
            "|  1.0|       0.0|  228|\n",
            "|  0.0|       0.0|  707|\n",
            "+-----+----------+-----+\n",
            "\n",
            "AUC: 0.805\n",
            "Accuracy: 0.747\n",
            "Precision: 0.720\n",
            "Recall: 0.504\n",
            "F1 score: 0.593\n",
            "Weighted F-Measure: 0.735\n",
            "\n"
          ]
        }
      ]
    },
    {
      "cell_type": "markdown",
      "source": [
        "### 4.1.13 Random Forest Classifier Original Data"
      ],
      "metadata": {
        "id": "E2U859uMMYd-"
      }
    },
    {
      "cell_type": "code",
      "source": [
        "rf = RandomForestClassifier(labelCol = 'label', featuresCol = 'features')\n",
        "evaluator = MulticlassClassificationEvaluator(labelCol=\"label\", predictionCol=\"prediction\", metricName=\"f1\")\n",
        "# Default of 10 folds for cross-validation from paper, 3 used for time saving purposes\n",
        "NUM_CV_FOLDS = 3\n",
        "paramGrid = ParamGridBuilder().build()\n",
        "cv = StratifiedCrossValidator(estimator = rf, estimatorParamMaps = paramGrid, evaluator = evaluator, numFolds = NUM_CV_FOLDS)\n",
        "cross_val_model= cv.fit(df_train_original_data)\n",
        "predictions = cross_val_model.transform(df_test_original_data)\n",
        "print_metrics(predictions)"
      ],
      "metadata": {
        "id": "m0Dk4kAsMan3",
        "colab": {
          "base_uri": "https://localhost:8080/"
        },
        "outputId": "8c4ca091-c411-44c6-e9af-534ecd3fc103"
      },
      "execution_count": 37,
      "outputs": [
        {
          "output_type": "stream",
          "name": "stdout",
          "text": [
            "+-----+----------+-----+\n",
            "|label|prediction|count|\n",
            "+-----+----------+-----+\n",
            "|  1.0|       1.0|   40|\n",
            "|  0.0|       1.0|    9|\n",
            "|  1.0|       0.0|  357|\n",
            "|  0.0|       0.0|  738|\n",
            "+-----+----------+-----+\n",
            "\n",
            "AUC: 0.782\n",
            "Accuracy: 0.680\n",
            "Precision: 0.816\n",
            "Recall: 0.101\n",
            "F1 score: 0.179\n",
            "Weighted F-Measure: 0.585\n",
            "\n"
          ]
        }
      ]
    },
    {
      "cell_type": "markdown",
      "source": [
        "### 4.1.14 Random Forest Classifier Original Plus Spark Data"
      ],
      "metadata": {
        "id": "S3iOiXSHMe1x"
      }
    },
    {
      "cell_type": "code",
      "source": [
        "cross_val_model= cv.fit(df_train_original_with_spark)\n",
        "predictions = cross_val_model.transform(df_test_with_spark)\n",
        "print_metrics(predictions)"
      ],
      "metadata": {
        "id": "7wZC5QFxMiRB",
        "colab": {
          "base_uri": "https://localhost:8080/"
        },
        "outputId": "97a4424c-2a79-4fda-96e5-29b64141bd7f"
      },
      "execution_count": 38,
      "outputs": [
        {
          "output_type": "stream",
          "name": "stdout",
          "text": [
            "+-----+----------+-----+\n",
            "|label|prediction|count|\n",
            "+-----+----------+-----+\n",
            "|  1.0|       1.0|  116|\n",
            "|  0.0|       1.0|   34|\n",
            "|  1.0|       0.0|  283|\n",
            "|  0.0|       0.0|  683|\n",
            "+-----+----------+-----+\n",
            "\n",
            "AUC: 0.776\n",
            "Accuracy: 0.716\n",
            "Precision: 0.773\n",
            "Recall: 0.291\n",
            "F1 score: 0.423\n",
            "Weighted F-Measure: 0.673\n",
            "\n"
          ]
        }
      ]
    },
    {
      "cell_type": "markdown",
      "source": [
        "### 4.1.15 Random Forest Classifier Original Plus MongoDB Data"
      ],
      "metadata": {
        "id": "mxkUBHtfMlHb"
      }
    },
    {
      "cell_type": "code",
      "source": [
        "cross_val_model= cv.fit(df_train_original_with_mongodb)\n",
        "predictions = cross_val_model.transform(df_test_with_mongodb)\n",
        "print_metrics(predictions)"
      ],
      "metadata": {
        "id": "tLEg670FMogF",
        "colab": {
          "base_uri": "https://localhost:8080/"
        },
        "outputId": "591cb9ec-312c-4ac8-c1fb-674f3731a858"
      },
      "execution_count": 39,
      "outputs": [
        {
          "output_type": "stream",
          "name": "stdout",
          "text": [
            "+-----+----------+-----+\n",
            "|label|prediction|count|\n",
            "+-----+----------+-----+\n",
            "|  1.0|       1.0|   48|\n",
            "|  0.0|       1.0|    8|\n",
            "|  1.0|       0.0|  401|\n",
            "|  0.0|       0.0|  779|\n",
            "+-----+----------+-----+\n",
            "\n",
            "AUC: 0.752\n",
            "Accuracy: 0.669\n",
            "Precision: 0.857\n",
            "Recall: 0.107\n",
            "F1 score: 0.190\n",
            "Weighted F-Measure: 0.573\n",
            "\n"
          ]
        }
      ]
    },
    {
      "cell_type": "markdown",
      "source": [
        "### 4.1.16 Random Forest Classifier Original Plus WildFly Data"
      ],
      "metadata": {
        "id": "2E0SOCWMMqo1"
      }
    },
    {
      "cell_type": "code",
      "source": [
        "cross_val_model= cv.fit(df_train_original_with_wildfly)\n",
        "predictions = cross_val_model.transform(df_test_with_wildfly)\n",
        "print_metrics(predictions)"
      ],
      "metadata": {
        "id": "d5Rry-X6Mtc3",
        "colab": {
          "base_uri": "https://localhost:8080/"
        },
        "outputId": "0b3c2f5a-b104-4bd1-b77a-1cfec595148a"
      },
      "execution_count": 40,
      "outputs": [
        {
          "output_type": "stream",
          "name": "stdout",
          "text": [
            "+-----+----------+-----+\n",
            "|label|prediction|count|\n",
            "+-----+----------+-----+\n",
            "|  1.0|       1.0|   61|\n",
            "|  0.0|       1.0|   10|\n",
            "|  1.0|       0.0|  370|\n",
            "|  0.0|       0.0|  755|\n",
            "+-----+----------+-----+\n",
            "\n",
            "AUC: 0.793\n",
            "Accuracy: 0.682\n",
            "Precision: 0.859\n",
            "Recall: 0.142\n",
            "F1 score: 0.243\n",
            "Weighted F-Measure: 0.599\n",
            "\n"
          ]
        }
      ]
    },
    {
      "cell_type": "markdown",
      "source": [
        "### 4.1.17 Random Forest Classifier New Data Only"
      ],
      "metadata": {
        "id": "B2iN3UY1MwdM"
      }
    },
    {
      "cell_type": "code",
      "source": [
        "cross_val_model= cv.fit(df_train_all_new)\n",
        "predictions = cross_val_model.transform(df_test_all_new)\n",
        "print_metrics(predictions)"
      ],
      "metadata": {
        "id": "MFozhY0-Myqv",
        "colab": {
          "base_uri": "https://localhost:8080/"
        },
        "outputId": "232b32bc-d6d4-4b79-b66b-9524114d9d4d"
      },
      "execution_count": 41,
      "outputs": [
        {
          "output_type": "stream",
          "name": "stdout",
          "text": [
            "+-----+----------+-----+\n",
            "|label|prediction|count|\n",
            "+-----+----------+-----+\n",
            "|  1.0|       1.0|   40|\n",
            "|  0.0|       1.0|    7|\n",
            "|  1.0|       0.0|   56|\n",
            "|  0.0|       0.0|   77|\n",
            "+-----+----------+-----+\n",
            "\n",
            "AUC: 0.780\n",
            "Accuracy: 0.650\n",
            "Precision: 0.851\n",
            "Recall: 0.417\n",
            "F1 score: 0.559\n",
            "Weighted F-Measure: 0.630\n",
            "\n"
          ]
        }
      ]
    },
    {
      "cell_type": "markdown",
      "source": [
        "### 4.1.18 Random Forest Classifier Original Plus All New Data"
      ],
      "metadata": {
        "id": "SZYZqrrWM2Xh"
      }
    },
    {
      "cell_type": "code",
      "source": [
        "cross_val_model= cv.fit(df_train)\n",
        "predictions = cross_val_model.transform(df_test)\n",
        "print_metrics(predictions)"
      ],
      "metadata": {
        "id": "C79pHR65M5C2",
        "colab": {
          "base_uri": "https://localhost:8080/"
        },
        "outputId": "a551ac28-f760-437c-ca79-4f8544ac6e87"
      },
      "execution_count": 42,
      "outputs": [
        {
          "output_type": "stream",
          "name": "stdout",
          "text": [
            "+-----+----------+-----+\n",
            "|label|prediction|count|\n",
            "+-----+----------+-----+\n",
            "|  1.0|       1.0|  169|\n",
            "|  0.0|       1.0|   60|\n",
            "|  1.0|       0.0|  291|\n",
            "|  0.0|       0.0|  737|\n",
            "+-----+----------+-----+\n",
            "\n",
            "AUC: 0.761\n",
            "Accuracy: 0.721\n",
            "Precision: 0.738\n",
            "Recall: 0.367\n",
            "F1 score: 0.491\n",
            "Weighted F-Measure: 0.692\n",
            "\n"
          ]
        }
      ]
    },
    {
      "cell_type": "markdown",
      "source": [
        "## 4.2 With Normalization p = 2.0"
      ],
      "metadata": {
        "id": "7TpmYJM2Nr42"
      }
    },
    {
      "cell_type": "markdown",
      "source": [
        "### 4.2.1 Naive Bayes Classifier Original Data"
      ],
      "metadata": {
        "id": "7InFxkBSNszk"
      }
    },
    {
      "cell_type": "code",
      "source": [
        "nb = NaiveBayes(labelCol = 'label', featuresCol = 'Normalized Features')\n",
        "evaluator = MulticlassClassificationEvaluator(labelCol=\"label\", predictionCol=\"prediction\", metricName=\"f1\")\n",
        "NUM_CV_FOLDS = 3\n",
        "paramGrid = ParamGridBuilder().build()\n",
        "cv = StratifiedCrossValidator(estimator = nb, estimatorParamMaps = paramGrid, evaluator = evaluator, numFolds = NUM_CV_FOLDS)\n",
        "cross_val_model= cv.fit(normalized_df_train_original_data)\n",
        "predictions = cross_val_model.transform(normalized_df_test_original_data)\n",
        "print_metrics(predictions)"
      ],
      "metadata": {
        "id": "Vi5l4XlvNxvn",
        "colab": {
          "base_uri": "https://localhost:8080/"
        },
        "outputId": "2b7edbb9-49ac-403a-b855-10fc3c5e7111"
      },
      "execution_count": 43,
      "outputs": [
        {
          "output_type": "stream",
          "name": "stdout",
          "text": [
            "+-----+----------+-----+\n",
            "|label|prediction|count|\n",
            "+-----+----------+-----+\n",
            "|  1.0|       1.0|  188|\n",
            "|  0.0|       1.0|   62|\n",
            "|  1.0|       0.0|  180|\n",
            "|  0.0|       0.0|  636|\n",
            "+-----+----------+-----+\n",
            "\n",
            "AUC: 0.579\n",
            "Accuracy: 0.773\n",
            "Precision: 0.752\n",
            "Recall: 0.511\n",
            "F1 score: 0.608\n",
            "Weighted F-Measure: 0.760\n",
            "\n"
          ]
        }
      ]
    },
    {
      "cell_type": "markdown",
      "source": [
        "### 4.2.2 Naive Bayes Classifier Original Plus Spark Data"
      ],
      "metadata": {
        "id": "ETLgK8ZJN230"
      }
    },
    {
      "cell_type": "code",
      "source": [
        "cross_val_model= cv.fit(normalized_df_train_original_with_spark)\n",
        "predictions = cross_val_model.transform(normalized_df_test_with_spark)\n",
        "print_metrics(predictions)"
      ],
      "metadata": {
        "id": "hEwfmHIlN4J5",
        "colab": {
          "base_uri": "https://localhost:8080/"
        },
        "outputId": "becec056-9b85-40b6-e88b-baf92d6db710"
      },
      "execution_count": 44,
      "outputs": [
        {
          "output_type": "stream",
          "name": "stdout",
          "text": [
            "+-----+----------+-----+\n",
            "|label|prediction|count|\n",
            "+-----+----------+-----+\n",
            "|  1.0|       1.0|  218|\n",
            "|  0.0|       1.0|   79|\n",
            "|  1.0|       0.0|  192|\n",
            "|  0.0|       0.0|  680|\n",
            "+-----+----------+-----+\n",
            "\n",
            "AUC: 0.588\n",
            "Accuracy: 0.768\n",
            "Precision: 0.734\n",
            "Recall: 0.532\n",
            "F1 score: 0.617\n",
            "Weighted F-Measure: 0.758\n",
            "\n"
          ]
        }
      ]
    },
    {
      "cell_type": "markdown",
      "source": [
        "### 4.2.3 Naive Bayes Classifier Original Plus MongoDB Data"
      ],
      "metadata": {
        "id": "ASVa_vv7N6iK"
      }
    },
    {
      "cell_type": "code",
      "source": [
        "cross_val_model= cv.fit(normalized_df_train_original_with_mongodb)\n",
        "predictions = cross_val_model.transform(normalized_df_test_with_mongodb)\n",
        "print_metrics(predictions)"
      ],
      "metadata": {
        "id": "RmyZX0gDN84n",
        "colab": {
          "base_uri": "https://localhost:8080/"
        },
        "outputId": "ec9de939-fdeb-4417-bb03-7449b53d3242"
      },
      "execution_count": 45,
      "outputs": [
        {
          "output_type": "stream",
          "name": "stdout",
          "text": [
            "+-----+----------+-----+\n",
            "|label|prediction|count|\n",
            "+-----+----------+-----+\n",
            "|  1.0|       1.0|  227|\n",
            "|  0.0|       1.0|   86|\n",
            "|  1.0|       0.0|  191|\n",
            "|  0.0|       0.0|  706|\n",
            "+-----+----------+-----+\n",
            "\n",
            "AUC: 0.583\n",
            "Accuracy: 0.771\n",
            "Precision: 0.725\n",
            "Recall: 0.543\n",
            "F1 score: 0.621\n",
            "Weighted F-Measure: 0.762\n",
            "\n"
          ]
        }
      ]
    },
    {
      "cell_type": "markdown",
      "source": [
        "### 4.2.4 Naive Bayes Classifier Original Plus WildFly Data"
      ],
      "metadata": {
        "id": "8GWgrvY_N-ia"
      }
    },
    {
      "cell_type": "code",
      "source": [
        "cross_val_model= cv.fit(normalized_df_train_original_with_wildfly)\n",
        "predictions = cross_val_model.transform(normalized_df_test_with_wildfly)\n",
        "print_metrics(predictions)"
      ],
      "metadata": {
        "id": "jNftLKdFOER7",
        "colab": {
          "base_uri": "https://localhost:8080/"
        },
        "outputId": "6c692174-6e40-48c9-b80c-ff024fbd6d80"
      },
      "execution_count": 46,
      "outputs": [
        {
          "output_type": "stream",
          "name": "stdout",
          "text": [
            "+-----+----------+-----+\n",
            "|label|prediction|count|\n",
            "+-----+----------+-----+\n",
            "|  1.0|       1.0|  201|\n",
            "|  0.0|       1.0|   82|\n",
            "|  1.0|       0.0|  193|\n",
            "|  0.0|       0.0|  661|\n",
            "+-----+----------+-----+\n",
            "\n",
            "AUC: 0.618\n",
            "Accuracy: 0.758\n",
            "Precision: 0.710\n",
            "Recall: 0.510\n",
            "F1 score: 0.594\n",
            "Weighted F-Measure: 0.747\n",
            "\n"
          ]
        }
      ]
    },
    {
      "cell_type": "markdown",
      "source": [
        "### 4.2.5 Naive Bayes Classifier New Data Only"
      ],
      "metadata": {
        "id": "C1bTyiAlOF4y"
      }
    },
    {
      "cell_type": "code",
      "source": [
        "cross_val_model= cv.fit(normalized_df_train_all_new)\n",
        "predictions = cross_val_model.transform(normalized_df_test_all_new)\n",
        "print_metrics(predictions)"
      ],
      "metadata": {
        "id": "LDQ5KK1yOH-J",
        "colab": {
          "base_uri": "https://localhost:8080/"
        },
        "outputId": "5b89da48-052b-4df2-c6e2-a5f30d3ec5d2"
      },
      "execution_count": 47,
      "outputs": [
        {
          "output_type": "stream",
          "name": "stdout",
          "text": [
            "+-----+----------+-----+\n",
            "|label|prediction|count|\n",
            "+-----+----------+-----+\n",
            "|  1.0|       1.0|   48|\n",
            "|  0.0|       1.0|   25|\n",
            "|  1.0|       0.0|   18|\n",
            "|  0.0|       0.0|   53|\n",
            "+-----+----------+-----+\n",
            "\n",
            "AUC: 0.561\n",
            "Accuracy: 0.701\n",
            "Precision: 0.658\n",
            "Recall: 0.727\n",
            "F1 score: 0.691\n",
            "Weighted F-Measure: 0.702\n",
            "\n"
          ]
        }
      ]
    },
    {
      "cell_type": "markdown",
      "source": [
        "### 4.2.6 Naive Bayes Classifier Original Plus All New Data"
      ],
      "metadata": {
        "id": "nQtQtW_gOKv3"
      }
    },
    {
      "cell_type": "code",
      "source": [
        "cross_val_model= cv.fit(normalized_df_train)\n",
        "predictions = cross_val_model.transform(normalized_df_test)\n",
        "print_metrics(predictions)"
      ],
      "metadata": {
        "id": "l7zjXYn3ONZx",
        "colab": {
          "base_uri": "https://localhost:8080/"
        },
        "outputId": "3246ab70-bc03-4454-ace3-8326fc7e8574"
      },
      "execution_count": 48,
      "outputs": [
        {
          "output_type": "stream",
          "name": "stdout",
          "text": [
            "+-----+----------+-----+\n",
            "|label|prediction|count|\n",
            "+-----+----------+-----+\n",
            "|  1.0|       1.0|  213|\n",
            "|  0.0|       1.0|   88|\n",
            "|  1.0|       0.0|  226|\n",
            "|  0.0|       0.0|  687|\n",
            "+-----+----------+-----+\n",
            "\n",
            "AUC: 0.579\n",
            "Accuracy: 0.741\n",
            "Precision: 0.708\n",
            "Recall: 0.485\n",
            "F1 score: 0.576\n",
            "Weighted F-Measure: 0.728\n",
            "\n"
          ]
        }
      ]
    },
    {
      "cell_type": "markdown",
      "source": [
        "### 4.2.7 Linear SVC Classifier Original Data"
      ],
      "metadata": {
        "id": "AGV6lkWROPdn"
      }
    },
    {
      "cell_type": "code",
      "source": [
        "lsvc = LinearSVC(labelCol = 'label', featuresCol = 'Normalized Features')\n",
        "evaluator = MulticlassClassificationEvaluator(labelCol=\"label\", predictionCol=\"prediction\", metricName=\"f1\")\n",
        "NUM_CV_FOLDS = 3\n",
        "paramGrid = ParamGridBuilder().build()\n",
        "cv = StratifiedCrossValidator(estimator = lsvc, estimatorParamMaps = paramGrid, evaluator = evaluator, numFolds = NUM_CV_FOLDS)\n",
        "cross_val_model= cv.fit(normalized_df_train_original_data)\n",
        "predictions = cross_val_model.transform(normalized_df_test_original_data)\n",
        "print_metrics(predictions)"
      ],
      "metadata": {
        "id": "yX0snie4OTQt",
        "colab": {
          "base_uri": "https://localhost:8080/"
        },
        "outputId": "f83f8a61-c58b-4c85-8c21-67f95a442eeb"
      },
      "execution_count": 49,
      "outputs": [
        {
          "output_type": "stream",
          "name": "stdout",
          "text": [
            "+-----+----------+-----+\n",
            "|label|prediction|count|\n",
            "+-----+----------+-----+\n",
            "|  1.0|       1.0|  201|\n",
            "|  0.0|       1.0|   82|\n",
            "|  1.0|       0.0|  167|\n",
            "|  0.0|       0.0|  616|\n",
            "+-----+----------+-----+\n",
            "\n",
            "AUC: 0.831\n",
            "Accuracy: 0.766\n",
            "Precision: 0.710\n",
            "Recall: 0.546\n",
            "F1 score: 0.618\n",
            "Weighted F-Measure: 0.758\n",
            "\n"
          ]
        }
      ]
    },
    {
      "cell_type": "markdown",
      "source": [
        "### 4.2.8 Linear SVC Classifier Original Plus Spark Data"
      ],
      "metadata": {
        "id": "QKXBrKonOVbg"
      }
    },
    {
      "cell_type": "code",
      "source": [
        "cross_val_model= cv.fit(normalized_df_train_original_with_spark)\n",
        "predictions = cross_val_model.transform(normalized_df_test_with_spark)\n",
        "print_metrics(predictions)"
      ],
      "metadata": {
        "id": "nIoCMhqSOZ6J",
        "colab": {
          "base_uri": "https://localhost:8080/"
        },
        "outputId": "01f2952d-772f-4864-8ec8-b6ce84787b81"
      },
      "execution_count": 50,
      "outputs": [
        {
          "output_type": "stream",
          "name": "stdout",
          "text": [
            "+-----+----------+-----+\n",
            "|label|prediction|count|\n",
            "+-----+----------+-----+\n",
            "|  1.0|       1.0|  224|\n",
            "|  0.0|       1.0|   87|\n",
            "|  1.0|       0.0|  186|\n",
            "|  0.0|       0.0|  672|\n",
            "+-----+----------+-----+\n",
            "\n",
            "AUC: 0.816\n",
            "Accuracy: 0.766\n",
            "Precision: 0.720\n",
            "Recall: 0.546\n",
            "F1 score: 0.621\n",
            "Weighted F-Measure: 0.758\n",
            "\n"
          ]
        }
      ]
    },
    {
      "cell_type": "markdown",
      "source": [
        "### 4.2.9 Linear SVC Classifier Original Plus MongoDB Data"
      ],
      "metadata": {
        "id": "_ecXfTA0Oci-"
      }
    },
    {
      "cell_type": "code",
      "source": [
        "cross_val_model= cv.fit(normalized_df_train_original_with_mongodb)\n",
        "predictions = cross_val_model.transform(normalized_df_test_with_mongodb)\n",
        "print_metrics(predictions)"
      ],
      "metadata": {
        "id": "Zz3vxnu4OfPf",
        "colab": {
          "base_uri": "https://localhost:8080/"
        },
        "outputId": "72188478-c559-461b-8afa-dc8b2cec312b"
      },
      "execution_count": 51,
      "outputs": [
        {
          "output_type": "stream",
          "name": "stdout",
          "text": [
            "+-----+----------+-----+\n",
            "|label|prediction|count|\n",
            "+-----+----------+-----+\n",
            "|  1.0|       1.0|  250|\n",
            "|  0.0|       1.0|   99|\n",
            "|  1.0|       0.0|  168|\n",
            "|  0.0|       0.0|  693|\n",
            "+-----+----------+-----+\n",
            "\n",
            "AUC: 0.837\n",
            "Accuracy: 0.779\n",
            "Precision: 0.716\n",
            "Recall: 0.598\n",
            "F1 score: 0.652\n",
            "Weighted F-Measure: 0.774\n",
            "\n"
          ]
        }
      ]
    },
    {
      "cell_type": "markdown",
      "source": [
        "### 4.2.10 Linear SVC Classifier Original Plus Wildfly Data"
      ],
      "metadata": {
        "id": "KapRDtNQOjDH"
      }
    },
    {
      "cell_type": "code",
      "source": [
        "cross_val_model= cv.fit(normalized_df_train_original_with_wildfly)\n",
        "predictions = cross_val_model.transform(normalized_df_test_with_wildfly)\n",
        "print_metrics(predictions)"
      ],
      "metadata": {
        "id": "L2tiFq3ZOnkY",
        "colab": {
          "base_uri": "https://localhost:8080/"
        },
        "outputId": "423788e7-9f0c-4f9d-8d6a-5f485f5e29d0"
      },
      "execution_count": 52,
      "outputs": [
        {
          "output_type": "stream",
          "name": "stdout",
          "text": [
            "+-----+----------+-----+\n",
            "|label|prediction|count|\n",
            "+-----+----------+-----+\n",
            "|  1.0|       1.0|  219|\n",
            "|  0.0|       1.0|  110|\n",
            "|  1.0|       0.0|  175|\n",
            "|  0.0|       0.0|  633|\n",
            "+-----+----------+-----+\n",
            "\n",
            "AUC: 0.802\n",
            "Accuracy: 0.749\n",
            "Precision: 0.666\n",
            "Recall: 0.556\n",
            "F1 score: 0.606\n",
            "Weighted F-Measure: 0.743\n",
            "\n"
          ]
        }
      ]
    },
    {
      "cell_type": "markdown",
      "source": [
        "### 4.2.11 Linear SVC Classifier New Data Only"
      ],
      "metadata": {
        "id": "IE5_ireBOpQ5"
      }
    },
    {
      "cell_type": "code",
      "source": [
        "cross_val_model= cv.fit(normalized_df_train_all_new)\n",
        "predictions = cross_val_model.transform(normalized_df_test_all_new)\n",
        "print_metrics(predictions)"
      ],
      "metadata": {
        "id": "aoGvYfdjOraH",
        "colab": {
          "base_uri": "https://localhost:8080/"
        },
        "outputId": "a92aa691-1411-4a20-f988-0b0c0d09ded9"
      },
      "execution_count": 53,
      "outputs": [
        {
          "output_type": "stream",
          "name": "stdout",
          "text": [
            "+-----+----------+-----+\n",
            "|label|prediction|count|\n",
            "+-----+----------+-----+\n",
            "|  1.0|       1.0|   44|\n",
            "|  0.0|       1.0|   27|\n",
            "|  1.0|       0.0|   22|\n",
            "|  0.0|       0.0|   51|\n",
            "+-----+----------+-----+\n",
            "\n",
            "AUC: 0.731\n",
            "Accuracy: 0.660\n",
            "Precision: 0.620\n",
            "Recall: 0.667\n",
            "F1 score: 0.642\n",
            "Weighted F-Measure: 0.660\n",
            "\n"
          ]
        }
      ]
    },
    {
      "cell_type": "markdown",
      "source": [
        "### 4.2.12 Linear SVC Classifier Original Plus All New Data"
      ],
      "metadata": {
        "id": "rUzggdYTOtTz"
      }
    },
    {
      "cell_type": "code",
      "source": [
        "cross_val_model= cv.fit(normalized_df_train)\n",
        "predictions = cross_val_model.transform(normalized_df_test)\n",
        "print_metrics(predictions)"
      ],
      "metadata": {
        "id": "uhURsQrxOyrt",
        "colab": {
          "base_uri": "https://localhost:8080/"
        },
        "outputId": "3d97181d-2bce-45c4-befa-a936d485c8b8"
      },
      "execution_count": 54,
      "outputs": [
        {
          "output_type": "stream",
          "name": "stdout",
          "text": [
            "+-----+----------+-----+\n",
            "|label|prediction|count|\n",
            "+-----+----------+-----+\n",
            "|  1.0|       1.0|  238|\n",
            "|  0.0|       1.0|  104|\n",
            "|  1.0|       0.0|  201|\n",
            "|  0.0|       0.0|  671|\n",
            "+-----+----------+-----+\n",
            "\n",
            "AUC: 0.806\n",
            "Accuracy: 0.749\n",
            "Precision: 0.696\n",
            "Recall: 0.542\n",
            "F1 score: 0.609\n",
            "Weighted F-Measure: 0.741\n",
            "\n"
          ]
        }
      ]
    },
    {
      "cell_type": "markdown",
      "source": [
        "### 4.2.13 Random Forest Classifier Original Data"
      ],
      "metadata": {
        "id": "egqbJ_E7O08o"
      }
    },
    {
      "cell_type": "code",
      "source": [
        "rf = RandomForestClassifier(labelCol = 'label', featuresCol = 'Normalized Features')\n",
        "evaluator = MulticlassClassificationEvaluator(labelCol=\"label\", predictionCol=\"prediction\", metricName=\"f1\")\n",
        "NUM_CV_FOLDS = 3\n",
        "paramGrid = ParamGridBuilder().build()\n",
        "cv = StratifiedCrossValidator(estimator = rf, estimatorParamMaps = paramGrid, evaluator = evaluator, numFolds = NUM_CV_FOLDS)\n",
        "cross_val_model= cv.fit(normalized_df_train_original_data)\n",
        "predictions = cross_val_model.transform(normalized_df_test_original_data)\n",
        "print_metrics(predictions)"
      ],
      "metadata": {
        "id": "1UrzF2YCO2-v",
        "colab": {
          "base_uri": "https://localhost:8080/"
        },
        "outputId": "e1edfd4e-0e6e-46f0-ffd9-44a01e70485a"
      },
      "execution_count": 55,
      "outputs": [
        {
          "output_type": "stream",
          "name": "stdout",
          "text": [
            "+-----+----------+-----+\n",
            "|label|prediction|count|\n",
            "+-----+----------+-----+\n",
            "|  1.0|       1.0|   46|\n",
            "|  0.0|       1.0|   12|\n",
            "|  1.0|       0.0|  322|\n",
            "|  0.0|       0.0|  686|\n",
            "+-----+----------+-----+\n",
            "\n",
            "AUC: 0.787\n",
            "Accuracy: 0.687\n",
            "Precision: 0.793\n",
            "Recall: 0.125\n",
            "F1 score: 0.216\n",
            "Weighted F-Measure: 0.601\n",
            "\n"
          ]
        }
      ]
    },
    {
      "cell_type": "markdown",
      "source": [
        "### 4.2.14 Random Forest Classifier Original Plus Spark Data"
      ],
      "metadata": {
        "id": "uYoJO0PGO5ET"
      }
    },
    {
      "cell_type": "code",
      "source": [
        "cross_val_model= cv.fit(normalized_df_train_original_with_spark)\n",
        "predictions = cross_val_model.transform(normalized_df_test_with_spark)\n",
        "print_metrics(predictions)"
      ],
      "metadata": {
        "id": "LdPYhea4O91-",
        "colab": {
          "base_uri": "https://localhost:8080/"
        },
        "outputId": "a517def7-a79a-486b-aabc-dc984db603e0"
      },
      "execution_count": 56,
      "outputs": [
        {
          "output_type": "stream",
          "name": "stdout",
          "text": [
            "+-----+----------+-----+\n",
            "|label|prediction|count|\n",
            "+-----+----------+-----+\n",
            "|  1.0|       1.0|   42|\n",
            "|  0.0|       1.0|   10|\n",
            "|  1.0|       0.0|  368|\n",
            "|  0.0|       0.0|  749|\n",
            "+-----+----------+-----+\n",
            "\n",
            "AUC: 0.769\n",
            "Accuracy: 0.677\n",
            "Precision: 0.808\n",
            "Recall: 0.102\n",
            "F1 score: 0.182\n",
            "Weighted F-Measure: 0.582\n",
            "\n"
          ]
        }
      ]
    },
    {
      "cell_type": "markdown",
      "source": [
        "### 4.2.15 Random Forest Classifier Original Plus MongoDB Data"
      ],
      "metadata": {
        "id": "2q1y0MOhPAA7"
      }
    },
    {
      "cell_type": "code",
      "source": [
        "cross_val_model= cv.fit(normalized_df_train_original_with_mongodb)\n",
        "predictions = cross_val_model.transform(normalized_df_test_with_mongodb)\n",
        "print_metrics(predictions)"
      ],
      "metadata": {
        "id": "YYktZIJCPDaK",
        "colab": {
          "base_uri": "https://localhost:8080/"
        },
        "outputId": "57e7e929-9120-4b92-c288-4f06e14de3ee"
      },
      "execution_count": 57,
      "outputs": [
        {
          "output_type": "stream",
          "name": "stdout",
          "text": [
            "+-----+----------+-----+\n",
            "|label|prediction|count|\n",
            "+-----+----------+-----+\n",
            "|  1.0|       1.0|   55|\n",
            "|  0.0|       1.0|   11|\n",
            "|  1.0|       0.0|  363|\n",
            "|  0.0|       0.0|  781|\n",
            "+-----+----------+-----+\n",
            "\n",
            "AUC: 0.788\n",
            "Accuracy: 0.691\n",
            "Precision: 0.833\n",
            "Recall: 0.132\n",
            "F1 score: 0.227\n",
            "Weighted F-Measure: 0.607\n",
            "\n"
          ]
        }
      ]
    },
    {
      "cell_type": "markdown",
      "source": [
        "### 4.2.16 Random Forest Classifier Original Plus Wildfly Data"
      ],
      "metadata": {
        "id": "0RYPWRcoPIg2"
      }
    },
    {
      "cell_type": "code",
      "source": [
        "cross_val_model= cv.fit(normalized_df_train_original_with_wildfly)\n",
        "predictions = cross_val_model.transform(normalized_df_test_with_wildfly)\n",
        "print_metrics(predictions)"
      ],
      "metadata": {
        "id": "1VCiwJ86PLLR",
        "colab": {
          "base_uri": "https://localhost:8080/"
        },
        "outputId": "dfc20fa7-a54b-4ed2-9012-b367a87e3098"
      },
      "execution_count": 58,
      "outputs": [
        {
          "output_type": "stream",
          "name": "stdout",
          "text": [
            "+-----+----------+-----+\n",
            "|label|prediction|count|\n",
            "+-----+----------+-----+\n",
            "|  1.0|       1.0|   74|\n",
            "|  0.0|       1.0|   28|\n",
            "|  1.0|       0.0|  320|\n",
            "|  0.0|       0.0|  715|\n",
            "+-----+----------+-----+\n",
            "\n",
            "AUC: 0.746\n",
            "Accuracy: 0.694\n",
            "Precision: 0.725\n",
            "Recall: 0.188\n",
            "F1 score: 0.298\n",
            "Weighted F-Measure: 0.629\n",
            "\n"
          ]
        }
      ]
    },
    {
      "cell_type": "markdown",
      "source": [
        "### 4.2.17 Random Forest Classifier New Data Only"
      ],
      "metadata": {
        "id": "eFKR5berPM7K"
      }
    },
    {
      "cell_type": "code",
      "source": [
        "cross_val_model= cv.fit(normalized_df_train_all_new)\n",
        "predictions = cross_val_model.transform(normalized_df_test_all_new)\n",
        "print_metrics(predictions)"
      ],
      "metadata": {
        "id": "hDuff868PPpH",
        "colab": {
          "base_uri": "https://localhost:8080/"
        },
        "outputId": "b1b38849-8ec0-478b-e584-bf508461a61a"
      },
      "execution_count": 59,
      "outputs": [
        {
          "output_type": "stream",
          "name": "stdout",
          "text": [
            "+-----+----------+-----+\n",
            "|label|prediction|count|\n",
            "+-----+----------+-----+\n",
            "|  1.0|       1.0|   56|\n",
            "|  0.0|       1.0|   40|\n",
            "|  1.0|       0.0|   10|\n",
            "|  0.0|       0.0|   38|\n",
            "+-----+----------+-----+\n",
            "\n",
            "AUC: 0.745\n",
            "Accuracy: 0.653\n",
            "Precision: 0.583\n",
            "Recall: 0.848\n",
            "F1 score: 0.691\n",
            "Weighted F-Measure: 0.644\n",
            "\n"
          ]
        }
      ]
    },
    {
      "cell_type": "markdown",
      "source": [
        "### 4.2.18 Random Forest Classifier Original Plus All New Data"
      ],
      "metadata": {
        "id": "Ze6NfWdwPRt8"
      }
    },
    {
      "cell_type": "code",
      "source": [
        "cross_val_model= cv.fit(normalized_df_train)\n",
        "predictions = cross_val_model.transform(normalized_df_test)\n",
        "print_metrics(predictions)"
      ],
      "metadata": {
        "id": "BbVqeZtTPWSE",
        "colab": {
          "base_uri": "https://localhost:8080/"
        },
        "outputId": "9fbd9cef-02d3-4eb3-9c16-38b6f906803d"
      },
      "execution_count": 60,
      "outputs": [
        {
          "output_type": "stream",
          "name": "stdout",
          "text": [
            "+-----+----------+-----+\n",
            "|label|prediction|count|\n",
            "+-----+----------+-----+\n",
            "|  1.0|       1.0|  119|\n",
            "|  0.0|       1.0|   52|\n",
            "|  1.0|       0.0|  320|\n",
            "|  0.0|       0.0|  723|\n",
            "+-----+----------+-----+\n",
            "\n",
            "AUC: 0.761\n",
            "Accuracy: 0.694\n",
            "Precision: 0.696\n",
            "Recall: 0.271\n",
            "F1 score: 0.390\n",
            "Weighted F-Measure: 0.649\n",
            "\n"
          ]
        }
      ]
    },
    {
      "cell_type": "markdown",
      "source": [
        "# 5. Effect of Different Hyperparameters on Model Performances (F measure) with All Combined Data"
      ],
      "metadata": {
        "id": "pORoFK0iPcBx"
      }
    },
    {
      "cell_type": "markdown",
      "source": [
        "## 5.1 Without Normalization (featuresCol = 'features')"
      ],
      "metadata": {
        "id": "i2HFsaHEPeMT"
      }
    },
    {
      "cell_type": "markdown",
      "source": [
        "### 5.1.1 Naive Bayes Classifier"
      ],
      "metadata": {
        "id": "6agyMgxLPhma"
      }
    },
    {
      "cell_type": "code",
      "source": [
        "nb = NaiveBayes(labelCol = 'label', featuresCol = 'features')\n",
        "paramGrid = ParamGridBuilder().addGrid(nb.smoothing, [0.0, 0.2, 0.4, 0.6, 0.8, 1.0]).build()\n",
        " \n",
        "evaluator = MulticlassClassificationEvaluator(labelCol=\"label\", predictionCol=\"prediction\", metricName=\"f1\")\n",
        "NUM_CV_FOLDS = 2\n",
        " \n",
        "cv = StratifiedCrossValidator(estimator = nb, estimatorParamMaps = paramGrid, evaluator = evaluator, numFolds = NUM_CV_FOLDS)\n",
        " \n",
        "cvModel = cv.fit(normalized_df_train)\n",
        " \n",
        "predictions = cvModel.transform(normalized_df_test)\n",
        "print_metrics(predictions)\n",
        " \n",
        "# The following is used from: https://stackoverflow.com/questions/51230726/extract-results-from-crossvalidator-with-paramgrid-in-pyspark\n",
        "params = [{p.name: v for p, v in m.items()} for m in cvModel.getEstimatorParamMaps()]\n",
        "pandas.DataFrame.from_dict([{cvModel.getEvaluator().getMetricName(): metric, **ps} for ps, metric in zip(params, cvModel.avgMetrics)])"
      ],
      "metadata": {
        "id": "QIrD5tVMPjw0",
        "colab": {
          "base_uri": "https://localhost:8080/",
          "height": 515
        },
        "outputId": "d38548bf-0515-4cd2-c25a-2283c70411fc"
      },
      "execution_count": 61,
      "outputs": [
        {
          "output_type": "stream",
          "name": "stdout",
          "text": [
            "+-----+----------+-----+\n",
            "|label|prediction|count|\n",
            "+-----+----------+-----+\n",
            "|  1.0|       1.0|  237|\n",
            "|  0.0|       1.0|  107|\n",
            "|  1.0|       0.0|  202|\n",
            "|  0.0|       0.0|  668|\n",
            "+-----+----------+-----+\n",
            "\n",
            "AUC: 0.540\n",
            "Accuracy: 0.745\n",
            "Precision: 0.689\n",
            "Recall: 0.540\n",
            "F1 score: 0.605\n",
            "Weighted F-Measure: 0.737\n",
            "\n"
          ]
        },
        {
          "output_type": "execute_result",
          "data": {
            "text/plain": [
              "         f1  smoothing\n",
              "0  0.733642        0.0\n",
              "1  0.733909        0.2\n",
              "2  0.733559        0.4\n",
              "3  0.733255        0.6\n",
              "4  0.733427        0.8\n",
              "5  0.734045        1.0"
            ],
            "text/html": [
              "\n",
              "  <div id=\"df-dc194d3a-274b-4e2a-8adb-5ff45ee679fb\">\n",
              "    <div class=\"colab-df-container\">\n",
              "      <div>\n",
              "<style scoped>\n",
              "    .dataframe tbody tr th:only-of-type {\n",
              "        vertical-align: middle;\n",
              "    }\n",
              "\n",
              "    .dataframe tbody tr th {\n",
              "        vertical-align: top;\n",
              "    }\n",
              "\n",
              "    .dataframe thead th {\n",
              "        text-align: right;\n",
              "    }\n",
              "</style>\n",
              "<table border=\"1\" class=\"dataframe\">\n",
              "  <thead>\n",
              "    <tr style=\"text-align: right;\">\n",
              "      <th></th>\n",
              "      <th>f1</th>\n",
              "      <th>smoothing</th>\n",
              "    </tr>\n",
              "  </thead>\n",
              "  <tbody>\n",
              "    <tr>\n",
              "      <th>0</th>\n",
              "      <td>0.733642</td>\n",
              "      <td>0.0</td>\n",
              "    </tr>\n",
              "    <tr>\n",
              "      <th>1</th>\n",
              "      <td>0.733909</td>\n",
              "      <td>0.2</td>\n",
              "    </tr>\n",
              "    <tr>\n",
              "      <th>2</th>\n",
              "      <td>0.733559</td>\n",
              "      <td>0.4</td>\n",
              "    </tr>\n",
              "    <tr>\n",
              "      <th>3</th>\n",
              "      <td>0.733255</td>\n",
              "      <td>0.6</td>\n",
              "    </tr>\n",
              "    <tr>\n",
              "      <th>4</th>\n",
              "      <td>0.733427</td>\n",
              "      <td>0.8</td>\n",
              "    </tr>\n",
              "    <tr>\n",
              "      <th>5</th>\n",
              "      <td>0.734045</td>\n",
              "      <td>1.0</td>\n",
              "    </tr>\n",
              "  </tbody>\n",
              "</table>\n",
              "</div>\n",
              "      <button class=\"colab-df-convert\" onclick=\"convertToInteractive('df-dc194d3a-274b-4e2a-8adb-5ff45ee679fb')\"\n",
              "              title=\"Convert this dataframe to an interactive table.\"\n",
              "              style=\"display:none;\">\n",
              "        \n",
              "  <svg xmlns=\"http://www.w3.org/2000/svg\" height=\"24px\"viewBox=\"0 0 24 24\"\n",
              "       width=\"24px\">\n",
              "    <path d=\"M0 0h24v24H0V0z\" fill=\"none\"/>\n",
              "    <path d=\"M18.56 5.44l.94 2.06.94-2.06 2.06-.94-2.06-.94-.94-2.06-.94 2.06-2.06.94zm-11 1L8.5 8.5l.94-2.06 2.06-.94-2.06-.94L8.5 2.5l-.94 2.06-2.06.94zm10 10l.94 2.06.94-2.06 2.06-.94-2.06-.94-.94-2.06-.94 2.06-2.06.94z\"/><path d=\"M17.41 7.96l-1.37-1.37c-.4-.4-.92-.59-1.43-.59-.52 0-1.04.2-1.43.59L10.3 9.45l-7.72 7.72c-.78.78-.78 2.05 0 2.83L4 21.41c.39.39.9.59 1.41.59.51 0 1.02-.2 1.41-.59l7.78-7.78 2.81-2.81c.8-.78.8-2.07 0-2.86zM5.41 20L4 18.59l7.72-7.72 1.47 1.35L5.41 20z\"/>\n",
              "  </svg>\n",
              "      </button>\n",
              "      \n",
              "  <style>\n",
              "    .colab-df-container {\n",
              "      display:flex;\n",
              "      flex-wrap:wrap;\n",
              "      gap: 12px;\n",
              "    }\n",
              "\n",
              "    .colab-df-convert {\n",
              "      background-color: #E8F0FE;\n",
              "      border: none;\n",
              "      border-radius: 50%;\n",
              "      cursor: pointer;\n",
              "      display: none;\n",
              "      fill: #1967D2;\n",
              "      height: 32px;\n",
              "      padding: 0 0 0 0;\n",
              "      width: 32px;\n",
              "    }\n",
              "\n",
              "    .colab-df-convert:hover {\n",
              "      background-color: #E2EBFA;\n",
              "      box-shadow: 0px 1px 2px rgba(60, 64, 67, 0.3), 0px 1px 3px 1px rgba(60, 64, 67, 0.15);\n",
              "      fill: #174EA6;\n",
              "    }\n",
              "\n",
              "    [theme=dark] .colab-df-convert {\n",
              "      background-color: #3B4455;\n",
              "      fill: #D2E3FC;\n",
              "    }\n",
              "\n",
              "    [theme=dark] .colab-df-convert:hover {\n",
              "      background-color: #434B5C;\n",
              "      box-shadow: 0px 1px 3px 1px rgba(0, 0, 0, 0.15);\n",
              "      filter: drop-shadow(0px 1px 2px rgba(0, 0, 0, 0.3));\n",
              "      fill: #FFFFFF;\n",
              "    }\n",
              "  </style>\n",
              "\n",
              "      <script>\n",
              "        const buttonEl =\n",
              "          document.querySelector('#df-dc194d3a-274b-4e2a-8adb-5ff45ee679fb button.colab-df-convert');\n",
              "        buttonEl.style.display =\n",
              "          google.colab.kernel.accessAllowed ? 'block' : 'none';\n",
              "\n",
              "        async function convertToInteractive(key) {\n",
              "          const element = document.querySelector('#df-dc194d3a-274b-4e2a-8adb-5ff45ee679fb');\n",
              "          const dataTable =\n",
              "            await google.colab.kernel.invokeFunction('convertToInteractive',\n",
              "                                                     [key], {});\n",
              "          if (!dataTable) return;\n",
              "\n",
              "          const docLinkHtml = 'Like what you see? Visit the ' +\n",
              "            '<a target=\"_blank\" href=https://colab.research.google.com/notebooks/data_table.ipynb>data table notebook</a>'\n",
              "            + ' to learn more about interactive tables.';\n",
              "          element.innerHTML = '';\n",
              "          dataTable['output_type'] = 'display_data';\n",
              "          await google.colab.output.renderOutput(dataTable, element);\n",
              "          const docLink = document.createElement('div');\n",
              "          docLink.innerHTML = docLinkHtml;\n",
              "          element.appendChild(docLink);\n",
              "        }\n",
              "      </script>\n",
              "    </div>\n",
              "  </div>\n",
              "  "
            ]
          },
          "metadata": {},
          "execution_count": 61
        }
      ]
    },
    {
      "cell_type": "markdown",
      "source": [
        "### 5.1.2 Linear SVC Classifier"
      ],
      "metadata": {
        "id": "KDpwX7mHgfnw"
      }
    },
    {
      "cell_type": "code",
      "source": [
        "lsvc = LinearSVC(labelCol = 'label', featuresCol = 'features')\n",
        " \n",
        "paramGrid = ParamGridBuilder().addGrid(lsvc.regParam,[0.001, 0.01, 0.1, 1.0]).addGrid(lsvc.maxIter, [10, 15, 20]).build()\n",
        " \n",
        "evaluator = MulticlassClassificationEvaluator(labelCol=\"label\", predictionCol=\"prediction\", metricName=\"f1\")\n",
        "NUM_CV_FOLDS = 2\n",
        " \n",
        "cv = StratifiedCrossValidator(estimator = lsvc, estimatorParamMaps = paramGrid, evaluator = evaluator, numFolds = NUM_CV_FOLDS)\n",
        " \n",
        "cvModel = cv.fit(normalized_df_train)\n",
        " \n",
        "predictions = cvModel.transform(normalized_df_test)\n",
        "print_metrics(predictions)\n",
        " \n",
        "params = [{p.name: v for p, v in m.items()} for m in cvModel.getEstimatorParamMaps()]\n",
        "pandas.DataFrame.from_dict([{cvModel.getEvaluator().getMetricName(): metric, **ps} for ps, metric in zip(params, cvModel.avgMetrics)])"
      ],
      "metadata": {
        "id": "7D5IpbP9ge6W",
        "colab": {
          "base_uri": "https://localhost:8080/",
          "height": 703
        },
        "outputId": "313f876c-f1e2-4c6c-9b46-870d72207e6e"
      },
      "execution_count": 62,
      "outputs": [
        {
          "output_type": "stream",
          "name": "stdout",
          "text": [
            "+-----+----------+-----+\n",
            "|label|prediction|count|\n",
            "+-----+----------+-----+\n",
            "|  1.0|       1.0|  224|\n",
            "|  0.0|       1.0|   92|\n",
            "|  1.0|       0.0|  215|\n",
            "|  0.0|       0.0|  683|\n",
            "+-----+----------+-----+\n",
            "\n",
            "AUC: 0.808\n",
            "Accuracy: 0.747\n",
            "Precision: 0.709\n",
            "Recall: 0.510\n",
            "F1 score: 0.593\n",
            "Weighted F-Measure: 0.736\n",
            "\n"
          ]
        },
        {
          "output_type": "execute_result",
          "data": {
            "text/plain": [
              "          f1  regParam  maxIter\n",
              "0   0.734044     0.001       10\n",
              "1   0.734893     0.001       15\n",
              "2   0.736044     0.001       20\n",
              "3   0.731277     0.010       10\n",
              "4   0.731146     0.010       15\n",
              "5   0.732746     0.010       20\n",
              "6   0.723667     0.100       10\n",
              "7   0.723186     0.100       15\n",
              "8   0.722645     0.100       20\n",
              "9   0.549777     1.000       10\n",
              "10  0.544990     1.000       15\n",
              "11  0.544990     1.000       20"
            ],
            "text/html": [
              "\n",
              "  <div id=\"df-cf92d8a1-8e9d-44c0-a470-64a02175852d\">\n",
              "    <div class=\"colab-df-container\">\n",
              "      <div>\n",
              "<style scoped>\n",
              "    .dataframe tbody tr th:only-of-type {\n",
              "        vertical-align: middle;\n",
              "    }\n",
              "\n",
              "    .dataframe tbody tr th {\n",
              "        vertical-align: top;\n",
              "    }\n",
              "\n",
              "    .dataframe thead th {\n",
              "        text-align: right;\n",
              "    }\n",
              "</style>\n",
              "<table border=\"1\" class=\"dataframe\">\n",
              "  <thead>\n",
              "    <tr style=\"text-align: right;\">\n",
              "      <th></th>\n",
              "      <th>f1</th>\n",
              "      <th>regParam</th>\n",
              "      <th>maxIter</th>\n",
              "    </tr>\n",
              "  </thead>\n",
              "  <tbody>\n",
              "    <tr>\n",
              "      <th>0</th>\n",
              "      <td>0.734044</td>\n",
              "      <td>0.001</td>\n",
              "      <td>10</td>\n",
              "    </tr>\n",
              "    <tr>\n",
              "      <th>1</th>\n",
              "      <td>0.734893</td>\n",
              "      <td>0.001</td>\n",
              "      <td>15</td>\n",
              "    </tr>\n",
              "    <tr>\n",
              "      <th>2</th>\n",
              "      <td>0.736044</td>\n",
              "      <td>0.001</td>\n",
              "      <td>20</td>\n",
              "    </tr>\n",
              "    <tr>\n",
              "      <th>3</th>\n",
              "      <td>0.731277</td>\n",
              "      <td>0.010</td>\n",
              "      <td>10</td>\n",
              "    </tr>\n",
              "    <tr>\n",
              "      <th>4</th>\n",
              "      <td>0.731146</td>\n",
              "      <td>0.010</td>\n",
              "      <td>15</td>\n",
              "    </tr>\n",
              "    <tr>\n",
              "      <th>5</th>\n",
              "      <td>0.732746</td>\n",
              "      <td>0.010</td>\n",
              "      <td>20</td>\n",
              "    </tr>\n",
              "    <tr>\n",
              "      <th>6</th>\n",
              "      <td>0.723667</td>\n",
              "      <td>0.100</td>\n",
              "      <td>10</td>\n",
              "    </tr>\n",
              "    <tr>\n",
              "      <th>7</th>\n",
              "      <td>0.723186</td>\n",
              "      <td>0.100</td>\n",
              "      <td>15</td>\n",
              "    </tr>\n",
              "    <tr>\n",
              "      <th>8</th>\n",
              "      <td>0.722645</td>\n",
              "      <td>0.100</td>\n",
              "      <td>20</td>\n",
              "    </tr>\n",
              "    <tr>\n",
              "      <th>9</th>\n",
              "      <td>0.549777</td>\n",
              "      <td>1.000</td>\n",
              "      <td>10</td>\n",
              "    </tr>\n",
              "    <tr>\n",
              "      <th>10</th>\n",
              "      <td>0.544990</td>\n",
              "      <td>1.000</td>\n",
              "      <td>15</td>\n",
              "    </tr>\n",
              "    <tr>\n",
              "      <th>11</th>\n",
              "      <td>0.544990</td>\n",
              "      <td>1.000</td>\n",
              "      <td>20</td>\n",
              "    </tr>\n",
              "  </tbody>\n",
              "</table>\n",
              "</div>\n",
              "      <button class=\"colab-df-convert\" onclick=\"convertToInteractive('df-cf92d8a1-8e9d-44c0-a470-64a02175852d')\"\n",
              "              title=\"Convert this dataframe to an interactive table.\"\n",
              "              style=\"display:none;\">\n",
              "        \n",
              "  <svg xmlns=\"http://www.w3.org/2000/svg\" height=\"24px\"viewBox=\"0 0 24 24\"\n",
              "       width=\"24px\">\n",
              "    <path d=\"M0 0h24v24H0V0z\" fill=\"none\"/>\n",
              "    <path d=\"M18.56 5.44l.94 2.06.94-2.06 2.06-.94-2.06-.94-.94-2.06-.94 2.06-2.06.94zm-11 1L8.5 8.5l.94-2.06 2.06-.94-2.06-.94L8.5 2.5l-.94 2.06-2.06.94zm10 10l.94 2.06.94-2.06 2.06-.94-2.06-.94-.94-2.06-.94 2.06-2.06.94z\"/><path d=\"M17.41 7.96l-1.37-1.37c-.4-.4-.92-.59-1.43-.59-.52 0-1.04.2-1.43.59L10.3 9.45l-7.72 7.72c-.78.78-.78 2.05 0 2.83L4 21.41c.39.39.9.59 1.41.59.51 0 1.02-.2 1.41-.59l7.78-7.78 2.81-2.81c.8-.78.8-2.07 0-2.86zM5.41 20L4 18.59l7.72-7.72 1.47 1.35L5.41 20z\"/>\n",
              "  </svg>\n",
              "      </button>\n",
              "      \n",
              "  <style>\n",
              "    .colab-df-container {\n",
              "      display:flex;\n",
              "      flex-wrap:wrap;\n",
              "      gap: 12px;\n",
              "    }\n",
              "\n",
              "    .colab-df-convert {\n",
              "      background-color: #E8F0FE;\n",
              "      border: none;\n",
              "      border-radius: 50%;\n",
              "      cursor: pointer;\n",
              "      display: none;\n",
              "      fill: #1967D2;\n",
              "      height: 32px;\n",
              "      padding: 0 0 0 0;\n",
              "      width: 32px;\n",
              "    }\n",
              "\n",
              "    .colab-df-convert:hover {\n",
              "      background-color: #E2EBFA;\n",
              "      box-shadow: 0px 1px 2px rgba(60, 64, 67, 0.3), 0px 1px 3px 1px rgba(60, 64, 67, 0.15);\n",
              "      fill: #174EA6;\n",
              "    }\n",
              "\n",
              "    [theme=dark] .colab-df-convert {\n",
              "      background-color: #3B4455;\n",
              "      fill: #D2E3FC;\n",
              "    }\n",
              "\n",
              "    [theme=dark] .colab-df-convert:hover {\n",
              "      background-color: #434B5C;\n",
              "      box-shadow: 0px 1px 3px 1px rgba(0, 0, 0, 0.15);\n",
              "      filter: drop-shadow(0px 1px 2px rgba(0, 0, 0, 0.3));\n",
              "      fill: #FFFFFF;\n",
              "    }\n",
              "  </style>\n",
              "\n",
              "      <script>\n",
              "        const buttonEl =\n",
              "          document.querySelector('#df-cf92d8a1-8e9d-44c0-a470-64a02175852d button.colab-df-convert');\n",
              "        buttonEl.style.display =\n",
              "          google.colab.kernel.accessAllowed ? 'block' : 'none';\n",
              "\n",
              "        async function convertToInteractive(key) {\n",
              "          const element = document.querySelector('#df-cf92d8a1-8e9d-44c0-a470-64a02175852d');\n",
              "          const dataTable =\n",
              "            await google.colab.kernel.invokeFunction('convertToInteractive',\n",
              "                                                     [key], {});\n",
              "          if (!dataTable) return;\n",
              "\n",
              "          const docLinkHtml = 'Like what you see? Visit the ' +\n",
              "            '<a target=\"_blank\" href=https://colab.research.google.com/notebooks/data_table.ipynb>data table notebook</a>'\n",
              "            + ' to learn more about interactive tables.';\n",
              "          element.innerHTML = '';\n",
              "          dataTable['output_type'] = 'display_data';\n",
              "          await google.colab.output.renderOutput(dataTable, element);\n",
              "          const docLink = document.createElement('div');\n",
              "          docLink.innerHTML = docLinkHtml;\n",
              "          element.appendChild(docLink);\n",
              "        }\n",
              "      </script>\n",
              "    </div>\n",
              "  </div>\n",
              "  "
            ]
          },
          "metadata": {},
          "execution_count": 62
        }
      ]
    },
    {
      "cell_type": "markdown",
      "source": [
        "### 5.1.3 Random Forest Classifier"
      ],
      "metadata": {
        "id": "48y4VHQmgrW6"
      }
    },
    {
      "cell_type": "code",
      "source": [
        "rf = RandomForestClassifier(labelCol = 'label', featuresCol = 'features')\n",
        " \n",
        "paramGrid = ParamGridBuilder().addGrid(rf.numTrees,[40, 60, 80]).addGrid(rf.maxDepth, [15, 20, 25, 30]).build()\n",
        " \n",
        "evaluator = MulticlassClassificationEvaluator(labelCol=\"label\", predictionCol=\"prediction\", metricName=\"f1\")\n",
        "NUM_CV_FOLDS = 2\n",
        " \n",
        "cv = StratifiedCrossValidator(estimator = rf, estimatorParamMaps = paramGrid, evaluator = evaluator, numFolds = NUM_CV_FOLDS)\n",
        " \n",
        "cvModel = cv.fit(normalized_df_train)\n",
        " \n",
        "predictions = cvModel.transform(normalized_df_test)\n",
        "print_metrics(predictions)\n",
        " \n",
        "params = [{p.name: v for p, v in m.items()} for m in cvModel.getEstimatorParamMaps()]\n",
        "pandas.DataFrame.from_dict([{cvModel.getEvaluator().getMetricName(): metric, **ps} for ps, metric in zip(params, cvModel.avgMetrics)])"
      ],
      "metadata": {
        "id": "XvIs6BxtgwGK",
        "colab": {
          "base_uri": "https://localhost:8080/",
          "height": 703
        },
        "outputId": "2576fe71-ae91-4176-99a5-2caa1ec94a75"
      },
      "execution_count": 63,
      "outputs": [
        {
          "output_type": "stream",
          "name": "stdout",
          "text": [
            "+-----+----------+-----+\n",
            "|label|prediction|count|\n",
            "+-----+----------+-----+\n",
            "|  1.0|       1.0|  224|\n",
            "|  0.0|       1.0|   82|\n",
            "|  1.0|       0.0|  215|\n",
            "|  0.0|       0.0|  693|\n",
            "+-----+----------+-----+\n",
            "\n",
            "AUC: 0.830\n",
            "Accuracy: 0.755\n",
            "Precision: 0.732\n",
            "Recall: 0.510\n",
            "F1 score: 0.601\n",
            "Weighted F-Measure: 0.743\n",
            "\n"
          ]
        },
        {
          "output_type": "execute_result",
          "data": {
            "text/plain": [
              "          f1  numTrees  maxDepth\n",
              "0   0.716213        40        15\n",
              "1   0.723997        40        20\n",
              "2   0.723331        40        25\n",
              "3   0.729318        40        30\n",
              "4   0.721539        60        15\n",
              "5   0.724533        60        20\n",
              "6   0.726005        60        25\n",
              "7   0.729824        60        30\n",
              "8   0.715816        80        15\n",
              "9   0.723239        80        20\n",
              "10  0.726861        80        25\n",
              "11  0.730552        80        30"
            ],
            "text/html": [
              "\n",
              "  <div id=\"df-b1db5d25-bff7-460a-ad8b-b74b0afca832\">\n",
              "    <div class=\"colab-df-container\">\n",
              "      <div>\n",
              "<style scoped>\n",
              "    .dataframe tbody tr th:only-of-type {\n",
              "        vertical-align: middle;\n",
              "    }\n",
              "\n",
              "    .dataframe tbody tr th {\n",
              "        vertical-align: top;\n",
              "    }\n",
              "\n",
              "    .dataframe thead th {\n",
              "        text-align: right;\n",
              "    }\n",
              "</style>\n",
              "<table border=\"1\" class=\"dataframe\">\n",
              "  <thead>\n",
              "    <tr style=\"text-align: right;\">\n",
              "      <th></th>\n",
              "      <th>f1</th>\n",
              "      <th>numTrees</th>\n",
              "      <th>maxDepth</th>\n",
              "    </tr>\n",
              "  </thead>\n",
              "  <tbody>\n",
              "    <tr>\n",
              "      <th>0</th>\n",
              "      <td>0.716213</td>\n",
              "      <td>40</td>\n",
              "      <td>15</td>\n",
              "    </tr>\n",
              "    <tr>\n",
              "      <th>1</th>\n",
              "      <td>0.723997</td>\n",
              "      <td>40</td>\n",
              "      <td>20</td>\n",
              "    </tr>\n",
              "    <tr>\n",
              "      <th>2</th>\n",
              "      <td>0.723331</td>\n",
              "      <td>40</td>\n",
              "      <td>25</td>\n",
              "    </tr>\n",
              "    <tr>\n",
              "      <th>3</th>\n",
              "      <td>0.729318</td>\n",
              "      <td>40</td>\n",
              "      <td>30</td>\n",
              "    </tr>\n",
              "    <tr>\n",
              "      <th>4</th>\n",
              "      <td>0.721539</td>\n",
              "      <td>60</td>\n",
              "      <td>15</td>\n",
              "    </tr>\n",
              "    <tr>\n",
              "      <th>5</th>\n",
              "      <td>0.724533</td>\n",
              "      <td>60</td>\n",
              "      <td>20</td>\n",
              "    </tr>\n",
              "    <tr>\n",
              "      <th>6</th>\n",
              "      <td>0.726005</td>\n",
              "      <td>60</td>\n",
              "      <td>25</td>\n",
              "    </tr>\n",
              "    <tr>\n",
              "      <th>7</th>\n",
              "      <td>0.729824</td>\n",
              "      <td>60</td>\n",
              "      <td>30</td>\n",
              "    </tr>\n",
              "    <tr>\n",
              "      <th>8</th>\n",
              "      <td>0.715816</td>\n",
              "      <td>80</td>\n",
              "      <td>15</td>\n",
              "    </tr>\n",
              "    <tr>\n",
              "      <th>9</th>\n",
              "      <td>0.723239</td>\n",
              "      <td>80</td>\n",
              "      <td>20</td>\n",
              "    </tr>\n",
              "    <tr>\n",
              "      <th>10</th>\n",
              "      <td>0.726861</td>\n",
              "      <td>80</td>\n",
              "      <td>25</td>\n",
              "    </tr>\n",
              "    <tr>\n",
              "      <th>11</th>\n",
              "      <td>0.730552</td>\n",
              "      <td>80</td>\n",
              "      <td>30</td>\n",
              "    </tr>\n",
              "  </tbody>\n",
              "</table>\n",
              "</div>\n",
              "      <button class=\"colab-df-convert\" onclick=\"convertToInteractive('df-b1db5d25-bff7-460a-ad8b-b74b0afca832')\"\n",
              "              title=\"Convert this dataframe to an interactive table.\"\n",
              "              style=\"display:none;\">\n",
              "        \n",
              "  <svg xmlns=\"http://www.w3.org/2000/svg\" height=\"24px\"viewBox=\"0 0 24 24\"\n",
              "       width=\"24px\">\n",
              "    <path d=\"M0 0h24v24H0V0z\" fill=\"none\"/>\n",
              "    <path d=\"M18.56 5.44l.94 2.06.94-2.06 2.06-.94-2.06-.94-.94-2.06-.94 2.06-2.06.94zm-11 1L8.5 8.5l.94-2.06 2.06-.94-2.06-.94L8.5 2.5l-.94 2.06-2.06.94zm10 10l.94 2.06.94-2.06 2.06-.94-2.06-.94-.94-2.06-.94 2.06-2.06.94z\"/><path d=\"M17.41 7.96l-1.37-1.37c-.4-.4-.92-.59-1.43-.59-.52 0-1.04.2-1.43.59L10.3 9.45l-7.72 7.72c-.78.78-.78 2.05 0 2.83L4 21.41c.39.39.9.59 1.41.59.51 0 1.02-.2 1.41-.59l7.78-7.78 2.81-2.81c.8-.78.8-2.07 0-2.86zM5.41 20L4 18.59l7.72-7.72 1.47 1.35L5.41 20z\"/>\n",
              "  </svg>\n",
              "      </button>\n",
              "      \n",
              "  <style>\n",
              "    .colab-df-container {\n",
              "      display:flex;\n",
              "      flex-wrap:wrap;\n",
              "      gap: 12px;\n",
              "    }\n",
              "\n",
              "    .colab-df-convert {\n",
              "      background-color: #E8F0FE;\n",
              "      border: none;\n",
              "      border-radius: 50%;\n",
              "      cursor: pointer;\n",
              "      display: none;\n",
              "      fill: #1967D2;\n",
              "      height: 32px;\n",
              "      padding: 0 0 0 0;\n",
              "      width: 32px;\n",
              "    }\n",
              "\n",
              "    .colab-df-convert:hover {\n",
              "      background-color: #E2EBFA;\n",
              "      box-shadow: 0px 1px 2px rgba(60, 64, 67, 0.3), 0px 1px 3px 1px rgba(60, 64, 67, 0.15);\n",
              "      fill: #174EA6;\n",
              "    }\n",
              "\n",
              "    [theme=dark] .colab-df-convert {\n",
              "      background-color: #3B4455;\n",
              "      fill: #D2E3FC;\n",
              "    }\n",
              "\n",
              "    [theme=dark] .colab-df-convert:hover {\n",
              "      background-color: #434B5C;\n",
              "      box-shadow: 0px 1px 3px 1px rgba(0, 0, 0, 0.15);\n",
              "      filter: drop-shadow(0px 1px 2px rgba(0, 0, 0, 0.3));\n",
              "      fill: #FFFFFF;\n",
              "    }\n",
              "  </style>\n",
              "\n",
              "      <script>\n",
              "        const buttonEl =\n",
              "          document.querySelector('#df-b1db5d25-bff7-460a-ad8b-b74b0afca832 button.colab-df-convert');\n",
              "        buttonEl.style.display =\n",
              "          google.colab.kernel.accessAllowed ? 'block' : 'none';\n",
              "\n",
              "        async function convertToInteractive(key) {\n",
              "          const element = document.querySelector('#df-b1db5d25-bff7-460a-ad8b-b74b0afca832');\n",
              "          const dataTable =\n",
              "            await google.colab.kernel.invokeFunction('convertToInteractive',\n",
              "                                                     [key], {});\n",
              "          if (!dataTable) return;\n",
              "\n",
              "          const docLinkHtml = 'Like what you see? Visit the ' +\n",
              "            '<a target=\"_blank\" href=https://colab.research.google.com/notebooks/data_table.ipynb>data table notebook</a>'\n",
              "            + ' to learn more about interactive tables.';\n",
              "          element.innerHTML = '';\n",
              "          dataTable['output_type'] = 'display_data';\n",
              "          await google.colab.output.renderOutput(dataTable, element);\n",
              "          const docLink = document.createElement('div');\n",
              "          docLink.innerHTML = docLinkHtml;\n",
              "          element.appendChild(docLink);\n",
              "        }\n",
              "      </script>\n",
              "    </div>\n",
              "  </div>\n",
              "  "
            ]
          },
          "metadata": {},
          "execution_count": 63
        }
      ]
    },
    {
      "cell_type": "code",
      "source": [
        "trainData, testData = normalized_df_train.randomSplit([0.8, 0.2], seed = 76)\n",
        " \n",
        "numTreesList = [20, 40, 60, 80]\n",
        "maxDepthList = [15, 20, 25, 30]\n",
        "maxBinsList = [20, 40, 60]\n",
        " \n",
        "for numTrees in numTreesList:\n",
        "  for maxDepth in maxDepthList:\n",
        "    for maxBins in maxBinsList:\n",
        "      rf = RandomForestClassifier(labelCol = 'label', featuresCol = 'features', numTrees = numTrees, maxDepth = maxDepth, maxBins = maxBins)\n",
        "      model= rf.fit(trainData)\n",
        "      predictions = model.transform(testData)\n",
        "      print('For numTrees:', numTrees, ', maxDepth:', maxDepth, ', maxBins:', maxBins)\n",
        "      print_metrics(predictions)\n",
        "      print('---------------------------------------------')"
      ],
      "metadata": {
        "id": "7h1J9F8-hABj",
        "colab": {
          "base_uri": "https://localhost:8080/"
        },
        "outputId": "db57f785-a9ef-4bc2-ce07-176f4adbdbbd"
      },
      "execution_count": 64,
      "outputs": [
        {
          "output_type": "stream",
          "name": "stdout",
          "text": [
            "For numTrees: 20 , maxDepth: 15 , maxBins: 20\n",
            "+-----+----------+-----+\n",
            "|label|prediction|count|\n",
            "+-----+----------+-----+\n",
            "|  1.0|       1.0|  181|\n",
            "|  0.0|       1.0|   45|\n",
            "|  1.0|       0.0|  219|\n",
            "|  0.0|       0.0|  606|\n",
            "+-----+----------+-----+\n",
            "\n",
            "AUC: 0.807\n",
            "Accuracy: 0.749\n",
            "Precision: 0.801\n",
            "Recall: 0.453\n",
            "F1 score: 0.578\n",
            "Weighted F-Measure: 0.729\n",
            "\n",
            "---------------------------------------------\n",
            "For numTrees: 20 , maxDepth: 15 , maxBins: 40\n",
            "+-----+----------+-----+\n",
            "|label|prediction|count|\n",
            "+-----+----------+-----+\n",
            "|  1.0|       1.0|  181|\n",
            "|  0.0|       1.0|   45|\n",
            "|  1.0|       0.0|  219|\n",
            "|  0.0|       0.0|  606|\n",
            "+-----+----------+-----+\n",
            "\n",
            "AUC: 0.807\n",
            "Accuracy: 0.749\n",
            "Precision: 0.801\n",
            "Recall: 0.453\n",
            "F1 score: 0.578\n",
            "Weighted F-Measure: 0.729\n",
            "\n",
            "---------------------------------------------\n",
            "For numTrees: 20 , maxDepth: 15 , maxBins: 60\n",
            "+-----+----------+-----+\n",
            "|label|prediction|count|\n",
            "+-----+----------+-----+\n",
            "|  1.0|       1.0|  181|\n",
            "|  0.0|       1.0|   45|\n",
            "|  1.0|       0.0|  219|\n",
            "|  0.0|       0.0|  606|\n",
            "+-----+----------+-----+\n",
            "\n",
            "AUC: 0.807\n",
            "Accuracy: 0.749\n",
            "Precision: 0.801\n",
            "Recall: 0.453\n",
            "F1 score: 0.578\n",
            "Weighted F-Measure: 0.729\n",
            "\n",
            "---------------------------------------------\n",
            "For numTrees: 20 , maxDepth: 20 , maxBins: 20\n",
            "+-----+----------+-----+\n",
            "|label|prediction|count|\n",
            "+-----+----------+-----+\n",
            "|  1.0|       1.0|  189|\n",
            "|  0.0|       1.0|   48|\n",
            "|  1.0|       0.0|  211|\n",
            "|  0.0|       0.0|  603|\n",
            "+-----+----------+-----+\n",
            "\n",
            "AUC: 0.813\n",
            "Accuracy: 0.754\n",
            "Precision: 0.797\n",
            "Recall: 0.472\n",
            "F1 score: 0.593\n",
            "Weighted F-Measure: 0.736\n",
            "\n",
            "---------------------------------------------\n",
            "For numTrees: 20 , maxDepth: 20 , maxBins: 40\n",
            "+-----+----------+-----+\n",
            "|label|prediction|count|\n",
            "+-----+----------+-----+\n",
            "|  1.0|       1.0|  189|\n",
            "|  0.0|       1.0|   48|\n",
            "|  1.0|       0.0|  211|\n",
            "|  0.0|       0.0|  603|\n",
            "+-----+----------+-----+\n",
            "\n",
            "AUC: 0.813\n",
            "Accuracy: 0.754\n",
            "Precision: 0.797\n",
            "Recall: 0.472\n",
            "F1 score: 0.593\n",
            "Weighted F-Measure: 0.736\n",
            "\n",
            "---------------------------------------------\n",
            "For numTrees: 20 , maxDepth: 20 , maxBins: 60\n",
            "+-----+----------+-----+\n",
            "|label|prediction|count|\n",
            "+-----+----------+-----+\n",
            "|  1.0|       1.0|  189|\n",
            "|  0.0|       1.0|   48|\n",
            "|  1.0|       0.0|  211|\n",
            "|  0.0|       0.0|  603|\n",
            "+-----+----------+-----+\n",
            "\n",
            "AUC: 0.813\n",
            "Accuracy: 0.754\n",
            "Precision: 0.797\n",
            "Recall: 0.472\n",
            "F1 score: 0.593\n",
            "Weighted F-Measure: 0.736\n",
            "\n",
            "---------------------------------------------\n",
            "For numTrees: 20 , maxDepth: 25 , maxBins: 20\n",
            "+-----+----------+-----+\n",
            "|label|prediction|count|\n",
            "+-----+----------+-----+\n",
            "|  1.0|       1.0|  198|\n",
            "|  0.0|       1.0|   54|\n",
            "|  1.0|       0.0|  202|\n",
            "|  0.0|       0.0|  597|\n",
            "+-----+----------+-----+\n",
            "\n",
            "AUC: 0.820\n",
            "Accuracy: 0.756\n",
            "Precision: 0.786\n",
            "Recall: 0.495\n",
            "F1 score: 0.607\n",
            "Weighted F-Measure: 0.741\n",
            "\n",
            "---------------------------------------------\n",
            "For numTrees: 20 , maxDepth: 25 , maxBins: 40\n",
            "+-----+----------+-----+\n",
            "|label|prediction|count|\n",
            "+-----+----------+-----+\n",
            "|  1.0|       1.0|  198|\n",
            "|  0.0|       1.0|   54|\n",
            "|  1.0|       0.0|  202|\n",
            "|  0.0|       0.0|  597|\n",
            "+-----+----------+-----+\n",
            "\n",
            "AUC: 0.820\n",
            "Accuracy: 0.756\n",
            "Precision: 0.786\n",
            "Recall: 0.495\n",
            "F1 score: 0.607\n",
            "Weighted F-Measure: 0.741\n",
            "\n",
            "---------------------------------------------\n",
            "For numTrees: 20 , maxDepth: 25 , maxBins: 60\n",
            "+-----+----------+-----+\n",
            "|label|prediction|count|\n",
            "+-----+----------+-----+\n",
            "|  1.0|       1.0|  198|\n",
            "|  0.0|       1.0|   54|\n",
            "|  1.0|       0.0|  202|\n",
            "|  0.0|       0.0|  597|\n",
            "+-----+----------+-----+\n",
            "\n",
            "AUC: 0.820\n",
            "Accuracy: 0.756\n",
            "Precision: 0.786\n",
            "Recall: 0.495\n",
            "F1 score: 0.607\n",
            "Weighted F-Measure: 0.741\n",
            "\n",
            "---------------------------------------------\n",
            "For numTrees: 20 , maxDepth: 30 , maxBins: 20\n",
            "+-----+----------+-----+\n",
            "|label|prediction|count|\n",
            "+-----+----------+-----+\n",
            "|  1.0|       1.0|  214|\n",
            "|  0.0|       1.0|   59|\n",
            "|  1.0|       0.0|  186|\n",
            "|  0.0|       0.0|  592|\n",
            "+-----+----------+-----+\n",
            "\n",
            "AUC: 0.820\n",
            "Accuracy: 0.767\n",
            "Precision: 0.784\n",
            "Recall: 0.535\n",
            "F1 score: 0.636\n",
            "Weighted F-Measure: 0.755\n",
            "\n",
            "---------------------------------------------\n",
            "For numTrees: 20 , maxDepth: 30 , maxBins: 40\n",
            "+-----+----------+-----+\n",
            "|label|prediction|count|\n",
            "+-----+----------+-----+\n",
            "|  1.0|       1.0|  214|\n",
            "|  0.0|       1.0|   59|\n",
            "|  1.0|       0.0|  186|\n",
            "|  0.0|       0.0|  592|\n",
            "+-----+----------+-----+\n",
            "\n",
            "AUC: 0.820\n",
            "Accuracy: 0.767\n",
            "Precision: 0.784\n",
            "Recall: 0.535\n",
            "F1 score: 0.636\n",
            "Weighted F-Measure: 0.755\n",
            "\n",
            "---------------------------------------------\n",
            "For numTrees: 20 , maxDepth: 30 , maxBins: 60\n",
            "+-----+----------+-----+\n",
            "|label|prediction|count|\n",
            "+-----+----------+-----+\n",
            "|  1.0|       1.0|  214|\n",
            "|  0.0|       1.0|   59|\n",
            "|  1.0|       0.0|  186|\n",
            "|  0.0|       0.0|  592|\n",
            "+-----+----------+-----+\n",
            "\n",
            "AUC: 0.820\n",
            "Accuracy: 0.767\n",
            "Precision: 0.784\n",
            "Recall: 0.535\n",
            "F1 score: 0.636\n",
            "Weighted F-Measure: 0.755\n",
            "\n",
            "---------------------------------------------\n",
            "For numTrees: 40 , maxDepth: 15 , maxBins: 20\n",
            "+-----+----------+-----+\n",
            "|label|prediction|count|\n",
            "+-----+----------+-----+\n",
            "|  1.0|       1.0|  187|\n",
            "|  0.0|       1.0|   49|\n",
            "|  1.0|       0.0|  213|\n",
            "|  0.0|       0.0|  602|\n",
            "+-----+----------+-----+\n",
            "\n",
            "AUC: 0.818\n",
            "Accuracy: 0.751\n",
            "Precision: 0.792\n",
            "Recall: 0.468\n",
            "F1 score: 0.588\n",
            "Weighted F-Measure: 0.733\n",
            "\n",
            "---------------------------------------------\n",
            "For numTrees: 40 , maxDepth: 15 , maxBins: 40\n",
            "+-----+----------+-----+\n",
            "|label|prediction|count|\n",
            "+-----+----------+-----+\n",
            "|  1.0|       1.0|  187|\n",
            "|  0.0|       1.0|   49|\n",
            "|  1.0|       0.0|  213|\n",
            "|  0.0|       0.0|  602|\n",
            "+-----+----------+-----+\n",
            "\n",
            "AUC: 0.818\n",
            "Accuracy: 0.751\n",
            "Precision: 0.792\n",
            "Recall: 0.468\n",
            "F1 score: 0.588\n",
            "Weighted F-Measure: 0.733\n",
            "\n",
            "---------------------------------------------\n",
            "For numTrees: 40 , maxDepth: 15 , maxBins: 60\n",
            "+-----+----------+-----+\n",
            "|label|prediction|count|\n",
            "+-----+----------+-----+\n",
            "|  1.0|       1.0|  187|\n",
            "|  0.0|       1.0|   49|\n",
            "|  1.0|       0.0|  213|\n",
            "|  0.0|       0.0|  602|\n",
            "+-----+----------+-----+\n",
            "\n",
            "AUC: 0.818\n",
            "Accuracy: 0.751\n",
            "Precision: 0.792\n",
            "Recall: 0.468\n",
            "F1 score: 0.588\n",
            "Weighted F-Measure: 0.733\n",
            "\n",
            "---------------------------------------------\n",
            "For numTrees: 40 , maxDepth: 20 , maxBins: 20\n",
            "+-----+----------+-----+\n",
            "|label|prediction|count|\n",
            "+-----+----------+-----+\n",
            "|  1.0|       1.0|  196|\n",
            "|  0.0|       1.0|   59|\n",
            "|  1.0|       0.0|  204|\n",
            "|  0.0|       0.0|  592|\n",
            "+-----+----------+-----+\n",
            "\n",
            "AUC: 0.824\n",
            "Accuracy: 0.750\n",
            "Precision: 0.769\n",
            "Recall: 0.490\n",
            "F1 score: 0.598\n",
            "Weighted F-Measure: 0.735\n",
            "\n",
            "---------------------------------------------\n",
            "For numTrees: 40 , maxDepth: 20 , maxBins: 40\n",
            "+-----+----------+-----+\n",
            "|label|prediction|count|\n",
            "+-----+----------+-----+\n",
            "|  1.0|       1.0|  196|\n",
            "|  0.0|       1.0|   59|\n",
            "|  1.0|       0.0|  204|\n",
            "|  0.0|       0.0|  592|\n",
            "+-----+----------+-----+\n",
            "\n",
            "AUC: 0.824\n",
            "Accuracy: 0.750\n",
            "Precision: 0.769\n",
            "Recall: 0.490\n",
            "F1 score: 0.598\n",
            "Weighted F-Measure: 0.735\n",
            "\n",
            "---------------------------------------------\n",
            "For numTrees: 40 , maxDepth: 20 , maxBins: 60\n",
            "+-----+----------+-----+\n",
            "|label|prediction|count|\n",
            "+-----+----------+-----+\n",
            "|  1.0|       1.0|  196|\n",
            "|  0.0|       1.0|   59|\n",
            "|  1.0|       0.0|  204|\n",
            "|  0.0|       0.0|  592|\n",
            "+-----+----------+-----+\n",
            "\n",
            "AUC: 0.824\n",
            "Accuracy: 0.750\n",
            "Precision: 0.769\n",
            "Recall: 0.490\n",
            "F1 score: 0.598\n",
            "Weighted F-Measure: 0.735\n",
            "\n",
            "---------------------------------------------\n",
            "For numTrees: 40 , maxDepth: 25 , maxBins: 20\n",
            "+-----+----------+-----+\n",
            "|label|prediction|count|\n",
            "+-----+----------+-----+\n",
            "|  1.0|       1.0|  206|\n",
            "|  0.0|       1.0|   63|\n",
            "|  1.0|       0.0|  194|\n",
            "|  0.0|       0.0|  588|\n",
            "+-----+----------+-----+\n",
            "\n",
            "AUC: 0.828\n",
            "Accuracy: 0.755\n",
            "Precision: 0.766\n",
            "Recall: 0.515\n",
            "F1 score: 0.616\n",
            "Weighted F-Measure: 0.743\n",
            "\n",
            "---------------------------------------------\n",
            "For numTrees: 40 , maxDepth: 25 , maxBins: 40\n",
            "+-----+----------+-----+\n",
            "|label|prediction|count|\n",
            "+-----+----------+-----+\n",
            "|  1.0|       1.0|  206|\n",
            "|  0.0|       1.0|   63|\n",
            "|  1.0|       0.0|  194|\n",
            "|  0.0|       0.0|  588|\n",
            "+-----+----------+-----+\n",
            "\n",
            "AUC: 0.828\n",
            "Accuracy: 0.755\n",
            "Precision: 0.766\n",
            "Recall: 0.515\n",
            "F1 score: 0.616\n",
            "Weighted F-Measure: 0.743\n",
            "\n",
            "---------------------------------------------\n",
            "For numTrees: 40 , maxDepth: 25 , maxBins: 60\n",
            "+-----+----------+-----+\n",
            "|label|prediction|count|\n",
            "+-----+----------+-----+\n",
            "|  1.0|       1.0|  206|\n",
            "|  0.0|       1.0|   63|\n",
            "|  1.0|       0.0|  194|\n",
            "|  0.0|       0.0|  588|\n",
            "+-----+----------+-----+\n",
            "\n",
            "AUC: 0.828\n",
            "Accuracy: 0.755\n",
            "Precision: 0.766\n",
            "Recall: 0.515\n",
            "F1 score: 0.616\n",
            "Weighted F-Measure: 0.743\n",
            "\n",
            "---------------------------------------------\n",
            "For numTrees: 40 , maxDepth: 30 , maxBins: 20\n",
            "+-----+----------+-----+\n",
            "|label|prediction|count|\n",
            "+-----+----------+-----+\n",
            "|  1.0|       1.0|  211|\n",
            "|  0.0|       1.0|   64|\n",
            "|  1.0|       0.0|  189|\n",
            "|  0.0|       0.0|  587|\n",
            "+-----+----------+-----+\n",
            "\n",
            "AUC: 0.830\n",
            "Accuracy: 0.759\n",
            "Precision: 0.767\n",
            "Recall: 0.527\n",
            "F1 score: 0.625\n",
            "Weighted F-Measure: 0.748\n",
            "\n",
            "---------------------------------------------\n",
            "For numTrees: 40 , maxDepth: 30 , maxBins: 40\n",
            "+-----+----------+-----+\n",
            "|label|prediction|count|\n",
            "+-----+----------+-----+\n",
            "|  1.0|       1.0|  211|\n",
            "|  0.0|       1.0|   64|\n",
            "|  1.0|       0.0|  189|\n",
            "|  0.0|       0.0|  587|\n",
            "+-----+----------+-----+\n",
            "\n",
            "AUC: 0.830\n",
            "Accuracy: 0.759\n",
            "Precision: 0.767\n",
            "Recall: 0.527\n",
            "F1 score: 0.625\n",
            "Weighted F-Measure: 0.748\n",
            "\n",
            "---------------------------------------------\n",
            "For numTrees: 40 , maxDepth: 30 , maxBins: 60\n",
            "+-----+----------+-----+\n",
            "|label|prediction|count|\n",
            "+-----+----------+-----+\n",
            "|  1.0|       1.0|  211|\n",
            "|  0.0|       1.0|   64|\n",
            "|  1.0|       0.0|  189|\n",
            "|  0.0|       0.0|  587|\n",
            "+-----+----------+-----+\n",
            "\n",
            "AUC: 0.830\n",
            "Accuracy: 0.759\n",
            "Precision: 0.767\n",
            "Recall: 0.527\n",
            "F1 score: 0.625\n",
            "Weighted F-Measure: 0.748\n",
            "\n",
            "---------------------------------------------\n",
            "For numTrees: 60 , maxDepth: 15 , maxBins: 20\n",
            "+-----+----------+-----+\n",
            "|label|prediction|count|\n",
            "+-----+----------+-----+\n",
            "|  1.0|       1.0|  187|\n",
            "|  0.0|       1.0|   46|\n",
            "|  1.0|       0.0|  213|\n",
            "|  0.0|       0.0|  605|\n",
            "+-----+----------+-----+\n",
            "\n",
            "AUC: 0.818\n",
            "Accuracy: 0.754\n",
            "Precision: 0.803\n",
            "Recall: 0.468\n",
            "F1 score: 0.591\n",
            "Weighted F-Measure: 0.735\n",
            "\n",
            "---------------------------------------------\n",
            "For numTrees: 60 , maxDepth: 15 , maxBins: 40\n",
            "+-----+----------+-----+\n",
            "|label|prediction|count|\n",
            "+-----+----------+-----+\n",
            "|  1.0|       1.0|  187|\n",
            "|  0.0|       1.0|   46|\n",
            "|  1.0|       0.0|  213|\n",
            "|  0.0|       0.0|  605|\n",
            "+-----+----------+-----+\n",
            "\n",
            "AUC: 0.818\n",
            "Accuracy: 0.754\n",
            "Precision: 0.803\n",
            "Recall: 0.468\n",
            "F1 score: 0.591\n",
            "Weighted F-Measure: 0.735\n",
            "\n",
            "---------------------------------------------\n",
            "For numTrees: 60 , maxDepth: 15 , maxBins: 60\n",
            "+-----+----------+-----+\n",
            "|label|prediction|count|\n",
            "+-----+----------+-----+\n",
            "|  1.0|       1.0|  187|\n",
            "|  0.0|       1.0|   46|\n",
            "|  1.0|       0.0|  213|\n",
            "|  0.0|       0.0|  605|\n",
            "+-----+----------+-----+\n",
            "\n",
            "AUC: 0.818\n",
            "Accuracy: 0.754\n",
            "Precision: 0.803\n",
            "Recall: 0.468\n",
            "F1 score: 0.591\n",
            "Weighted F-Measure: 0.735\n",
            "\n",
            "---------------------------------------------\n",
            "For numTrees: 60 , maxDepth: 20 , maxBins: 20\n",
            "+-----+----------+-----+\n",
            "|label|prediction|count|\n",
            "+-----+----------+-----+\n",
            "|  1.0|       1.0|  190|\n",
            "|  0.0|       1.0|   48|\n",
            "|  1.0|       0.0|  210|\n",
            "|  0.0|       0.0|  603|\n",
            "+-----+----------+-----+\n",
            "\n",
            "AUC: 0.823\n",
            "Accuracy: 0.755\n",
            "Precision: 0.798\n",
            "Recall: 0.475\n",
            "F1 score: 0.596\n",
            "Weighted F-Measure: 0.737\n",
            "\n",
            "---------------------------------------------\n",
            "For numTrees: 60 , maxDepth: 20 , maxBins: 40\n",
            "+-----+----------+-----+\n",
            "|label|prediction|count|\n",
            "+-----+----------+-----+\n",
            "|  1.0|       1.0|  190|\n",
            "|  0.0|       1.0|   48|\n",
            "|  1.0|       0.0|  210|\n",
            "|  0.0|       0.0|  603|\n",
            "+-----+----------+-----+\n",
            "\n",
            "AUC: 0.823\n",
            "Accuracy: 0.755\n",
            "Precision: 0.798\n",
            "Recall: 0.475\n",
            "F1 score: 0.596\n",
            "Weighted F-Measure: 0.737\n",
            "\n",
            "---------------------------------------------\n",
            "For numTrees: 60 , maxDepth: 20 , maxBins: 60\n",
            "+-----+----------+-----+\n",
            "|label|prediction|count|\n",
            "+-----+----------+-----+\n",
            "|  1.0|       1.0|  190|\n",
            "|  0.0|       1.0|   48|\n",
            "|  1.0|       0.0|  210|\n",
            "|  0.0|       0.0|  603|\n",
            "+-----+----------+-----+\n",
            "\n",
            "AUC: 0.823\n",
            "Accuracy: 0.755\n",
            "Precision: 0.798\n",
            "Recall: 0.475\n",
            "F1 score: 0.596\n",
            "Weighted F-Measure: 0.737\n",
            "\n",
            "---------------------------------------------\n",
            "For numTrees: 60 , maxDepth: 25 , maxBins: 20\n",
            "+-----+----------+-----+\n",
            "|label|prediction|count|\n",
            "+-----+----------+-----+\n",
            "|  1.0|       1.0|  202|\n",
            "|  0.0|       1.0|   52|\n",
            "|  1.0|       0.0|  198|\n",
            "|  0.0|       0.0|  599|\n",
            "+-----+----------+-----+\n",
            "\n",
            "AUC: 0.826\n",
            "Accuracy: 0.762\n",
            "Precision: 0.795\n",
            "Recall: 0.505\n",
            "F1 score: 0.618\n",
            "Weighted F-Measure: 0.748\n",
            "\n",
            "---------------------------------------------\n",
            "For numTrees: 60 , maxDepth: 25 , maxBins: 40\n",
            "+-----+----------+-----+\n",
            "|label|prediction|count|\n",
            "+-----+----------+-----+\n",
            "|  1.0|       1.0|  202|\n",
            "|  0.0|       1.0|   52|\n",
            "|  1.0|       0.0|  198|\n",
            "|  0.0|       0.0|  599|\n",
            "+-----+----------+-----+\n",
            "\n",
            "AUC: 0.826\n",
            "Accuracy: 0.762\n",
            "Precision: 0.795\n",
            "Recall: 0.505\n",
            "F1 score: 0.618\n",
            "Weighted F-Measure: 0.748\n",
            "\n",
            "---------------------------------------------\n",
            "For numTrees: 60 , maxDepth: 25 , maxBins: 60\n",
            "+-----+----------+-----+\n",
            "|label|prediction|count|\n",
            "+-----+----------+-----+\n",
            "|  1.0|       1.0|  202|\n",
            "|  0.0|       1.0|   52|\n",
            "|  1.0|       0.0|  198|\n",
            "|  0.0|       0.0|  599|\n",
            "+-----+----------+-----+\n",
            "\n",
            "AUC: 0.826\n",
            "Accuracy: 0.762\n",
            "Precision: 0.795\n",
            "Recall: 0.505\n",
            "F1 score: 0.618\n",
            "Weighted F-Measure: 0.748\n",
            "\n",
            "---------------------------------------------\n",
            "For numTrees: 60 , maxDepth: 30 , maxBins: 20\n",
            "+-----+----------+-----+\n",
            "|label|prediction|count|\n",
            "+-----+----------+-----+\n",
            "|  1.0|       1.0|  208|\n",
            "|  0.0|       1.0|   58|\n",
            "|  1.0|       0.0|  192|\n",
            "|  0.0|       0.0|  593|\n",
            "+-----+----------+-----+\n",
            "\n",
            "AUC: 0.829\n",
            "Accuracy: 0.762\n",
            "Precision: 0.782\n",
            "Recall: 0.520\n",
            "F1 score: 0.625\n",
            "Weighted F-Measure: 0.749\n",
            "\n",
            "---------------------------------------------\n",
            "For numTrees: 60 , maxDepth: 30 , maxBins: 40\n",
            "+-----+----------+-----+\n",
            "|label|prediction|count|\n",
            "+-----+----------+-----+\n",
            "|  1.0|       1.0|  208|\n",
            "|  0.0|       1.0|   58|\n",
            "|  1.0|       0.0|  192|\n",
            "|  0.0|       0.0|  593|\n",
            "+-----+----------+-----+\n",
            "\n",
            "AUC: 0.829\n",
            "Accuracy: 0.762\n",
            "Precision: 0.782\n",
            "Recall: 0.520\n",
            "F1 score: 0.625\n",
            "Weighted F-Measure: 0.749\n",
            "\n",
            "---------------------------------------------\n",
            "For numTrees: 60 , maxDepth: 30 , maxBins: 60\n",
            "+-----+----------+-----+\n",
            "|label|prediction|count|\n",
            "+-----+----------+-----+\n",
            "|  1.0|       1.0|  208|\n",
            "|  0.0|       1.0|   58|\n",
            "|  1.0|       0.0|  192|\n",
            "|  0.0|       0.0|  593|\n",
            "+-----+----------+-----+\n",
            "\n",
            "AUC: 0.829\n",
            "Accuracy: 0.762\n",
            "Precision: 0.782\n",
            "Recall: 0.520\n",
            "F1 score: 0.625\n",
            "Weighted F-Measure: 0.749\n",
            "\n",
            "---------------------------------------------\n",
            "For numTrees: 80 , maxDepth: 15 , maxBins: 20\n",
            "+-----+----------+-----+\n",
            "|label|prediction|count|\n",
            "+-----+----------+-----+\n",
            "|  1.0|       1.0|  189|\n",
            "|  0.0|       1.0|   48|\n",
            "|  1.0|       0.0|  211|\n",
            "|  0.0|       0.0|  603|\n",
            "+-----+----------+-----+\n",
            "\n",
            "AUC: 0.816\n",
            "Accuracy: 0.754\n",
            "Precision: 0.797\n",
            "Recall: 0.472\n",
            "F1 score: 0.593\n",
            "Weighted F-Measure: 0.736\n",
            "\n",
            "---------------------------------------------\n",
            "For numTrees: 80 , maxDepth: 15 , maxBins: 40\n",
            "+-----+----------+-----+\n",
            "|label|prediction|count|\n",
            "+-----+----------+-----+\n",
            "|  1.0|       1.0|  189|\n",
            "|  0.0|       1.0|   48|\n",
            "|  1.0|       0.0|  211|\n",
            "|  0.0|       0.0|  603|\n",
            "+-----+----------+-----+\n",
            "\n",
            "AUC: 0.816\n",
            "Accuracy: 0.754\n",
            "Precision: 0.797\n",
            "Recall: 0.472\n",
            "F1 score: 0.593\n",
            "Weighted F-Measure: 0.736\n",
            "\n",
            "---------------------------------------------\n",
            "For numTrees: 80 , maxDepth: 15 , maxBins: 60\n",
            "+-----+----------+-----+\n",
            "|label|prediction|count|\n",
            "+-----+----------+-----+\n",
            "|  1.0|       1.0|  189|\n",
            "|  0.0|       1.0|   48|\n",
            "|  1.0|       0.0|  211|\n",
            "|  0.0|       0.0|  603|\n",
            "+-----+----------+-----+\n",
            "\n",
            "AUC: 0.816\n",
            "Accuracy: 0.754\n",
            "Precision: 0.797\n",
            "Recall: 0.472\n",
            "F1 score: 0.593\n",
            "Weighted F-Measure: 0.736\n",
            "\n",
            "---------------------------------------------\n",
            "For numTrees: 80 , maxDepth: 20 , maxBins: 20\n",
            "+-----+----------+-----+\n",
            "|label|prediction|count|\n",
            "+-----+----------+-----+\n",
            "|  1.0|       1.0|  204|\n",
            "|  0.0|       1.0|   56|\n",
            "|  1.0|       0.0|  196|\n",
            "|  0.0|       0.0|  595|\n",
            "+-----+----------+-----+\n",
            "\n",
            "AUC: 0.822\n",
            "Accuracy: 0.760\n",
            "Precision: 0.785\n",
            "Recall: 0.510\n",
            "F1 score: 0.618\n",
            "Weighted F-Measure: 0.746\n",
            "\n",
            "---------------------------------------------\n",
            "For numTrees: 80 , maxDepth: 20 , maxBins: 40\n",
            "+-----+----------+-----+\n",
            "|label|prediction|count|\n",
            "+-----+----------+-----+\n",
            "|  1.0|       1.0|  204|\n",
            "|  0.0|       1.0|   56|\n",
            "|  1.0|       0.0|  196|\n",
            "|  0.0|       0.0|  595|\n",
            "+-----+----------+-----+\n",
            "\n",
            "AUC: 0.822\n",
            "Accuracy: 0.760\n",
            "Precision: 0.785\n",
            "Recall: 0.510\n",
            "F1 score: 0.618\n",
            "Weighted F-Measure: 0.746\n",
            "\n",
            "---------------------------------------------\n",
            "For numTrees: 80 , maxDepth: 20 , maxBins: 60\n",
            "+-----+----------+-----+\n",
            "|label|prediction|count|\n",
            "+-----+----------+-----+\n",
            "|  1.0|       1.0|  204|\n",
            "|  0.0|       1.0|   56|\n",
            "|  1.0|       0.0|  196|\n",
            "|  0.0|       0.0|  595|\n",
            "+-----+----------+-----+\n",
            "\n",
            "AUC: 0.822\n",
            "Accuracy: 0.760\n",
            "Precision: 0.785\n",
            "Recall: 0.510\n",
            "F1 score: 0.618\n",
            "Weighted F-Measure: 0.746\n",
            "\n",
            "---------------------------------------------\n",
            "For numTrees: 80 , maxDepth: 25 , maxBins: 20\n",
            "+-----+----------+-----+\n",
            "|label|prediction|count|\n",
            "+-----+----------+-----+\n",
            "|  1.0|       1.0|  206|\n",
            "|  0.0|       1.0|   58|\n",
            "|  1.0|       0.0|  194|\n",
            "|  0.0|       0.0|  593|\n",
            "+-----+----------+-----+\n",
            "\n",
            "AUC: 0.825\n",
            "Accuracy: 0.760\n",
            "Precision: 0.780\n",
            "Recall: 0.515\n",
            "F1 score: 0.620\n",
            "Weighted F-Measure: 0.747\n",
            "\n",
            "---------------------------------------------\n",
            "For numTrees: 80 , maxDepth: 25 , maxBins: 40\n",
            "+-----+----------+-----+\n",
            "|label|prediction|count|\n",
            "+-----+----------+-----+\n",
            "|  1.0|       1.0|  206|\n",
            "|  0.0|       1.0|   58|\n",
            "|  1.0|       0.0|  194|\n",
            "|  0.0|       0.0|  593|\n",
            "+-----+----------+-----+\n",
            "\n",
            "AUC: 0.825\n",
            "Accuracy: 0.760\n",
            "Precision: 0.780\n",
            "Recall: 0.515\n",
            "F1 score: 0.620\n",
            "Weighted F-Measure: 0.747\n",
            "\n",
            "---------------------------------------------\n",
            "For numTrees: 80 , maxDepth: 25 , maxBins: 60\n",
            "+-----+----------+-----+\n",
            "|label|prediction|count|\n",
            "+-----+----------+-----+\n",
            "|  1.0|       1.0|  206|\n",
            "|  0.0|       1.0|   58|\n",
            "|  1.0|       0.0|  194|\n",
            "|  0.0|       0.0|  593|\n",
            "+-----+----------+-----+\n",
            "\n",
            "AUC: 0.825\n",
            "Accuracy: 0.760\n",
            "Precision: 0.780\n",
            "Recall: 0.515\n",
            "F1 score: 0.620\n",
            "Weighted F-Measure: 0.747\n",
            "\n",
            "---------------------------------------------\n",
            "For numTrees: 80 , maxDepth: 30 , maxBins: 20\n",
            "+-----+----------+-----+\n",
            "|label|prediction|count|\n",
            "+-----+----------+-----+\n",
            "|  1.0|       1.0|  211|\n",
            "|  0.0|       1.0|   63|\n",
            "|  1.0|       0.0|  189|\n",
            "|  0.0|       0.0|  588|\n",
            "+-----+----------+-----+\n",
            "\n",
            "AUC: 0.830\n",
            "Accuracy: 0.760\n",
            "Precision: 0.770\n",
            "Recall: 0.527\n",
            "F1 score: 0.626\n",
            "Weighted F-Measure: 0.748\n",
            "\n",
            "---------------------------------------------\n",
            "For numTrees: 80 , maxDepth: 30 , maxBins: 40\n",
            "+-----+----------+-----+\n",
            "|label|prediction|count|\n",
            "+-----+----------+-----+\n",
            "|  1.0|       1.0|  211|\n",
            "|  0.0|       1.0|   63|\n",
            "|  1.0|       0.0|  189|\n",
            "|  0.0|       0.0|  588|\n",
            "+-----+----------+-----+\n",
            "\n",
            "AUC: 0.830\n",
            "Accuracy: 0.760\n",
            "Precision: 0.770\n",
            "Recall: 0.527\n",
            "F1 score: 0.626\n",
            "Weighted F-Measure: 0.748\n",
            "\n",
            "---------------------------------------------\n",
            "For numTrees: 80 , maxDepth: 30 , maxBins: 60\n",
            "+-----+----------+-----+\n",
            "|label|prediction|count|\n",
            "+-----+----------+-----+\n",
            "|  1.0|       1.0|  211|\n",
            "|  0.0|       1.0|   63|\n",
            "|  1.0|       0.0|  189|\n",
            "|  0.0|       0.0|  588|\n",
            "+-----+----------+-----+\n",
            "\n",
            "AUC: 0.830\n",
            "Accuracy: 0.760\n",
            "Precision: 0.770\n",
            "Recall: 0.527\n",
            "F1 score: 0.626\n",
            "Weighted F-Measure: 0.748\n",
            "\n",
            "---------------------------------------------\n"
          ]
        }
      ]
    },
    {
      "cell_type": "markdown",
      "source": [
        "The random forest algorithm is found to have the best performance on the test data. MaxBins hyperparameter found to have no effect. Setting numTrees = 20, maxDepth = 30 found to have best results."
      ],
      "metadata": {
        "id": "sOPo31Lfg0DI"
      }
    },
    {
      "cell_type": "markdown",
      "source": [
        "## 5.2 With Normalization (featuresCol = 'Normalized Features')"
      ],
      "metadata": {
        "id": "YUvOiQfyhECj"
      }
    },
    {
      "cell_type": "markdown",
      "source": [
        "### 5.2.1 Naive Bayes Classifier"
      ],
      "metadata": {
        "id": "RHtuiPTVhHte"
      }
    },
    {
      "cell_type": "code",
      "source": [
        "nb = NaiveBayes(labelCol = 'label', featuresCol = 'Normalized Features')\n",
        "paramGrid = ParamGridBuilder().addGrid(nb.smoothing, [0.0, 0.2, 0.4, 0.6, 0.8, 1.0]).build()\n",
        " \n",
        "evaluator = MulticlassClassificationEvaluator(labelCol=\"label\", predictionCol=\"prediction\", metricName=\"f1\")\n",
        "NUM_CV_FOLDS = 2\n",
        " \n",
        "cv = StratifiedCrossValidator(estimator = nb, estimatorParamMaps = paramGrid, evaluator = evaluator, numFolds = NUM_CV_FOLDS)\n",
        " \n",
        "cvModel = cv.fit(normalized_df_train)\n",
        " \n",
        "predictions = cvModel.transform(normalized_df_test)\n",
        "print_metrics(predictions)\n",
        " \n",
        "params = [{p.name: v for p, v in m.items()} for m in cvModel.getEstimatorParamMaps()]\n",
        "pandas.DataFrame.from_dict([{cvModel.getEvaluator().getMetricName(): metric, **ps} for ps, metric in zip(params, cvModel.avgMetrics)])"
      ],
      "metadata": {
        "id": "Zykn7eG4hMJD",
        "colab": {
          "base_uri": "https://localhost:8080/",
          "height": 515
        },
        "outputId": "cea9e8c9-631a-4615-d32b-b0325786d18c"
      },
      "execution_count": 65,
      "outputs": [
        {
          "output_type": "stream",
          "name": "stdout",
          "text": [
            "+-----+----------+-----+\n",
            "|label|prediction|count|\n",
            "+-----+----------+-----+\n",
            "|  1.0|       1.0|  216|\n",
            "|  0.0|       1.0|   90|\n",
            "|  1.0|       0.0|  223|\n",
            "|  0.0|       0.0|  685|\n",
            "+-----+----------+-----+\n",
            "\n",
            "AUC: 0.585\n",
            "Accuracy: 0.742\n",
            "Precision: 0.706\n",
            "Recall: 0.492\n",
            "F1 score: 0.580\n",
            "Weighted F-Measure: 0.729\n",
            "\n"
          ]
        },
        {
          "output_type": "execute_result",
          "data": {
            "text/plain": [
              "         f1  smoothing\n",
              "0  0.732478        0.0\n",
              "1  0.732245        0.2\n",
              "2  0.731842        0.4\n",
              "3  0.731327        0.6\n",
              "4  0.732305        0.8\n",
              "5  0.732017        1.0"
            ],
            "text/html": [
              "\n",
              "  <div id=\"df-5594c06c-1714-45f0-8a1b-47a56887d611\">\n",
              "    <div class=\"colab-df-container\">\n",
              "      <div>\n",
              "<style scoped>\n",
              "    .dataframe tbody tr th:only-of-type {\n",
              "        vertical-align: middle;\n",
              "    }\n",
              "\n",
              "    .dataframe tbody tr th {\n",
              "        vertical-align: top;\n",
              "    }\n",
              "\n",
              "    .dataframe thead th {\n",
              "        text-align: right;\n",
              "    }\n",
              "</style>\n",
              "<table border=\"1\" class=\"dataframe\">\n",
              "  <thead>\n",
              "    <tr style=\"text-align: right;\">\n",
              "      <th></th>\n",
              "      <th>f1</th>\n",
              "      <th>smoothing</th>\n",
              "    </tr>\n",
              "  </thead>\n",
              "  <tbody>\n",
              "    <tr>\n",
              "      <th>0</th>\n",
              "      <td>0.732478</td>\n",
              "      <td>0.0</td>\n",
              "    </tr>\n",
              "    <tr>\n",
              "      <th>1</th>\n",
              "      <td>0.732245</td>\n",
              "      <td>0.2</td>\n",
              "    </tr>\n",
              "    <tr>\n",
              "      <th>2</th>\n",
              "      <td>0.731842</td>\n",
              "      <td>0.4</td>\n",
              "    </tr>\n",
              "    <tr>\n",
              "      <th>3</th>\n",
              "      <td>0.731327</td>\n",
              "      <td>0.6</td>\n",
              "    </tr>\n",
              "    <tr>\n",
              "      <th>4</th>\n",
              "      <td>0.732305</td>\n",
              "      <td>0.8</td>\n",
              "    </tr>\n",
              "    <tr>\n",
              "      <th>5</th>\n",
              "      <td>0.732017</td>\n",
              "      <td>1.0</td>\n",
              "    </tr>\n",
              "  </tbody>\n",
              "</table>\n",
              "</div>\n",
              "      <button class=\"colab-df-convert\" onclick=\"convertToInteractive('df-5594c06c-1714-45f0-8a1b-47a56887d611')\"\n",
              "              title=\"Convert this dataframe to an interactive table.\"\n",
              "              style=\"display:none;\">\n",
              "        \n",
              "  <svg xmlns=\"http://www.w3.org/2000/svg\" height=\"24px\"viewBox=\"0 0 24 24\"\n",
              "       width=\"24px\">\n",
              "    <path d=\"M0 0h24v24H0V0z\" fill=\"none\"/>\n",
              "    <path d=\"M18.56 5.44l.94 2.06.94-2.06 2.06-.94-2.06-.94-.94-2.06-.94 2.06-2.06.94zm-11 1L8.5 8.5l.94-2.06 2.06-.94-2.06-.94L8.5 2.5l-.94 2.06-2.06.94zm10 10l.94 2.06.94-2.06 2.06-.94-2.06-.94-.94-2.06-.94 2.06-2.06.94z\"/><path d=\"M17.41 7.96l-1.37-1.37c-.4-.4-.92-.59-1.43-.59-.52 0-1.04.2-1.43.59L10.3 9.45l-7.72 7.72c-.78.78-.78 2.05 0 2.83L4 21.41c.39.39.9.59 1.41.59.51 0 1.02-.2 1.41-.59l7.78-7.78 2.81-2.81c.8-.78.8-2.07 0-2.86zM5.41 20L4 18.59l7.72-7.72 1.47 1.35L5.41 20z\"/>\n",
              "  </svg>\n",
              "      </button>\n",
              "      \n",
              "  <style>\n",
              "    .colab-df-container {\n",
              "      display:flex;\n",
              "      flex-wrap:wrap;\n",
              "      gap: 12px;\n",
              "    }\n",
              "\n",
              "    .colab-df-convert {\n",
              "      background-color: #E8F0FE;\n",
              "      border: none;\n",
              "      border-radius: 50%;\n",
              "      cursor: pointer;\n",
              "      display: none;\n",
              "      fill: #1967D2;\n",
              "      height: 32px;\n",
              "      padding: 0 0 0 0;\n",
              "      width: 32px;\n",
              "    }\n",
              "\n",
              "    .colab-df-convert:hover {\n",
              "      background-color: #E2EBFA;\n",
              "      box-shadow: 0px 1px 2px rgba(60, 64, 67, 0.3), 0px 1px 3px 1px rgba(60, 64, 67, 0.15);\n",
              "      fill: #174EA6;\n",
              "    }\n",
              "\n",
              "    [theme=dark] .colab-df-convert {\n",
              "      background-color: #3B4455;\n",
              "      fill: #D2E3FC;\n",
              "    }\n",
              "\n",
              "    [theme=dark] .colab-df-convert:hover {\n",
              "      background-color: #434B5C;\n",
              "      box-shadow: 0px 1px 3px 1px rgba(0, 0, 0, 0.15);\n",
              "      filter: drop-shadow(0px 1px 2px rgba(0, 0, 0, 0.3));\n",
              "      fill: #FFFFFF;\n",
              "    }\n",
              "  </style>\n",
              "\n",
              "      <script>\n",
              "        const buttonEl =\n",
              "          document.querySelector('#df-5594c06c-1714-45f0-8a1b-47a56887d611 button.colab-df-convert');\n",
              "        buttonEl.style.display =\n",
              "          google.colab.kernel.accessAllowed ? 'block' : 'none';\n",
              "\n",
              "        async function convertToInteractive(key) {\n",
              "          const element = document.querySelector('#df-5594c06c-1714-45f0-8a1b-47a56887d611');\n",
              "          const dataTable =\n",
              "            await google.colab.kernel.invokeFunction('convertToInteractive',\n",
              "                                                     [key], {});\n",
              "          if (!dataTable) return;\n",
              "\n",
              "          const docLinkHtml = 'Like what you see? Visit the ' +\n",
              "            '<a target=\"_blank\" href=https://colab.research.google.com/notebooks/data_table.ipynb>data table notebook</a>'\n",
              "            + ' to learn more about interactive tables.';\n",
              "          element.innerHTML = '';\n",
              "          dataTable['output_type'] = 'display_data';\n",
              "          await google.colab.output.renderOutput(dataTable, element);\n",
              "          const docLink = document.createElement('div');\n",
              "          docLink.innerHTML = docLinkHtml;\n",
              "          element.appendChild(docLink);\n",
              "        }\n",
              "      </script>\n",
              "    </div>\n",
              "  </div>\n",
              "  "
            ]
          },
          "metadata": {},
          "execution_count": 65
        }
      ]
    },
    {
      "cell_type": "markdown",
      "source": [
        "### 5.2.2 Linear SVC Classifier"
      ],
      "metadata": {
        "id": "goywXxVZhUZV"
      }
    },
    {
      "cell_type": "code",
      "source": [
        "lsvc = LinearSVC(labelCol = 'label', featuresCol = 'Normalized Features')\n",
        " \n",
        "paramGrid = ParamGridBuilder().addGrid(lsvc.regParam,[0.001, 0.01, 0.1, 1.0]).addGrid(lsvc.maxIter, [10, 15, 20]).build()\n",
        " \n",
        "evaluator = MulticlassClassificationEvaluator(labelCol=\"label\", predictionCol=\"prediction\", metricName=\"f1\")\n",
        "NUM_CV_FOLDS = 2\n",
        " \n",
        "cv = StratifiedCrossValidator(estimator = lsvc, estimatorParamMaps = paramGrid, evaluator = evaluator, numFolds = NUM_CV_FOLDS)\n",
        " \n",
        "cvModel = cv.fit(normalized_df_train)\n",
        " \n",
        "predictions = cvModel.transform(normalized_df_test)\n",
        "print_metrics(predictions)\n",
        " \n",
        "params = [{p.name: v for p, v in m.items()} for m in cvModel.getEstimatorParamMaps()]\n",
        "pandas.DataFrame.from_dict([{cvModel.getEvaluator().getMetricName(): metric, **ps} for ps, metric in zip(params, cvModel.avgMetrics)])"
      ],
      "metadata": {
        "id": "YvwyiT2dhVqa",
        "colab": {
          "base_uri": "https://localhost:8080/",
          "height": 703
        },
        "outputId": "58c269cc-d8ef-4012-95eb-408893fb2020"
      },
      "execution_count": 66,
      "outputs": [
        {
          "output_type": "stream",
          "name": "stdout",
          "text": [
            "+-----+----------+-----+\n",
            "|label|prediction|count|\n",
            "+-----+----------+-----+\n",
            "|  1.0|       1.0|  236|\n",
            "|  0.0|       1.0|  101|\n",
            "|  1.0|       0.0|  203|\n",
            "|  0.0|       0.0|  674|\n",
            "+-----+----------+-----+\n",
            "\n",
            "AUC: 0.805\n",
            "Accuracy: 0.750\n",
            "Precision: 0.700\n",
            "Recall: 0.538\n",
            "F1 score: 0.608\n",
            "Weighted F-Measure: 0.741\n",
            "\n"
          ]
        },
        {
          "output_type": "execute_result",
          "data": {
            "text/plain": [
              "          f1  regParam  maxIter\n",
              "0   0.738050     0.001       10\n",
              "1   0.739868     0.001       15\n",
              "2   0.737722     0.001       20\n",
              "3   0.737244     0.010       10\n",
              "4   0.739562     0.010       15\n",
              "5   0.739421     0.010       20\n",
              "6   0.733557     0.100       10\n",
              "7   0.732844     0.100       15\n",
              "8   0.733433     0.100       20\n",
              "9   0.562531     1.000       10\n",
              "10  0.537547     1.000       15\n",
              "11  0.534422     1.000       20"
            ],
            "text/html": [
              "\n",
              "  <div id=\"df-1a5cb16c-954c-495e-a556-abf154b6cb71\">\n",
              "    <div class=\"colab-df-container\">\n",
              "      <div>\n",
              "<style scoped>\n",
              "    .dataframe tbody tr th:only-of-type {\n",
              "        vertical-align: middle;\n",
              "    }\n",
              "\n",
              "    .dataframe tbody tr th {\n",
              "        vertical-align: top;\n",
              "    }\n",
              "\n",
              "    .dataframe thead th {\n",
              "        text-align: right;\n",
              "    }\n",
              "</style>\n",
              "<table border=\"1\" class=\"dataframe\">\n",
              "  <thead>\n",
              "    <tr style=\"text-align: right;\">\n",
              "      <th></th>\n",
              "      <th>f1</th>\n",
              "      <th>regParam</th>\n",
              "      <th>maxIter</th>\n",
              "    </tr>\n",
              "  </thead>\n",
              "  <tbody>\n",
              "    <tr>\n",
              "      <th>0</th>\n",
              "      <td>0.738050</td>\n",
              "      <td>0.001</td>\n",
              "      <td>10</td>\n",
              "    </tr>\n",
              "    <tr>\n",
              "      <th>1</th>\n",
              "      <td>0.739868</td>\n",
              "      <td>0.001</td>\n",
              "      <td>15</td>\n",
              "    </tr>\n",
              "    <tr>\n",
              "      <th>2</th>\n",
              "      <td>0.737722</td>\n",
              "      <td>0.001</td>\n",
              "      <td>20</td>\n",
              "    </tr>\n",
              "    <tr>\n",
              "      <th>3</th>\n",
              "      <td>0.737244</td>\n",
              "      <td>0.010</td>\n",
              "      <td>10</td>\n",
              "    </tr>\n",
              "    <tr>\n",
              "      <th>4</th>\n",
              "      <td>0.739562</td>\n",
              "      <td>0.010</td>\n",
              "      <td>15</td>\n",
              "    </tr>\n",
              "    <tr>\n",
              "      <th>5</th>\n",
              "      <td>0.739421</td>\n",
              "      <td>0.010</td>\n",
              "      <td>20</td>\n",
              "    </tr>\n",
              "    <tr>\n",
              "      <th>6</th>\n",
              "      <td>0.733557</td>\n",
              "      <td>0.100</td>\n",
              "      <td>10</td>\n",
              "    </tr>\n",
              "    <tr>\n",
              "      <th>7</th>\n",
              "      <td>0.732844</td>\n",
              "      <td>0.100</td>\n",
              "      <td>15</td>\n",
              "    </tr>\n",
              "    <tr>\n",
              "      <th>8</th>\n",
              "      <td>0.733433</td>\n",
              "      <td>0.100</td>\n",
              "      <td>20</td>\n",
              "    </tr>\n",
              "    <tr>\n",
              "      <th>9</th>\n",
              "      <td>0.562531</td>\n",
              "      <td>1.000</td>\n",
              "      <td>10</td>\n",
              "    </tr>\n",
              "    <tr>\n",
              "      <th>10</th>\n",
              "      <td>0.537547</td>\n",
              "      <td>1.000</td>\n",
              "      <td>15</td>\n",
              "    </tr>\n",
              "    <tr>\n",
              "      <th>11</th>\n",
              "      <td>0.534422</td>\n",
              "      <td>1.000</td>\n",
              "      <td>20</td>\n",
              "    </tr>\n",
              "  </tbody>\n",
              "</table>\n",
              "</div>\n",
              "      <button class=\"colab-df-convert\" onclick=\"convertToInteractive('df-1a5cb16c-954c-495e-a556-abf154b6cb71')\"\n",
              "              title=\"Convert this dataframe to an interactive table.\"\n",
              "              style=\"display:none;\">\n",
              "        \n",
              "  <svg xmlns=\"http://www.w3.org/2000/svg\" height=\"24px\"viewBox=\"0 0 24 24\"\n",
              "       width=\"24px\">\n",
              "    <path d=\"M0 0h24v24H0V0z\" fill=\"none\"/>\n",
              "    <path d=\"M18.56 5.44l.94 2.06.94-2.06 2.06-.94-2.06-.94-.94-2.06-.94 2.06-2.06.94zm-11 1L8.5 8.5l.94-2.06 2.06-.94-2.06-.94L8.5 2.5l-.94 2.06-2.06.94zm10 10l.94 2.06.94-2.06 2.06-.94-2.06-.94-.94-2.06-.94 2.06-2.06.94z\"/><path d=\"M17.41 7.96l-1.37-1.37c-.4-.4-.92-.59-1.43-.59-.52 0-1.04.2-1.43.59L10.3 9.45l-7.72 7.72c-.78.78-.78 2.05 0 2.83L4 21.41c.39.39.9.59 1.41.59.51 0 1.02-.2 1.41-.59l7.78-7.78 2.81-2.81c.8-.78.8-2.07 0-2.86zM5.41 20L4 18.59l7.72-7.72 1.47 1.35L5.41 20z\"/>\n",
              "  </svg>\n",
              "      </button>\n",
              "      \n",
              "  <style>\n",
              "    .colab-df-container {\n",
              "      display:flex;\n",
              "      flex-wrap:wrap;\n",
              "      gap: 12px;\n",
              "    }\n",
              "\n",
              "    .colab-df-convert {\n",
              "      background-color: #E8F0FE;\n",
              "      border: none;\n",
              "      border-radius: 50%;\n",
              "      cursor: pointer;\n",
              "      display: none;\n",
              "      fill: #1967D2;\n",
              "      height: 32px;\n",
              "      padding: 0 0 0 0;\n",
              "      width: 32px;\n",
              "    }\n",
              "\n",
              "    .colab-df-convert:hover {\n",
              "      background-color: #E2EBFA;\n",
              "      box-shadow: 0px 1px 2px rgba(60, 64, 67, 0.3), 0px 1px 3px 1px rgba(60, 64, 67, 0.15);\n",
              "      fill: #174EA6;\n",
              "    }\n",
              "\n",
              "    [theme=dark] .colab-df-convert {\n",
              "      background-color: #3B4455;\n",
              "      fill: #D2E3FC;\n",
              "    }\n",
              "\n",
              "    [theme=dark] .colab-df-convert:hover {\n",
              "      background-color: #434B5C;\n",
              "      box-shadow: 0px 1px 3px 1px rgba(0, 0, 0, 0.15);\n",
              "      filter: drop-shadow(0px 1px 2px rgba(0, 0, 0, 0.3));\n",
              "      fill: #FFFFFF;\n",
              "    }\n",
              "  </style>\n",
              "\n",
              "      <script>\n",
              "        const buttonEl =\n",
              "          document.querySelector('#df-1a5cb16c-954c-495e-a556-abf154b6cb71 button.colab-df-convert');\n",
              "        buttonEl.style.display =\n",
              "          google.colab.kernel.accessAllowed ? 'block' : 'none';\n",
              "\n",
              "        async function convertToInteractive(key) {\n",
              "          const element = document.querySelector('#df-1a5cb16c-954c-495e-a556-abf154b6cb71');\n",
              "          const dataTable =\n",
              "            await google.colab.kernel.invokeFunction('convertToInteractive',\n",
              "                                                     [key], {});\n",
              "          if (!dataTable) return;\n",
              "\n",
              "          const docLinkHtml = 'Like what you see? Visit the ' +\n",
              "            '<a target=\"_blank\" href=https://colab.research.google.com/notebooks/data_table.ipynb>data table notebook</a>'\n",
              "            + ' to learn more about interactive tables.';\n",
              "          element.innerHTML = '';\n",
              "          dataTable['output_type'] = 'display_data';\n",
              "          await google.colab.output.renderOutput(dataTable, element);\n",
              "          const docLink = document.createElement('div');\n",
              "          docLink.innerHTML = docLinkHtml;\n",
              "          element.appendChild(docLink);\n",
              "        }\n",
              "      </script>\n",
              "    </div>\n",
              "  </div>\n",
              "  "
            ]
          },
          "metadata": {},
          "execution_count": 66
        }
      ]
    },
    {
      "cell_type": "markdown",
      "source": [
        "### 5.2.3 Random Forest Classifier"
      ],
      "metadata": {
        "id": "uj53IdgThaCc"
      }
    },
    {
      "cell_type": "code",
      "source": [
        "rf = RandomForestClassifier(labelCol = 'label', featuresCol = 'Normalized Features')\n",
        " \n",
        "paramGrid = ParamGridBuilder().addGrid(rf.numTrees,[40, 60, 80]).addGrid(rf.maxDepth, [15, 20, 25, 30]).build()\n",
        " \n",
        "evaluator = MulticlassClassificationEvaluator(labelCol=\"label\", predictionCol=\"prediction\", metricName=\"f1\")\n",
        "NUM_CV_FOLDS = 2\n",
        " \n",
        "cv = StratifiedCrossValidator(estimator = rf, estimatorParamMaps = paramGrid, evaluator = evaluator, numFolds = NUM_CV_FOLDS)\n",
        " \n",
        "cvModel = cv.fit(normalized_df_train)\n",
        " \n",
        "predictions = cvModel.transform(normalized_df_test)\n",
        "print_metrics(predictions)\n",
        " \n",
        "params = [{p.name: v for p, v in m.items()} for m in cvModel.getEstimatorParamMaps()]\n",
        "pandas.DataFrame.from_dict([{cvModel.getEvaluator().getMetricName(): metric, **ps} for ps, metric in zip(params, cvModel.avgMetrics)])"
      ],
      "metadata": {
        "id": "gTM0gzm6hdRu",
        "colab": {
          "base_uri": "https://localhost:8080/",
          "height": 703
        },
        "outputId": "84f4df55-7e8e-4793-e953-0354d8256d26"
      },
      "execution_count": 67,
      "outputs": [
        {
          "output_type": "stream",
          "name": "stdout",
          "text": [
            "+-----+----------+-----+\n",
            "|label|prediction|count|\n",
            "+-----+----------+-----+\n",
            "|  1.0|       1.0|  233|\n",
            "|  0.0|       1.0|   83|\n",
            "|  1.0|       0.0|  206|\n",
            "|  0.0|       0.0|  692|\n",
            "+-----+----------+-----+\n",
            "\n",
            "AUC: 0.823\n",
            "Accuracy: 0.762\n",
            "Precision: 0.737\n",
            "Recall: 0.531\n",
            "F1 score: 0.617\n",
            "Weighted F-Measure: 0.751\n",
            "\n"
          ]
        },
        {
          "output_type": "execute_result",
          "data": {
            "text/plain": [
              "          f1  numTrees  maxDepth\n",
              "0   0.714626        40        15\n",
              "1   0.717185        40        20\n",
              "2   0.720351        40        25\n",
              "3   0.724080        40        30\n",
              "4   0.710114        60        15\n",
              "5   0.718072        60        20\n",
              "6   0.721777        60        25\n",
              "7   0.724012        60        30\n",
              "8   0.710075        80        15\n",
              "9   0.720667        80        20\n",
              "10  0.723184        80        25\n",
              "11  0.723426        80        30"
            ],
            "text/html": [
              "\n",
              "  <div id=\"df-fc09e19a-b920-49c5-9ca8-afe96d57877a\">\n",
              "    <div class=\"colab-df-container\">\n",
              "      <div>\n",
              "<style scoped>\n",
              "    .dataframe tbody tr th:only-of-type {\n",
              "        vertical-align: middle;\n",
              "    }\n",
              "\n",
              "    .dataframe tbody tr th {\n",
              "        vertical-align: top;\n",
              "    }\n",
              "\n",
              "    .dataframe thead th {\n",
              "        text-align: right;\n",
              "    }\n",
              "</style>\n",
              "<table border=\"1\" class=\"dataframe\">\n",
              "  <thead>\n",
              "    <tr style=\"text-align: right;\">\n",
              "      <th></th>\n",
              "      <th>f1</th>\n",
              "      <th>numTrees</th>\n",
              "      <th>maxDepth</th>\n",
              "    </tr>\n",
              "  </thead>\n",
              "  <tbody>\n",
              "    <tr>\n",
              "      <th>0</th>\n",
              "      <td>0.714626</td>\n",
              "      <td>40</td>\n",
              "      <td>15</td>\n",
              "    </tr>\n",
              "    <tr>\n",
              "      <th>1</th>\n",
              "      <td>0.717185</td>\n",
              "      <td>40</td>\n",
              "      <td>20</td>\n",
              "    </tr>\n",
              "    <tr>\n",
              "      <th>2</th>\n",
              "      <td>0.720351</td>\n",
              "      <td>40</td>\n",
              "      <td>25</td>\n",
              "    </tr>\n",
              "    <tr>\n",
              "      <th>3</th>\n",
              "      <td>0.724080</td>\n",
              "      <td>40</td>\n",
              "      <td>30</td>\n",
              "    </tr>\n",
              "    <tr>\n",
              "      <th>4</th>\n",
              "      <td>0.710114</td>\n",
              "      <td>60</td>\n",
              "      <td>15</td>\n",
              "    </tr>\n",
              "    <tr>\n",
              "      <th>5</th>\n",
              "      <td>0.718072</td>\n",
              "      <td>60</td>\n",
              "      <td>20</td>\n",
              "    </tr>\n",
              "    <tr>\n",
              "      <th>6</th>\n",
              "      <td>0.721777</td>\n",
              "      <td>60</td>\n",
              "      <td>25</td>\n",
              "    </tr>\n",
              "    <tr>\n",
              "      <th>7</th>\n",
              "      <td>0.724012</td>\n",
              "      <td>60</td>\n",
              "      <td>30</td>\n",
              "    </tr>\n",
              "    <tr>\n",
              "      <th>8</th>\n",
              "      <td>0.710075</td>\n",
              "      <td>80</td>\n",
              "      <td>15</td>\n",
              "    </tr>\n",
              "    <tr>\n",
              "      <th>9</th>\n",
              "      <td>0.720667</td>\n",
              "      <td>80</td>\n",
              "      <td>20</td>\n",
              "    </tr>\n",
              "    <tr>\n",
              "      <th>10</th>\n",
              "      <td>0.723184</td>\n",
              "      <td>80</td>\n",
              "      <td>25</td>\n",
              "    </tr>\n",
              "    <tr>\n",
              "      <th>11</th>\n",
              "      <td>0.723426</td>\n",
              "      <td>80</td>\n",
              "      <td>30</td>\n",
              "    </tr>\n",
              "  </tbody>\n",
              "</table>\n",
              "</div>\n",
              "      <button class=\"colab-df-convert\" onclick=\"convertToInteractive('df-fc09e19a-b920-49c5-9ca8-afe96d57877a')\"\n",
              "              title=\"Convert this dataframe to an interactive table.\"\n",
              "              style=\"display:none;\">\n",
              "        \n",
              "  <svg xmlns=\"http://www.w3.org/2000/svg\" height=\"24px\"viewBox=\"0 0 24 24\"\n",
              "       width=\"24px\">\n",
              "    <path d=\"M0 0h24v24H0V0z\" fill=\"none\"/>\n",
              "    <path d=\"M18.56 5.44l.94 2.06.94-2.06 2.06-.94-2.06-.94-.94-2.06-.94 2.06-2.06.94zm-11 1L8.5 8.5l.94-2.06 2.06-.94-2.06-.94L8.5 2.5l-.94 2.06-2.06.94zm10 10l.94 2.06.94-2.06 2.06-.94-2.06-.94-.94-2.06-.94 2.06-2.06.94z\"/><path d=\"M17.41 7.96l-1.37-1.37c-.4-.4-.92-.59-1.43-.59-.52 0-1.04.2-1.43.59L10.3 9.45l-7.72 7.72c-.78.78-.78 2.05 0 2.83L4 21.41c.39.39.9.59 1.41.59.51 0 1.02-.2 1.41-.59l7.78-7.78 2.81-2.81c.8-.78.8-2.07 0-2.86zM5.41 20L4 18.59l7.72-7.72 1.47 1.35L5.41 20z\"/>\n",
              "  </svg>\n",
              "      </button>\n",
              "      \n",
              "  <style>\n",
              "    .colab-df-container {\n",
              "      display:flex;\n",
              "      flex-wrap:wrap;\n",
              "      gap: 12px;\n",
              "    }\n",
              "\n",
              "    .colab-df-convert {\n",
              "      background-color: #E8F0FE;\n",
              "      border: none;\n",
              "      border-radius: 50%;\n",
              "      cursor: pointer;\n",
              "      display: none;\n",
              "      fill: #1967D2;\n",
              "      height: 32px;\n",
              "      padding: 0 0 0 0;\n",
              "      width: 32px;\n",
              "    }\n",
              "\n",
              "    .colab-df-convert:hover {\n",
              "      background-color: #E2EBFA;\n",
              "      box-shadow: 0px 1px 2px rgba(60, 64, 67, 0.3), 0px 1px 3px 1px rgba(60, 64, 67, 0.15);\n",
              "      fill: #174EA6;\n",
              "    }\n",
              "\n",
              "    [theme=dark] .colab-df-convert {\n",
              "      background-color: #3B4455;\n",
              "      fill: #D2E3FC;\n",
              "    }\n",
              "\n",
              "    [theme=dark] .colab-df-convert:hover {\n",
              "      background-color: #434B5C;\n",
              "      box-shadow: 0px 1px 3px 1px rgba(0, 0, 0, 0.15);\n",
              "      filter: drop-shadow(0px 1px 2px rgba(0, 0, 0, 0.3));\n",
              "      fill: #FFFFFF;\n",
              "    }\n",
              "  </style>\n",
              "\n",
              "      <script>\n",
              "        const buttonEl =\n",
              "          document.querySelector('#df-fc09e19a-b920-49c5-9ca8-afe96d57877a button.colab-df-convert');\n",
              "        buttonEl.style.display =\n",
              "          google.colab.kernel.accessAllowed ? 'block' : 'none';\n",
              "\n",
              "        async function convertToInteractive(key) {\n",
              "          const element = document.querySelector('#df-fc09e19a-b920-49c5-9ca8-afe96d57877a');\n",
              "          const dataTable =\n",
              "            await google.colab.kernel.invokeFunction('convertToInteractive',\n",
              "                                                     [key], {});\n",
              "          if (!dataTable) return;\n",
              "\n",
              "          const docLinkHtml = 'Like what you see? Visit the ' +\n",
              "            '<a target=\"_blank\" href=https://colab.research.google.com/notebooks/data_table.ipynb>data table notebook</a>'\n",
              "            + ' to learn more about interactive tables.';\n",
              "          element.innerHTML = '';\n",
              "          dataTable['output_type'] = 'display_data';\n",
              "          await google.colab.output.renderOutput(dataTable, element);\n",
              "          const docLink = document.createElement('div');\n",
              "          docLink.innerHTML = docLinkHtml;\n",
              "          element.appendChild(docLink);\n",
              "        }\n",
              "      </script>\n",
              "    </div>\n",
              "  </div>\n",
              "  "
            ]
          },
          "metadata": {},
          "execution_count": 67
        }
      ]
    },
    {
      "cell_type": "markdown",
      "source": [
        "The Linear Support Vector Classifier algorithm is found to have the best performance on the normalized test data. Setting regParam = 0.001 and maxIter = 15 found to have best results."
      ],
      "metadata": {
        "id": "2XsGJuv_hrHO"
      }
    },
    {
      "cell_type": "markdown",
      "source": [
        "# 6. Distribution of Misclassifications"
      ],
      "metadata": {
        "id": "eONPjyfmhsdl"
      }
    },
    {
      "cell_type": "markdown",
      "source": [
        "Retraining best performing models for normalized and non-normalized on training data"
      ],
      "metadata": {
        "id": "3_O7ZurRhyAf"
      }
    },
    {
      "cell_type": "code",
      "source": [
        "# Best not normalized\n",
        "rf = RandomForestClassifier(labelCol = 'label', featuresCol = 'features', numTrees = 20, maxDepth = 30)\n",
        "model= rf.fit(normalized_df_train)\n",
        "predictions = model.transform(normalized_df_test)\n",
        "df_misclassified_0 = predictions.filter(col('label') == 1).filter(col('prediction') == 0)\n",
        "df_misclassified_1 = predictions.filter(col('label') == 0).filter(col('prediction') == 1)\n",
        "df_misclassified = df_misclassified_0.union(df_misclassified_1)\n",
        "#display(df_misclassified.select('ID','SUMMARY','Pruned Textual Contents','label','prediction'))\n",
        "df_misclassified.select('ID','SUMMARY','Pruned Textual Contents','label','prediction').show(n=10)"
      ],
      "metadata": {
        "id": "7ELgrwJWhsFF",
        "colab": {
          "base_uri": "https://localhost:8080/"
        },
        "outputId": "1d30a06d-24b8-45db-acfb-b628041be16d"
      },
      "execution_count": 84,
      "outputs": [
        {
          "output_type": "stream",
          "name": "stdout",
          "text": [
            "+---------------+--------------------+-----------------------+-----+----------+\n",
            "|             ID|             SUMMARY|Pruned Textual Contents|label|prediction|\n",
            "+---------------+--------------------+-----------------------+-----+----------+\n",
            "|HTTPCLIENT-1051|SSL connections c...|         [connect, use]|  1.0|       0.0|\n",
            "|HTTPCLIENT-1053|Security issue - ...|            [use, valu]|  1.0|       0.0|\n",
            "|HTTPCLIENT-1079|Kerberos cross-re...|              [support]|  1.0|       0.0|\n",
            "|HTTPCLIENT-1116|ResponseCachingPo...|                  [use]|  1.0|       0.0|\n",
            "| HTTPCLIENT-113|NullPointerExcept...|                     []|  1.0|       0.0|\n",
            "|HTTPCLIENT-1147|When HttpClient-C...|   [when, cach, cach...|  1.0|       0.0|\n",
            "| HTTPCLIENT-280|Freezes w MultiTh...|                     []|  1.0|       0.0|\n",
            "| HTTPCLIENT-289|MultiThreadedHttp...|               [thread]|  1.0|       0.0|\n",
            "| HTTPCLIENT-292|NTLM Proxy and ba...|                     []|  1.0|       0.0|\n",
            "| HTTPCLIENT-307|An IOException or...|                     []|  1.0|       0.0|\n",
            "+---------------+--------------------+-----------------------+-----+----------+\n",
            "only showing top 10 rows\n",
            "\n"
          ]
        }
      ]
    },
    {
      "cell_type": "code",
      "source": [
        "# Best normalized\n",
        "lsvc = LinearSVC(labelCol = 'label', featuresCol = 'Normalized Features', regParam = 0.001, maxIter = 15)\n",
        "model= lsvc.fit(normalized_df_train)\n",
        "predictions = model.transform(normalized_df_test)\n",
        "df_misclassified_0 = predictions.filter(col('label') == 1).filter(col('prediction') == 0)\n",
        "df_misclassified_1 = predictions.filter(col('label') == 0).filter(col('prediction') == 1)\n",
        "df_misclassified = df_misclassified_0.union(df_misclassified_1)\n",
        "#display(df_misclassified.select('ID','SUMMARY','Pruned Textual Contents','label','prediction'))\n",
        "df_misclassified.select('ID','SUMMARY','Pruned Textual Contents','label','prediction').show(n=10)"
      ],
      "metadata": {
        "id": "lzYRNPolh7yj",
        "colab": {
          "base_uri": "https://localhost:8080/"
        },
        "outputId": "149bc430-84d1-4b6e-c085-5d551c2df0ba"
      },
      "execution_count": 85,
      "outputs": [
        {
          "output_type": "stream",
          "name": "stdout",
          "text": [
            "+---------------+--------------------+-----------------------+-----+----------+\n",
            "|             ID|             SUMMARY|Pruned Textual Contents|label|prediction|\n",
            "+---------------+--------------------+-----------------------+-----+----------+\n",
            "|HTTPCLIENT-1051|SSL connections c...|         [connect, use]|  1.0|       0.0|\n",
            "|HTTPCLIENT-1053|Security issue - ...|            [use, valu]|  1.0|       0.0|\n",
            "|HTTPCLIENT-1079|Kerberos cross-re...|              [support]|  1.0|       0.0|\n",
            "|HTTPCLIENT-1116|ResponseCachingPo...|                  [use]|  1.0|       0.0|\n",
            "| HTTPCLIENT-113|NullPointerExcept...|                     []|  1.0|       0.0|\n",
            "| HTTPCLIENT-280|Freezes w MultiTh...|                     []|  1.0|       0.0|\n",
            "| HTTPCLIENT-289|MultiThreadedHttp...|               [thread]|  1.0|       0.0|\n",
            "| HTTPCLIENT-292|NTLM Proxy and ba...|                     []|  1.0|       0.0|\n",
            "| HTTPCLIENT-307|An IOException or...|                     []|  1.0|       0.0|\n",
            "| HTTPCLIENT-350|HttpState matchCr...|                     []|  1.0|       0.0|\n",
            "+---------------+--------------------+-----------------------+-----+----------+\n",
            "only showing top 10 rows\n",
            "\n"
          ]
        }
      ]
    },
    {
      "cell_type": "markdown",
      "source": [
        "# 7. Further Analysis"
      ],
      "metadata": {
        "id": "z8Lo_Plsh9wp"
      }
    },
    {
      "cell_type": "markdown",
      "source": [
        "## 7.1 Testing Effect of Using Type Column instead of Classified on Performance"
      ],
      "metadata": {
        "id": "pwN3wDKriAhG"
      }
    },
    {
      "cell_type": "code",
      "source": [
        "df_combined_processed = preprocess_text(df_all_combined, 2.0, 100)\n",
        "indexer = StringIndexer(inputCol = 'TYPE', outputCol = 'TypeLabel').setHandleInvalid('skip')\n",
        "df_result = indexer.fit(df_combined_processed).transform(df_combined_processed)\n",
        "normalized_df_train, normalized_df_test = df_result.randomSplit([0.8, 0.2], seed = 56)\n",
        " \n",
        "nb = NaiveBayes(labelCol = 'TypeLabel', featuresCol = 'Normalized Features')\n",
        "paramGrid = ParamGridBuilder().addGrid(nb.smoothing, [0.0, 0.2, 0.4, 0.6, 0.8, 1.0]).build()\n",
        " \n",
        "evaluator = MulticlassClassificationEvaluator(labelCol=\"TypeLabel\", predictionCol=\"prediction\", metricName=\"f1\")\n",
        "NUM_CV_FOLDS = 2\n",
        " \n",
        "cv = StratifiedCrossValidator(estimator = nb, estimatorParamMaps = paramGrid, evaluator = evaluator, numFolds = NUM_CV_FOLDS)\n",
        " \n",
        "cvModel = cv.fit(normalized_df_train)\n",
        " \n",
        "predictions = cvModel.transform(normalized_df_test)\n",
        "print_metrics(predictions)"
      ],
      "metadata": {
        "id": "2gZHYgJniEFx",
        "colab": {
          "base_uri": "https://localhost:8080/"
        },
        "outputId": "b8e9ac8a-a1d5-4cd5-c3f3-fdd12332ae9b"
      },
      "execution_count": 70,
      "outputs": [
        {
          "output_type": "stream",
          "name": "stdout",
          "text": [
            "+-----+----------+-----+\n",
            "|label|prediction|count|\n",
            "+-----+----------+-----+\n",
            "|  1.0|       1.0|   72|\n",
            "|  0.0|       1.0|  461|\n",
            "|  1.0|       0.0|  361|\n",
            "|  0.0|       0.0|  286|\n",
            "+-----+----------+-----+\n",
            "\n",
            "AUC: 0.400\n",
            "Accuracy: 0.303\n",
            "Precision: 0.135\n",
            "Recall: 0.166\n",
            "F1 score: 0.149\n",
            "Weighted F-Measure: 0.314\n",
            "\n"
          ]
        }
      ]
    },
    {
      "cell_type": "code",
      "source": [
        "df_combined_processed = preprocess_text(df_all_combined, 2.0, 100)\n",
        "indexer = StringIndexer(inputCol = 'TYPE', outputCol = 'TypeLabel').setHandleInvalid('skip')\n",
        "df_result = indexer.fit(df_combined_processed).transform(df_combined_processed)\n",
        "normalized_df_train, normalized_df_test = df_result.randomSplit([0.8, 0.2], seed = 56)\n",
        " \n",
        "rf = RandomForestClassifier(labelCol = 'TypeLabel', featuresCol = 'features', numTrees = 40, maxDepth = 30)\n",
        "model= rf.fit(normalized_df_train)\n",
        "predictions = model.transform(normalized_df_test)\n",
        "print_metrics(predictions)"
      ],
      "metadata": {
        "id": "Y9Cxky1uiKrN",
        "colab": {
          "base_uri": "https://localhost:8080/"
        },
        "outputId": "adc66d6b-7bfb-4a02-b9c1-f09647d74d97"
      },
      "execution_count": 71,
      "outputs": [
        {
          "output_type": "stream",
          "name": "stdout",
          "text": [
            "+-----+----------+-----+\n",
            "|label|prediction|count|\n",
            "+-----+----------+-----+\n",
            "|  1.0|       1.0|  156|\n",
            "|  0.0|       1.0|  601|\n",
            "|  1.0|       0.0|  277|\n",
            "|  0.0|       0.0|  146|\n",
            "+-----+----------+-----+\n",
            "\n",
            "AUC: 0.203\n",
            "Accuracy: 0.256\n",
            "Precision: 0.206\n",
            "Recall: 0.360\n",
            "F1 score: 0.262\n",
            "Weighted F-Measure: 0.254\n",
            "\n"
          ]
        }
      ]
    },
    {
      "cell_type": "markdown",
      "source": [
        "## 7.2 Results When Running With All Terms"
      ],
      "metadata": {
        "id": "IImNFWXYiNM2"
      }
    },
    {
      "cell_type": "markdown",
      "source": [
        "Without Normalization"
      ],
      "metadata": {
        "id": "lb2W6xqiia0V"
      }
    },
    {
      "cell_type": "code",
      "source": [
        "df_combined_processed = preprocess_text(df_all_combined, 2.0, 10000000000)\n",
        "normalized_df_train, normalized_df_test = df_result.randomSplit([0.8, 0.2], seed = 56)\n",
        " \n",
        "rf = RandomForestClassifier(labelCol = 'label', featuresCol = 'features', numTrees = 40, maxDepth = 30)\n",
        "model= rf.fit(normalized_df_train)\n",
        "predictions = model.transform(normalized_df_test)\n",
        "print_metrics(predictions)"
      ],
      "metadata": {
        "id": "wergBqPcic6f",
        "colab": {
          "base_uri": "https://localhost:8080/"
        },
        "outputId": "5d9a6ed8-f2b4-4ef5-d488-008be1e43d3a"
      },
      "execution_count": 72,
      "outputs": [
        {
          "output_type": "stream",
          "name": "stdout",
          "text": [
            "+-----+----------+-----+\n",
            "|label|prediction|count|\n",
            "+-----+----------+-----+\n",
            "|  1.0|       1.0|  227|\n",
            "|  0.0|       1.0|   82|\n",
            "|  1.0|       0.0|  206|\n",
            "|  0.0|       0.0|  665|\n",
            "+-----+----------+-----+\n",
            "\n",
            "AUC: 0.805\n",
            "Accuracy: 0.756\n",
            "Precision: 0.735\n",
            "Recall: 0.524\n",
            "F1 score: 0.612\n",
            "Weighted F-Measure: 0.745\n",
            "\n"
          ]
        }
      ]
    },
    {
      "cell_type": "code",
      "source": [
        "lsvc =  LinearSVC(labelCol = 'label', featuresCol = 'features', regParam = 0.010, maxIter = 15)\n",
        "model= lsvc.fit(normalized_df_train)\n",
        "predictions = model.transform(normalized_df_test)\n",
        "print_metrics(predictions)"
      ],
      "metadata": {
        "id": "wRrSkHuZie8j",
        "colab": {
          "base_uri": "https://localhost:8080/"
        },
        "outputId": "c6f47b2c-160e-47ca-8ad0-1d1a5b63cec8"
      },
      "execution_count": 73,
      "outputs": [
        {
          "output_type": "stream",
          "name": "stdout",
          "text": [
            "+-----+----------+-----+\n",
            "|label|prediction|count|\n",
            "+-----+----------+-----+\n",
            "|  1.0|       1.0|  234|\n",
            "|  0.0|       1.0|   86|\n",
            "|  1.0|       0.0|  199|\n",
            "|  0.0|       0.0|  661|\n",
            "+-----+----------+-----+\n",
            "\n",
            "AUC: 0.804\n",
            "Accuracy: 0.758\n",
            "Precision: 0.731\n",
            "Recall: 0.540\n",
            "F1 score: 0.622\n",
            "Weighted F-Measure: 0.749\n",
            "\n"
          ]
        }
      ]
    },
    {
      "cell_type": "code",
      "source": [
        "nb = NaiveBayes(labelCol = 'label', featuresCol = 'features', smoothing = 0.6)\n",
        "model= nb.fit(normalized_df_train)\n",
        "predictions = model.transform(normalized_df_test)\n",
        "print_metrics(predictions)"
      ],
      "metadata": {
        "id": "-aaf_ZfIiiST",
        "colab": {
          "base_uri": "https://localhost:8080/"
        },
        "outputId": "891b948e-67b3-4984-9c10-3f0f27edfb39"
      },
      "execution_count": 74,
      "outputs": [
        {
          "output_type": "stream",
          "name": "stdout",
          "text": [
            "+-----+----------+-----+\n",
            "|label|prediction|count|\n",
            "+-----+----------+-----+\n",
            "|  1.0|       1.0|  244|\n",
            "|  0.0|       1.0|  117|\n",
            "|  1.0|       0.0|  189|\n",
            "|  0.0|       0.0|  630|\n",
            "+-----+----------+-----+\n",
            "\n",
            "AUC: 0.519\n",
            "Accuracy: 0.741\n",
            "Precision: 0.676\n",
            "Recall: 0.564\n",
            "F1 score: 0.615\n",
            "Weighted F-Measure: 0.735\n",
            "\n"
          ]
        }
      ]
    },
    {
      "cell_type": "markdown",
      "source": [
        "With Normalization"
      ],
      "metadata": {
        "id": "NX4JgQmvik86"
      }
    },
    {
      "cell_type": "code",
      "source": [
        "rf = RandomForestClassifier(labelCol = 'label', featuresCol = 'Normalized Features', numTrees = 80, maxDepth = 30)\n",
        "model= rf.fit(normalized_df_train)\n",
        "predictions = model.transform(normalized_df_test)\n",
        "print_metrics(predictions)"
      ],
      "metadata": {
        "id": "Bu8GsftLinGT",
        "colab": {
          "base_uri": "https://localhost:8080/"
        },
        "outputId": "d1028d20-bead-439f-940c-666f55c2880a"
      },
      "execution_count": 75,
      "outputs": [
        {
          "output_type": "stream",
          "name": "stdout",
          "text": [
            "+-----+----------+-----+\n",
            "|label|prediction|count|\n",
            "+-----+----------+-----+\n",
            "|  1.0|       1.0|  230|\n",
            "|  0.0|       1.0|   89|\n",
            "|  1.0|       0.0|  203|\n",
            "|  0.0|       0.0|  658|\n",
            "+-----+----------+-----+\n",
            "\n",
            "AUC: 0.802\n",
            "Accuracy: 0.753\n",
            "Precision: 0.721\n",
            "Recall: 0.531\n",
            "F1 score: 0.612\n",
            "Weighted F-Measure: 0.743\n",
            "\n"
          ]
        }
      ]
    },
    {
      "cell_type": "code",
      "source": [
        "lsvc =  LinearSVC(labelCol = 'label', featuresCol = 'Normalized Features', regParam = 0.001, maxIter = 10)\n",
        "model= lsvc.fit(normalized_df_train)\n",
        "predictions = model.transform(normalized_df_test)\n",
        "print_metrics(predictions)"
      ],
      "metadata": {
        "id": "6KpGKDhrip8H",
        "colab": {
          "base_uri": "https://localhost:8080/"
        },
        "outputId": "ef278700-7980-44c8-d646-400e075364fa"
      },
      "execution_count": 76,
      "outputs": [
        {
          "output_type": "stream",
          "name": "stdout",
          "text": [
            "+-----+----------+-----+\n",
            "|label|prediction|count|\n",
            "+-----+----------+-----+\n",
            "|  1.0|       1.0|  246|\n",
            "|  0.0|       1.0|  106|\n",
            "|  1.0|       0.0|  187|\n",
            "|  0.0|       0.0|  641|\n",
            "+-----+----------+-----+\n",
            "\n",
            "AUC: 0.796\n",
            "Accuracy: 0.752\n",
            "Precision: 0.699\n",
            "Recall: 0.568\n",
            "F1 score: 0.627\n",
            "Weighted F-Measure: 0.745\n",
            "\n"
          ]
        }
      ]
    },
    {
      "cell_type": "code",
      "source": [
        "nb = NaiveBayes(labelCol = 'label', featuresCol = 'Normalized Features', smoothing = 0.2)\n",
        "model= nb.fit(normalized_df_train)\n",
        "predictions = model.transform(normalized_df_test)\n",
        "print_metrics(predictions)"
      ],
      "metadata": {
        "id": "nzLFZ7wUiujX",
        "colab": {
          "base_uri": "https://localhost:8080/"
        },
        "outputId": "d53a41c6-f5e0-4928-fa5d-ce79c24d8ac3"
      },
      "execution_count": 77,
      "outputs": [
        {
          "output_type": "stream",
          "name": "stdout",
          "text": [
            "+-----+----------+-----+\n",
            "|label|prediction|count|\n",
            "+-----+----------+-----+\n",
            "|  1.0|       1.0|  230|\n",
            "|  0.0|       1.0|  100|\n",
            "|  1.0|       0.0|  203|\n",
            "|  0.0|       0.0|  647|\n",
            "+-----+----------+-----+\n",
            "\n",
            "AUC: 0.575\n",
            "Accuracy: 0.743\n",
            "Precision: 0.697\n",
            "Recall: 0.531\n",
            "F1 score: 0.603\n",
            "Weighted F-Measure: 0.734\n",
            "\n"
          ]
        }
      ]
    },
    {
      "cell_type": "markdown",
      "source": [
        "## 7.3 Comparing Extraction Techniques"
      ],
      "metadata": {
        "id": "-k0_85w-ixVe"
      }
    },
    {
      "cell_type": "code",
      "source": [
        "df_combined_processed = preprocess_text(df_all_combined, 'none', 10000000000)\n",
        "hashingTF = HashingTF(inputCol=\"Pruned Textual Contents\", outputCol=\"rawFeatures\")\n",
        "featurizedData = hashingTF.transform(df_combined_processed)\n",
        "idf = IDF(inputCol=\"rawFeatures\", outputCol=\"TF-IDF\")\n",
        "idfModel = idf.fit(featurizedData)\n",
        "rescaledData = idfModel.transform(featurizedData)\n",
        "rescaledData = rescaledData.withColumnRenamed('features','CountVectorizer').select('SUMMARY','Pruned Textual Contents','label','CountVectorizer','TF-IDF')\n",
        "word2vec = Word2Vec(vectorSize = 10000, inputCol = 'Pruned Textual Contents', outputCol = 'Word2Vec')\n",
        "model = word2vec.fit(rescaledData)\n",
        "result = model.transform(rescaledData)\n",
        "assembler = VectorAssembler(inputCols = [\"CountVectorizer\", \"TF-IDF\",\"Word2Vec\"], outputCol = \"CombinedFeatures\")\n",
        "assembled = assembler.transform(result)\n",
        "#display(assembled)\n",
        "assembled.show(n=10)"
      ],
      "metadata": {
        "id": "LP5WW5Nkiyjl",
        "colab": {
          "base_uri": "https://localhost:8080/"
        },
        "outputId": "6e25a0b4-af3f-4a7d-eded-e0b0fd2979d8"
      },
      "execution_count": 86,
      "outputs": [
        {
          "output_type": "stream",
          "name": "stdout",
          "text": [
            "+--------------------+-----------------------+-----+--------------------+--------------------+--------------------+--------------------+\n",
            "|             SUMMARY|Pruned Textual Contents|label|     CountVectorizer|              TF-IDF|            Word2Vec|    CombinedFeatures|\n",
            "+--------------------+-----------------------+-----+--------------------+--------------------+--------------------+--------------------+\n",
            "|HTTPClient 4.1 au...|   [httpclient, auto...|  0.0|(5648,[8,119,398,...|(262144,[34146,44...|[-0.0011841046980...|(277792,[8,119,39...|\n",
            "|Setting SSLSocket...|   [set, sslsocket, ...|  0.0|(5648,[24,200,473...|(262144,[111743,1...|[-0.0016788046341...|(277792,[24,200,4...|\n",
            "|Via NTLM proxy to...|   [via, ntlm, proxi...|  0.0|(5648,[53,104,112...|(262144,[11941,33...|[-7.8199575596234...|(277792,[53,104,1...|\n",
            "|HttpState PREEMPT...|   [httpstate, preem...|  0.0|(5648,[8,23,773,8...|(262144,[85221,12...|[-0.0020131791864...|(277792,[8,23,773...|\n",
            "|ClientConnectionM...|   [clientconnection...|  0.0|(5648,[2,35,1584,...|(262144,[48885,49...|[-5.2425989997573...|(277792,[2,35,158...|\n",
            "|CacheEntryUpdater...|   [cacheentryupdat,...|  1.0|(5648,[0,28,74,14...|(262144,[65350,82...|[-7.5072460042844...|(277792,[0,28,74,...|\n",
            "|Stale connections...|   [stale, connect, ...|  1.0|(5648,[3,60,384,4...|(262144,[24980,36...|[-2.9958955792608...|(277792,[3,60,384...|\n",
            "|http client cache...|   [http, client, ca...|  1.0|(5648,[0,24,27,28...|(262144,[50293,64...|[-7.1341599104925...|(277792,[0,24,27,...|\n",
            "|CachingHttpClient...|   [cachinghttpcli, ...|  1.0|(5648,[0,236,280,...|(262144,[8297,141...|[2.64457162302278...|(277792,[0,236,28...|\n",
            "|cache does not va...|   [cach, not, valid...|  1.0|(5648,[0,28,158,2...|(262144,[82475,21...|[-5.0156965638355...|(277792,[0,28,158...|\n",
            "+--------------------+-----------------------+-----+--------------------+--------------------+--------------------+--------------------+\n",
            "only showing top 10 rows\n",
            "\n"
          ]
        }
      ]
    },
    {
      "cell_type": "code",
      "source": [
        "df_train, df_test = assembled.randomSplit([0.8, 0.2], seed = 1138)\n",
        " \n",
        "# LSVC used for comparison\n",
        "print('With CountVectorier-------------------------------------')\n",
        "lsvc =  LinearSVC(labelCol = 'label', featuresCol = 'CountVectorizer', regParam = 0.010, maxIter = 15)\n",
        "model= lsvc.fit(df_train)\n",
        "predictions = model.transform(df_test)\n",
        "print_metrics(predictions)\n",
        " \n",
        "print('With TF-IDF-------------------------------------')\n",
        "lsvc =  LinearSVC(labelCol = 'label', featuresCol = 'TF-IDF', regParam = 0.010, maxIter = 15)\n",
        "model= lsvc.fit(df_train)\n",
        "predictions = model.transform(df_test)\n",
        "print_metrics(predictions)\n",
        " \n",
        "print('With Word2Vec-------------------------------------')\n",
        "lsvc =  LinearSVC(labelCol = 'label', featuresCol = 'Word2Vec', regParam = 0.010, maxIter = 15)\n",
        "model= lsvc.fit(df_train)\n",
        "predictions = model.transform(df_test)\n",
        "print_metrics(predictions)\n",
        " \n",
        "print('With All Combined-------------------------------------')\n",
        "lsvc =  LinearSVC(labelCol = 'label', featuresCol = 'CombinedFeatures', regParam = 0.010, maxIter = 15)\n",
        "model= lsvc.fit(df_train)\n",
        "predictions = model.transform(df_test)\n",
        "print_metrics(predictions)"
      ],
      "metadata": {
        "id": "w0MAmxGVi6ou",
        "colab": {
          "base_uri": "https://localhost:8080/"
        },
        "outputId": "967b8dee-3db3-457c-d0bb-c580e44a46cc"
      },
      "execution_count": 79,
      "outputs": [
        {
          "output_type": "stream",
          "name": "stdout",
          "text": [
            "With CountVectorier-------------------------------------\n",
            "+-----+----------+-----+\n",
            "|label|prediction|count|\n",
            "+-----+----------+-----+\n",
            "|  1.0|       1.0|  316|\n",
            "|  0.0|       1.0|  120|\n",
            "|  1.0|       0.0|  165|\n",
            "|  0.0|       0.0|  721|\n",
            "+-----+----------+-----+\n",
            "\n",
            "AUC: 0.843\n",
            "Accuracy: 0.784\n",
            "Precision: 0.725\n",
            "Recall: 0.657\n",
            "F1 score: 0.689\n",
            "Weighted F-Measure: 0.782\n",
            "\n",
            "With TF-IDF-------------------------------------\n",
            "+-----+----------+-----+\n",
            "|label|prediction|count|\n",
            "+-----+----------+-----+\n",
            "|  1.0|       1.0|  316|\n",
            "|  0.0|       1.0|  121|\n",
            "|  1.0|       0.0|  165|\n",
            "|  0.0|       0.0|  720|\n",
            "+-----+----------+-----+\n",
            "\n",
            "AUC: 0.843\n",
            "Accuracy: 0.784\n",
            "Precision: 0.723\n",
            "Recall: 0.657\n",
            "F1 score: 0.688\n",
            "Weighted F-Measure: 0.781\n",
            "\n",
            "With Word2Vec-------------------------------------\n",
            "+-----+----------+-----+\n",
            "|label|prediction|count|\n",
            "+-----+----------+-----+\n",
            "|  1.0|       1.0|  346|\n",
            "|  0.0|       1.0|  263|\n",
            "|  1.0|       0.0|  135|\n",
            "|  0.0|       0.0|  578|\n",
            "+-----+----------+-----+\n",
            "\n",
            "AUC: 0.758\n",
            "Accuracy: 0.699\n",
            "Precision: 0.568\n",
            "Recall: 0.719\n",
            "F1 score: 0.635\n",
            "Weighted F-Measure: 0.704\n",
            "\n",
            "With All Combined-------------------------------------\n",
            "+-----+----------+-----+\n",
            "|label|prediction|count|\n",
            "+-----+----------+-----+\n",
            "|  1.0|       1.0|  355|\n",
            "|  0.0|       1.0|  154|\n",
            "|  1.0|       0.0|  126|\n",
            "|  0.0|       0.0|  687|\n",
            "+-----+----------+-----+\n",
            "\n",
            "AUC: 0.857\n",
            "Accuracy: 0.788\n",
            "Precision: 0.697\n",
            "Recall: 0.738\n",
            "F1 score: 0.717\n",
            "Weighted F-Measure: 0.789\n",
            "\n"
          ]
        }
      ]
    },
    {
      "cell_type": "markdown",
      "source": [
        "## 7.4 Comparing Against Original Paper Results"
      ],
      "metadata": {
        "id": "XHRAKPXNi9JD"
      }
    },
    {
      "cell_type": "code",
      "source": [
        "df_httpclient = df_issues_original.filter(col(\"ID\").contains(\"HTTPCLIENT\"))\n",
        "df_lucene = df_issues_original.filter(col(\"ID\").contains(\"JCR\"))\n",
        "df_jcr = df_issues_original.filter(col(\"ID\").contains(\"LUCENE\"))"
      ],
      "metadata": {
        "id": "I4Tf06v1i_yv"
      },
      "execution_count": 80,
      "outputs": []
    },
    {
      "cell_type": "code",
      "source": [
        "df_httpclient_processed = preprocess_text(df_httpclient, 'none', 'all')\n",
        "df_http_train, df_http_test = df_httpclient_processed.randomSplit([0.7, 0.3], seed = 50)\n",
        " \n",
        " \n",
        "nb = NaiveBayes(labelCol = 'label', featuresCol = 'features', smoothing = 0.6)\n",
        "model = nb.fit(df_http_train)\n",
        "predictions = model.transform(df_http_test)\n",
        "print_metrics(predictions)"
      ],
      "metadata": {
        "id": "53YCtxkejEOn",
        "colab": {
          "base_uri": "https://localhost:8080/"
        },
        "outputId": "11da06d5-b223-49f0-fdd0-b908ed011c7a"
      },
      "execution_count": 81,
      "outputs": [
        {
          "output_type": "stream",
          "name": "stdout",
          "text": [
            "+-----+----------+-----+\n",
            "|label|prediction|count|\n",
            "+-----+----------+-----+\n",
            "|  1.0|       1.0|   84|\n",
            "|  0.0|       1.0|   29|\n",
            "|  1.0|       0.0|   23|\n",
            "|  0.0|       0.0|   89|\n",
            "+-----+----------+-----+\n",
            "\n",
            "AUC: 0.527\n",
            "Accuracy: 0.769\n",
            "Precision: 0.743\n",
            "Recall: 0.785\n",
            "F1 score: 0.764\n",
            "Weighted F-Measure: 0.769\n",
            "\n"
          ]
        }
      ]
    },
    {
      "cell_type": "code",
      "source": [
        "df_lucene_processed = preprocess_text(df_lucene, 'none', 'all')\n",
        "df_lucene_train, df_lucene_test = df_lucene_processed.randomSplit([0.7, 0.3], seed = 50)\n",
        " \n",
        " \n",
        "nb = NaiveBayes(labelCol = 'label', featuresCol = 'features', smoothing = 0.6)\n",
        "model = nb.fit(df_lucene_train)\n",
        "predictions = model.transform(df_lucene_test)\n",
        "print_metrics(predictions)"
      ],
      "metadata": {
        "id": "dILkv-JbjJ0T",
        "colab": {
          "base_uri": "https://localhost:8080/"
        },
        "outputId": "38eb5ec7-904c-4acf-bec6-756fd1ce00fc"
      },
      "execution_count": 82,
      "outputs": [
        {
          "output_type": "stream",
          "name": "stdout",
          "text": [
            "+-----+----------+-----+\n",
            "|label|prediction|count|\n",
            "+-----+----------+-----+\n",
            "|  1.0|       1.0|  214|\n",
            "|  0.0|       1.0|   86|\n",
            "|  1.0|       0.0|   50|\n",
            "|  0.0|       0.0|  371|\n",
            "+-----+----------+-----+\n",
            "\n",
            "AUC: 0.437\n",
            "Accuracy: 0.811\n",
            "Precision: 0.713\n",
            "Recall: 0.811\n",
            "F1 score: 0.759\n",
            "Weighted F-Measure: 0.814\n",
            "\n"
          ]
        }
      ]
    },
    {
      "cell_type": "code",
      "source": [
        "df_jcr_processed = preprocess_text(df_jcr, 'none', 'all')\n",
        "df_jcr_train, df_jcr_test = df_jcr_processed.randomSplit([0.7, 0.3], seed = 50)\n",
        " \n",
        " \n",
        "nb = NaiveBayes(labelCol = 'label', featuresCol = 'features', smoothing = 0.6)\n",
        "model = nb.fit(df_jcr_train)\n",
        "predictions = model.transform(df_jcr_test)\n",
        "print_metrics(predictions)"
      ],
      "metadata": {
        "id": "nnTozDFEjLTT",
        "colab": {
          "base_uri": "https://localhost:8080/"
        },
        "outputId": "e2a6862d-f8ae-4ba7-abc8-4581ecc98b52"
      },
      "execution_count": 83,
      "outputs": [
        {
          "output_type": "stream",
          "name": "stdout",
          "text": [
            "+-----+----------+-----+\n",
            "|label|prediction|count|\n",
            "+-----+----------+-----+\n",
            "|  1.0|       1.0|  155|\n",
            "|  0.0|       1.0|   89|\n",
            "|  1.0|       0.0|   45|\n",
            "|  0.0|       0.0|  441|\n",
            "+-----+----------+-----+\n",
            "\n",
            "AUC: 0.428\n",
            "Accuracy: 0.816\n",
            "Precision: 0.635\n",
            "Recall: 0.775\n",
            "F1 score: 0.698\n",
            "Weighted F-Measure: 0.822\n",
            "\n"
          ]
        }
      ]
    }
  ]
}